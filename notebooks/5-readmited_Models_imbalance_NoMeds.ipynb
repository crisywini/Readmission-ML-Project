{
 "cells": [
  {
   "attachments": {},
   "cell_type": "markdown",
   "metadata": {
    "colab_type": "text",
    "id": "Wbepu01LHJoL"
   },
   "source": [
    "# Readmission Classification - ImBalanced data without Meds\n",
    "[Jose R. Zapata](https://joserzapata.github.io)\n",
    "- https://joserzapata.github.io\n",
    "- https://twitter.com/joserzapata\n",
    "- https://www.linkedin.com/in/jose-ricardo-zapata-gonzalez/       \n"
   ]
  },
  {
   "attachments": {},
   "cell_type": "markdown",
   "metadata": {
    "toc": true
   },
   "source": [
    "<h1>Contenido<span class=\"tocSkip\"></span></h1>\n",
    "<div class=\"toc\"><ul class=\"toc-item\"><li><span><a href=\"#Readmission-Classification---ImBalanced-data-without-Meds\" data-toc-modified-id=\"Readmission-Classification---ImBalanced-data-without-Meds-1\"><span class=\"toc-item-num\">1&nbsp;&nbsp;</span>Readmission Classification - ImBalanced data without Meds</a></span><ul class=\"toc-item\"><li><span><a href=\"#Introduction\" data-toc-modified-id=\"Introduction-1.1\"><span class=\"toc-item-num\">1.1&nbsp;&nbsp;</span>Introduction</a></span></li><li><span><a href=\"#Main-Objective\" data-toc-modified-id=\"Main-Objective-1.2\"><span class=\"toc-item-num\">1.2&nbsp;&nbsp;</span>Main Objective</a></span></li><li><span><a href=\"#Principal-References\" data-toc-modified-id=\"Principal-References-1.3\"><span class=\"toc-item-num\">1.3&nbsp;&nbsp;</span>Principal References</a></span><ul class=\"toc-item\"><li><span><a href=\"#Paper\" data-toc-modified-id=\"Paper-1.3.1\"><span class=\"toc-item-num\">1.3.1&nbsp;&nbsp;</span>Paper</a></span></li><li><span><a href=\"#Dataset\" data-toc-modified-id=\"Dataset-1.3.2\"><span class=\"toc-item-num\">1.3.2&nbsp;&nbsp;</span>Dataset</a></span></li><li><span><a href=\"#Data-description\" data-toc-modified-id=\"Data-description-1.3.3\"><span class=\"toc-item-num\">1.3.3&nbsp;&nbsp;</span>Data description</a></span></li></ul></li></ul></li><li><span><a href=\"#Import-libraries\" data-toc-modified-id=\"Import-libraries-2\"><span class=\"toc-item-num\">2&nbsp;&nbsp;</span>Import libraries</a></span></li><li><span><a href=\"#Load-Dataset\" data-toc-modified-id=\"Load-Dataset-3\"><span class=\"toc-item-num\">3&nbsp;&nbsp;</span>Load Dataset</a></span><ul class=\"toc-item\"><li><ul class=\"toc-item\"><li><ul class=\"toc-item\"><li><span><a href=\"#Remove-Near-Zero-Variance\" data-toc-modified-id=\"Remove-Near-Zero-Variance-3.0.0.1\"><span class=\"toc-item-num\">3.0.0.1&nbsp;&nbsp;</span>Remove Near Zero Variance</a></span></li></ul></li></ul></li><li><span><a href=\"#Encode-categorical-colums\" data-toc-modified-id=\"Encode-categorical-colums-3.1\"><span class=\"toc-item-num\">3.1&nbsp;&nbsp;</span>Encode categorical colums</a></span></li><li><span><a href=\"#Input-and-output-data\" data-toc-modified-id=\"Input-and-output-data-3.2\"><span class=\"toc-item-num\">3.2&nbsp;&nbsp;</span>Input and output data</a></span></li><li><span><a href=\"#Split-dataset-70/30\" data-toc-modified-id=\"Split-dataset-70/30-3.3\"><span class=\"toc-item-num\">3.3&nbsp;&nbsp;</span>Split dataset 70/30</a></span></li></ul></li><li><span><a href=\"#MODELS\" data-toc-modified-id=\"MODELS-4\"><span class=\"toc-item-num\">4&nbsp;&nbsp;</span>MODELS</a></span><ul class=\"toc-item\"><li><span><a href=\"#Evaluation-Metric\" data-toc-modified-id=\"Evaluation-Metric-4.1\"><span class=\"toc-item-num\">4.1&nbsp;&nbsp;</span>Evaluation Metric</a></span></li><li><span><a href=\"#Model-Selection\" data-toc-modified-id=\"Model-Selection-4.2\"><span class=\"toc-item-num\">4.2&nbsp;&nbsp;</span>Model Selection</a></span></li><li><span><a href=\"#Results\" data-toc-modified-id=\"Results-4.3\"><span class=\"toc-item-num\">4.3&nbsp;&nbsp;</span>Results</a></span></li></ul></li><li><span><a href=\"#Hyperparameter-Tunning\" data-toc-modified-id=\"Hyperparameter-Tunning-5\"><span class=\"toc-item-num\">5&nbsp;&nbsp;</span>Hyperparameter Tunning</a></span></li><li><span><a href=\"#evaluation-Test-set\" data-toc-modified-id=\"evaluation-Test-set-6\"><span class=\"toc-item-num\">6&nbsp;&nbsp;</span>evaluation Test set</a></span><ul class=\"toc-item\"><li><span><a href=\"#Naïve-Bayes\" data-toc-modified-id=\"Naïve-Bayes-6.1\"><span class=\"toc-item-num\">6.1&nbsp;&nbsp;</span>Naïve Bayes</a></span></li><li><span><a href=\"#SVM\" data-toc-modified-id=\"SVM-6.2\"><span class=\"toc-item-num\">6.2&nbsp;&nbsp;</span>SVM</a></span></li><li><span><a href=\"#Conclusions\" data-toc-modified-id=\"Conclusions-6.3\"><span class=\"toc-item-num\">6.3&nbsp;&nbsp;</span>Conclusions</a></span></li></ul></li><li><span><a href=\"#References\" data-toc-modified-id=\"References-7\"><span class=\"toc-item-num\">7&nbsp;&nbsp;</span>References</a></span></li></ul></div>"
   ]
  },
  {
   "attachments": {},
   "cell_type": "markdown",
   "metadata": {
    "colab_type": "text",
    "id": "Wa9xYivpD4Eo"
   },
   "source": [
    "## Introduction\n",
    "\n",
    "\n",
    "Analyze factors related to readmission as well as other outcomes pertaining to patients in order to classify a patient-hospital outcome.\n",
    "\n",
    "3 different outputs:\n",
    "\n",
    "1. No readmission\n",
    "\n",
    "2. A readmission in less than `30` days (this situation is not good, because maybe your treatment was not appropriate);\n",
    "\n",
    "3. A readmission in more than 30 days (this one is not so good as well the last one, however, the reason could be the state of the patient.\n",
    "\n",
    "Hospital readmissions can negatively impact cost and patient outcomes.\n",
    "\n",
    "Reported in [Why do patients keep coming back? Results of a Readmitted Patient Survey](https://www.tandfonline.com/doi/abs/10.1080/00981389.2014.966881), the results of a patient survey developed as part of regular hospital quality assurance activities. Two-thirds of patients reported good discharge experiences but were still readmitted. One-third of patients discharged had a post-discharge doctor appointment scheduled; half were readmitted before that scheduled appointment.\n",
    "\n",
    "\n",
    "## Main Objective\n",
    "\n",
    "> **How effective was the treatment received in hospital?** \n",
    "\n",
    "## Principal References\n",
    "\n",
    "### Paper\n",
    "\n",
    "Beata Strack, Jonathan P. DeShazo, Chris Gennings, Juan L. Olmo, Sebastian Ventura, Krzysztof J. Cios, and John N. Clore, “Impact of HbA1c Measurement on Hospital Readmission Rates: Analysis of 70,000 Clinical Database Patient Records,” BioMed Research International, vol. 2014, Article ID 781670, 11 pages, 2014.\n",
    "\n",
    "https://www.hindawi.com/journals/bmri/2014/781670/\n",
    "\n",
    "### Dataset\n",
    "\n",
    "https://archive.ics.uci.edu/ml/datasets/Diabetes+130-US+hospitals+for+years+1999-2008#\n",
    "\n",
    "### Data description\n",
    "\n",
    "https://www.hindawi.com/journals/bmri/2014/781670/tab1/"
   ]
  },
  {
   "attachments": {},
   "cell_type": "markdown",
   "metadata": {
    "colab_type": "text",
    "id": "MjPWhesSHJoO"
   },
   "source": [
    "# Import libraries"
   ]
  },
  {
   "cell_type": "code",
   "execution_count": 1,
   "metadata": {
    "colab": {},
    "colab_type": "code",
    "id": "ksQYJRZTHJoP"
   },
   "outputs": [],
   "source": [
    "import pandas as pd\n",
    "import matplotlib.pyplot as plt\n",
    "\n",
    "from sklearn.model_selection import train_test_split\n",
    "from sklearn import model_selection\n",
    "import plotly.express as px"
   ]
  },
  {
   "attachments": {},
   "cell_type": "markdown",
   "metadata": {
    "colab_type": "text",
    "id": "LM4dC7lBHJoT"
   },
   "source": [
    "# Load Dataset"
   ]
  },
  {
   "cell_type": "code",
   "execution_count": 2,
   "metadata": {
    "colab": {},
    "colab_type": "code",
    "id": "R2C-zrtBHJoT"
   },
   "outputs": [],
   "source": [
    "data = pd.read_csv(\"../data/processed/data_imbalanced.csv\")"
   ]
  },
  {
   "cell_type": "code",
   "execution_count": 3,
   "metadata": {
    "colab": {},
    "colab_type": "code",
    "id": "ZYzna68bHJoW",
    "tags": []
   },
   "outputs": [
    {
     "name": "stdout",
     "output_type": "stream",
     "text": [
      "<class 'pandas.core.frame.DataFrame'>\n",
      "RangeIndex: 69948 entries, 0 to 69947\n",
      "Data columns (total 43 columns):\n",
      " #   Column                    Non-Null Count  Dtype \n",
      "---  ------                    --------------  ----- \n",
      " 0   race                      69948 non-null  object\n",
      " 1   age                       69948 non-null  object\n",
      " 2   admission_type_id         69948 non-null  int64 \n",
      " 3   discharge_disposition_id  69948 non-null  int64 \n",
      " 4   admission_source_id       69948 non-null  int64 \n",
      " 5   time_in_hospital          69948 non-null  int64 \n",
      " 6   medical_specialty         69948 non-null  object\n",
      " 7   num_lab_procedures        69948 non-null  int64 \n",
      " 8   num_procedures            69948 non-null  int64 \n",
      " 9   num_medications           69948 non-null  int64 \n",
      " 10  number_outpatient         69948 non-null  int64 \n",
      " 11  number_emergency          69948 non-null  int64 \n",
      " 12  number_inpatient          69948 non-null  int64 \n",
      " 13  diag_1                    69948 non-null  object\n",
      " 14  diag_2                    69948 non-null  object\n",
      " 15  diag_3                    69948 non-null  object\n",
      " 16  number_diagnoses          69948 non-null  int64 \n",
      " 17  max_glu_serum             69948 non-null  int64 \n",
      " 18  A1Cresult                 69948 non-null  int64 \n",
      " 19  metformin                 69948 non-null  int64 \n",
      " 20  repaglinide               69948 non-null  int64 \n",
      " 21  nateglinide               69948 non-null  int64 \n",
      " 22  chlorpropamide            69948 non-null  int64 \n",
      " 23  glimepiride               69948 non-null  int64 \n",
      " 24  acetohexamide             69948 non-null  int64 \n",
      " 25  glipizide                 69948 non-null  int64 \n",
      " 26  glyburide                 69948 non-null  int64 \n",
      " 27  tolbutamide               69948 non-null  int64 \n",
      " 28  pioglitazone              69948 non-null  int64 \n",
      " 29  rosiglitazone             69948 non-null  int64 \n",
      " 30  acarbose                  69948 non-null  int64 \n",
      " 31  miglitol                  69948 non-null  int64 \n",
      " 32  troglitazone              69948 non-null  int64 \n",
      " 33  tolazamide                69948 non-null  int64 \n",
      " 34  insulin                   69948 non-null  int64 \n",
      " 35  glyburide-metformin       69948 non-null  int64 \n",
      " 36  glipizide-metformin       69948 non-null  int64 \n",
      " 37  metformin-rosiglitazone   69948 non-null  int64 \n",
      " 38  metformin-pioglitazone    69948 non-null  int64 \n",
      " 39  change                    69948 non-null  int64 \n",
      " 40  diabetesMed               69948 non-null  int64 \n",
      " 41  readmitted                69948 non-null  int64 \n",
      " 42  numchange                 69948 non-null  int64 \n",
      "dtypes: int64(37), object(6)\n",
      "memory usage: 22.9+ MB\n"
     ]
    }
   ],
   "source": [
    "data.info()"
   ]
  },
  {
   "attachments": {},
   "cell_type": "markdown",
   "metadata": {},
   "source": [
    "#### Remove Near Zero Variance\n",
    "\n",
    "This medications had near zero Variance, they can have a little influence in the result. but remeved this fefatures, reduce the fact of generate dummy variables and increase the computation complexities (mostly related with over fitting). Accordingly  i will remove these medications variables.\n",
    "\n",
    "- repaglinide: 98.8% = No\n",
    "- nateglinide: 99.3% = No\n",
    "- chlorpropamide: 99.9 = No\n",
    "- acetohexamide: 99.9% = No\n",
    "- tolbutamide: 99.9% = No\n",
    "- acarbose: 99.7% = No\n",
    "- miglitol: 99.9% = No\n",
    "- troglitazone: 99.9% = No\n",
    "- tolazamide: 99.9% = No\n",
    "- glyburide-metformin: = 99.3%\n",
    "- glipizide-metformin: = 99.9%\n",
    "- metformin-rosiglitazone: = 99.9%\n",
    "- metformin-pioglitazone: = 99.9%"
   ]
  },
  {
   "cell_type": "code",
   "execution_count": 4,
   "metadata": {},
   "outputs": [],
   "source": [
    "meds = ['repaglinide', 'nateglinide', 'chlorpropamide', 'acarbose', 'miglitol', 'glyburide-metformin', 'tolazamide', 'metformin-pioglitazone','metformin-rosiglitazone', 'glipizide-metformin', 'troglitazone', 'tolbutamide', 'acetohexamide']"
   ]
  },
  {
   "cell_type": "code",
   "execution_count": 5,
   "metadata": {},
   "outputs": [],
   "source": [
    "data.drop(meds,axis=1,inplace=True)"
   ]
  },
  {
   "attachments": {},
   "cell_type": "markdown",
   "metadata": {
    "colab": {},
    "colab_type": "code",
    "id": "DsDqeIPbHJpI"
   },
   "source": [
    "## Encode categorical colums"
   ]
  },
  {
   "cell_type": "code",
   "execution_count": 6,
   "metadata": {
    "colab": {},
    "colab_type": "code",
    "id": "6cCf27oSHJpB"
   },
   "outputs": [],
   "source": [
    "cat_cols = list(data.select_dtypes('object').columns)\n",
    "class_dict = {}\n",
    "for col in cat_cols:\n",
    "    data = pd.concat([data.drop(col, axis=1), pd.get_dummies(data[col], prefix=col, drop_first=True)], axis=1)"
   ]
  },
  {
   "cell_type": "code",
   "execution_count": 7,
   "metadata": {
    "tags": []
   },
   "outputs": [
    {
     "name": "stdout",
     "output_type": "stream",
     "text": [
      "<class 'pandas.core.frame.DataFrame'>\n",
      "RangeIndex: 69948 entries, 0 to 69947\n",
      "Columns: 131 entries, admission_type_id to diag_3_Respiratory\n",
      "dtypes: int64(24), uint8(107)\n",
      "memory usage: 19.9 MB\n"
     ]
    }
   ],
   "source": [
    "data.info()"
   ]
  },
  {
   "attachments": {},
   "cell_type": "markdown",
   "metadata": {},
   "source": [
    "## Input and output data\n",
    "\n",
    "Get the names of input features and output feature"
   ]
  },
  {
   "cell_type": "code",
   "execution_count": 8,
   "metadata": {},
   "outputs": [],
   "source": [
    "X = data.drop(\"readmitted\", axis=1)\n",
    "y= data[\"readmitted\"]"
   ]
  },
  {
   "cell_type": "code",
   "execution_count": 9,
   "metadata": {},
   "outputs": [
    {
     "data": {
      "text/plain": [
       "(69948, 130)"
      ]
     },
     "execution_count": 9,
     "metadata": {},
     "output_type": "execute_result"
    }
   ],
   "source": [
    "X.shape"
   ]
  },
  {
   "cell_type": "code",
   "execution_count": 10,
   "metadata": {},
   "outputs": [
    {
     "data": {
      "text/plain": [
       "(69948,)"
      ]
     },
     "execution_count": 10,
     "metadata": {},
     "output_type": "execute_result"
    }
   ],
   "source": [
    "y.shape"
   ]
  },
  {
   "attachments": {},
   "cell_type": "markdown",
   "metadata": {},
   "source": [
    "## Split dataset 70/30\n",
    "\n",
    "70% to train the model\n",
    "30% to test the model\n",
    "\n",
    "Split data stratify = y because the dataset is imbalanced"
   ]
  },
  {
   "cell_type": "code",
   "execution_count": 11,
   "metadata": {},
   "outputs": [],
   "source": [
    "\n",
    "X_train, X_test, y_train, y_test = train_test_split(X, y, test_size=.3,random_state =123, stratify=y)"
   ]
  },
  {
   "cell_type": "code",
   "execution_count": 12,
   "metadata": {
    "tags": []
   },
   "outputs": [
    {
     "name": "stdout",
     "output_type": "stream",
     "text": [
      " Percentage of positives in test set=12.575649273290445 , train set=12.572759022118742\n"
     ]
    }
   ],
   "source": [
    "perc_test = y_test.value_counts()[1]*100/len(y_test)\n",
    "perc_train = y_train.value_counts()[1]*100/len(y_train)\n",
    "\n",
    "print(f\" Percentage of positives in test set={perc_test} , train set={perc_train}\")"
   ]
  },
  {
   "attachments": {},
   "cell_type": "markdown",
   "metadata": {},
   "source": [
    "# MODELS\n",
    "\n",
    "## Evaluation Metric\n",
    "\n",
    "The selected evaluation metric is the \n",
    "> **Recall - Sensitivity**\n",
    "\n",
    "A False Negative might delay more tests or treatment, \n",
    "however a False Positive may just lead to more tests or treatments – not as costly as putting a life at stake.\n"
   ]
  },
  {
   "cell_type": "code",
   "execution_count": 13,
   "metadata": {},
   "outputs": [],
   "source": [
    "# Evaluation\n",
    "from sklearn.metrics import accuracy_score\n",
    "from sklearn.metrics import precision_score\n",
    "from sklearn.metrics import recall_score"
   ]
  },
  {
   "attachments": {},
   "cell_type": "markdown",
   "metadata": {},
   "source": [
    "Interpretability is important so first intents will be with classic Machine Learning Models, No ensembles, No Neural Networks"
   ]
  },
  {
   "cell_type": "code",
   "execution_count": 14,
   "metadata": {},
   "outputs": [],
   "source": [
    "# Selected algorithms\n",
    "from sklearn.linear_model import LogisticRegression\n",
    "from sklearn.svm import SVC\n",
    "from sklearn.naive_bayes import GaussianNB\n",
    "from sklearn.tree import DecisionTreeClassifier"
   ]
  },
  {
   "attachments": {},
   "cell_type": "markdown",
   "metadata": {},
   "source": [
    "## Model Selection"
   ]
  },
  {
   "cell_type": "code",
   "execution_count": 15,
   "metadata": {
    "tags": []
   },
   "outputs": [
    {
     "name": "stdout",
     "output_type": "stream",
     "text": [
      "(LR, 0.08772481133446024, 0.00956358730000772\n",
      "(CART, 0.24682113606980108, 0.012510804156431358\n",
      "(NB, 0.9791227215900123, 0.004725103366423935\n"
     ]
    },
    {
     "name": "stderr",
     "output_type": "stream",
     "text": [
      "/home/joser/.cache/pypoetry/virtualenvs/readmission-ml-project-KWL3KW9z-py3.9/lib/python3.9/site-packages/sklearn/svm/_base.py:301: ConvergenceWarning: Solver terminated early (max_iter=1000).  Consider pre-processing your data with StandardScaler or MinMaxScaler.\n",
      "  warnings.warn(\n",
      "/home/joser/.cache/pypoetry/virtualenvs/readmission-ml-project-KWL3KW9z-py3.9/lib/python3.9/site-packages/sklearn/svm/_base.py:301: ConvergenceWarning: Solver terminated early (max_iter=1000).  Consider pre-processing your data with StandardScaler or MinMaxScaler.\n",
      "  warnings.warn(\n",
      "/home/joser/.cache/pypoetry/virtualenvs/readmission-ml-project-KWL3KW9z-py3.9/lib/python3.9/site-packages/sklearn/svm/_base.py:301: ConvergenceWarning: Solver terminated early (max_iter=1000).  Consider pre-processing your data with StandardScaler or MinMaxScaler.\n",
      "  warnings.warn(\n",
      "/home/joser/.cache/pypoetry/virtualenvs/readmission-ml-project-KWL3KW9z-py3.9/lib/python3.9/site-packages/sklearn/svm/_base.py:301: ConvergenceWarning: Solver terminated early (max_iter=1000).  Consider pre-processing your data with StandardScaler or MinMaxScaler.\n",
      "  warnings.warn(\n",
      "/home/joser/.cache/pypoetry/virtualenvs/readmission-ml-project-KWL3KW9z-py3.9/lib/python3.9/site-packages/sklearn/svm/_base.py:301: ConvergenceWarning: Solver terminated early (max_iter=1000).  Consider pre-processing your data with StandardScaler or MinMaxScaler.\n",
      "  warnings.warn(\n",
      "/home/joser/.cache/pypoetry/virtualenvs/readmission-ml-project-KWL3KW9z-py3.9/lib/python3.9/site-packages/sklearn/svm/_base.py:301: ConvergenceWarning: Solver terminated early (max_iter=1000).  Consider pre-processing your data with StandardScaler or MinMaxScaler.\n",
      "  warnings.warn(\n",
      "/home/joser/.cache/pypoetry/virtualenvs/readmission-ml-project-KWL3KW9z-py3.9/lib/python3.9/site-packages/sklearn/svm/_base.py:301: ConvergenceWarning: Solver terminated early (max_iter=1000).  Consider pre-processing your data with StandardScaler or MinMaxScaler.\n",
      "  warnings.warn(\n",
      "/home/joser/.cache/pypoetry/virtualenvs/readmission-ml-project-KWL3KW9z-py3.9/lib/python3.9/site-packages/sklearn/svm/_base.py:301: ConvergenceWarning: Solver terminated early (max_iter=1000).  Consider pre-processing your data with StandardScaler or MinMaxScaler.\n",
      "  warnings.warn(\n",
      "/home/joser/.cache/pypoetry/virtualenvs/readmission-ml-project-KWL3KW9z-py3.9/lib/python3.9/site-packages/sklearn/svm/_base.py:301: ConvergenceWarning: Solver terminated early (max_iter=1000).  Consider pre-processing your data with StandardScaler or MinMaxScaler.\n",
      "  warnings.warn(\n",
      "/home/joser/.cache/pypoetry/virtualenvs/readmission-ml-project-KWL3KW9z-py3.9/lib/python3.9/site-packages/sklearn/svm/_base.py:301: ConvergenceWarning: Solver terminated early (max_iter=1000).  Consider pre-processing your data with StandardScaler or MinMaxScaler.\n",
      "  warnings.warn(\n"
     ]
    },
    {
     "name": "stdout",
     "output_type": "stream",
     "text": [
      "(SVM, 0.7912258562806196, 0.01816095275432366\n"
     ]
    }
   ],
   "source": [
    "seed =2\n",
    "models = []\n",
    "\n",
    "#logistic Regression\n",
    "models.append(('LR', LogisticRegression(solver='liblinear')))\n",
    "\n",
    "# Decision Tree classifier\n",
    "models.append(('CART', DecisionTreeClassifier()))\n",
    "\n",
    "# Naïve Bayes\n",
    "models.append(('NB', GaussianNB()))\n",
    "# SVM\n",
    "models.append(('SVM', SVC(C=1.0, kernel='rbf', max_iter=1000, tol=1e-3)))\n",
    "# evaluate each model in turn\n",
    "results = []\n",
    "names = []\n",
    "scoring = 'recall'\n",
    "for name, model in models:\n",
    "\t# Kfol cross validation for model selection\n",
    "\tkfold = model_selection.KFold(n_splits=10,shuffle= True, random_state=seed)\n",
    "\t#X train , y train\n",
    "\tcv_results = model_selection.cross_val_score(model, X_train, y_train,\n",
    "\t\t\t\t\t                             cv=kfold, scoring=scoring, n_jobs=-1)\n",
    "\tresults.append(cv_results)\n",
    "\tnames.append(name)\n",
    "\tmsg = f\"({name}, {cv_results.mean()}, {cv_results.std()}\"\n",
    "\tprint(msg)"
   ]
  },
  {
   "attachments": {},
   "cell_type": "markdown",
   "metadata": {},
   "source": [
    "## Results"
   ]
  },
  {
   "cell_type": "code",
   "execution_count": 16,
   "metadata": {
    "tags": []
   },
   "outputs": [
    {
     "data": {
      "application/vnd.plotly.v1+json": {
       "config": {
        "plotlyServerURL": "https://plotly.com"
       },
       "data": [
        {
         "alignmentgroup": "True",
         "hovertemplate": "variable=%{x}<br>value=%{y}<extra></extra>",
         "legendgroup": "",
         "marker": {
          "color": "#636efa"
         },
         "name": "",
         "notched": false,
         "offsetgroup": "",
         "orientation": "v",
         "showlegend": false,
         "type": "box",
         "x": [
          "LR",
          "LR",
          "LR",
          "LR",
          "LR",
          "LR",
          "LR",
          "LR",
          "LR",
          "LR",
          "CART",
          "CART",
          "CART",
          "CART",
          "CART",
          "CART",
          "CART",
          "CART",
          "CART",
          "CART",
          "NB",
          "NB",
          "NB",
          "NB",
          "NB",
          "NB",
          "NB",
          "NB",
          "NB",
          "NB",
          "SVM",
          "SVM",
          "SVM",
          "SVM",
          "SVM",
          "SVM",
          "SVM",
          "SVM",
          "SVM",
          "SVM"
         ],
         "x0": " ",
         "xaxis": "x",
         "y": [
          0.09836065573770492,
          0.09385113268608414,
          0.08346456692913386,
          0.08417508417508418,
          0.0880503144654088,
          0.08264462809917356,
          0.10596026490066225,
          0.09119496855345911,
          0.07846410684474124,
          0.07108239095315025,
          0.2540983606557377,
          0.23948220064724918,
          0.23622047244094488,
          0.2676767676767677,
          0.24842767295597484,
          0.2396694214876033,
          0.2599337748344371,
          0.2248427672955975,
          0.2587646076794658,
          0.23909531502423265,
          0.980327868852459,
          0.9724919093851133,
          0.9795275590551181,
          0.9797979797979798,
          0.970125786163522,
          0.9851239669421488,
          0.9834437086092715,
          0.9764150943396226,
          0.9849749582637729,
          0.9789983844911146,
          0.7754098360655738,
          0.8042071197411004,
          0.8094488188976378,
          0.765993265993266,
          0.7578616352201258,
          0.7983471074380165,
          0.7847682119205298,
          0.7971698113207547,
          0.8096828046744574,
          0.8093699515347335
         ],
         "y0": " ",
         "yaxis": "y"
        }
       ],
       "layout": {
        "boxmode": "group",
        "legend": {
         "tracegroupgap": 0
        },
        "template": {
         "data": {
          "bar": [
           {
            "error_x": {
             "color": "#2a3f5f"
            },
            "error_y": {
             "color": "#2a3f5f"
            },
            "marker": {
             "line": {
              "color": "#E5ECF6",
              "width": 0.5
             },
             "pattern": {
              "fillmode": "overlay",
              "size": 10,
              "solidity": 0.2
             }
            },
            "type": "bar"
           }
          ],
          "barpolar": [
           {
            "marker": {
             "line": {
              "color": "#E5ECF6",
              "width": 0.5
             },
             "pattern": {
              "fillmode": "overlay",
              "size": 10,
              "solidity": 0.2
             }
            },
            "type": "barpolar"
           }
          ],
          "carpet": [
           {
            "aaxis": {
             "endlinecolor": "#2a3f5f",
             "gridcolor": "white",
             "linecolor": "white",
             "minorgridcolor": "white",
             "startlinecolor": "#2a3f5f"
            },
            "baxis": {
             "endlinecolor": "#2a3f5f",
             "gridcolor": "white",
             "linecolor": "white",
             "minorgridcolor": "white",
             "startlinecolor": "#2a3f5f"
            },
            "type": "carpet"
           }
          ],
          "choropleth": [
           {
            "colorbar": {
             "outlinewidth": 0,
             "ticks": ""
            },
            "type": "choropleth"
           }
          ],
          "contour": [
           {
            "colorbar": {
             "outlinewidth": 0,
             "ticks": ""
            },
            "colorscale": [
             [
              0,
              "#0d0887"
             ],
             [
              0.1111111111111111,
              "#46039f"
             ],
             [
              0.2222222222222222,
              "#7201a8"
             ],
             [
              0.3333333333333333,
              "#9c179e"
             ],
             [
              0.4444444444444444,
              "#bd3786"
             ],
             [
              0.5555555555555556,
              "#d8576b"
             ],
             [
              0.6666666666666666,
              "#ed7953"
             ],
             [
              0.7777777777777778,
              "#fb9f3a"
             ],
             [
              0.8888888888888888,
              "#fdca26"
             ],
             [
              1,
              "#f0f921"
             ]
            ],
            "type": "contour"
           }
          ],
          "contourcarpet": [
           {
            "colorbar": {
             "outlinewidth": 0,
             "ticks": ""
            },
            "type": "contourcarpet"
           }
          ],
          "heatmap": [
           {
            "colorbar": {
             "outlinewidth": 0,
             "ticks": ""
            },
            "colorscale": [
             [
              0,
              "#0d0887"
             ],
             [
              0.1111111111111111,
              "#46039f"
             ],
             [
              0.2222222222222222,
              "#7201a8"
             ],
             [
              0.3333333333333333,
              "#9c179e"
             ],
             [
              0.4444444444444444,
              "#bd3786"
             ],
             [
              0.5555555555555556,
              "#d8576b"
             ],
             [
              0.6666666666666666,
              "#ed7953"
             ],
             [
              0.7777777777777778,
              "#fb9f3a"
             ],
             [
              0.8888888888888888,
              "#fdca26"
             ],
             [
              1,
              "#f0f921"
             ]
            ],
            "type": "heatmap"
           }
          ],
          "heatmapgl": [
           {
            "colorbar": {
             "outlinewidth": 0,
             "ticks": ""
            },
            "colorscale": [
             [
              0,
              "#0d0887"
             ],
             [
              0.1111111111111111,
              "#46039f"
             ],
             [
              0.2222222222222222,
              "#7201a8"
             ],
             [
              0.3333333333333333,
              "#9c179e"
             ],
             [
              0.4444444444444444,
              "#bd3786"
             ],
             [
              0.5555555555555556,
              "#d8576b"
             ],
             [
              0.6666666666666666,
              "#ed7953"
             ],
             [
              0.7777777777777778,
              "#fb9f3a"
             ],
             [
              0.8888888888888888,
              "#fdca26"
             ],
             [
              1,
              "#f0f921"
             ]
            ],
            "type": "heatmapgl"
           }
          ],
          "histogram": [
           {
            "marker": {
             "pattern": {
              "fillmode": "overlay",
              "size": 10,
              "solidity": 0.2
             }
            },
            "type": "histogram"
           }
          ],
          "histogram2d": [
           {
            "colorbar": {
             "outlinewidth": 0,
             "ticks": ""
            },
            "colorscale": [
             [
              0,
              "#0d0887"
             ],
             [
              0.1111111111111111,
              "#46039f"
             ],
             [
              0.2222222222222222,
              "#7201a8"
             ],
             [
              0.3333333333333333,
              "#9c179e"
             ],
             [
              0.4444444444444444,
              "#bd3786"
             ],
             [
              0.5555555555555556,
              "#d8576b"
             ],
             [
              0.6666666666666666,
              "#ed7953"
             ],
             [
              0.7777777777777778,
              "#fb9f3a"
             ],
             [
              0.8888888888888888,
              "#fdca26"
             ],
             [
              1,
              "#f0f921"
             ]
            ],
            "type": "histogram2d"
           }
          ],
          "histogram2dcontour": [
           {
            "colorbar": {
             "outlinewidth": 0,
             "ticks": ""
            },
            "colorscale": [
             [
              0,
              "#0d0887"
             ],
             [
              0.1111111111111111,
              "#46039f"
             ],
             [
              0.2222222222222222,
              "#7201a8"
             ],
             [
              0.3333333333333333,
              "#9c179e"
             ],
             [
              0.4444444444444444,
              "#bd3786"
             ],
             [
              0.5555555555555556,
              "#d8576b"
             ],
             [
              0.6666666666666666,
              "#ed7953"
             ],
             [
              0.7777777777777778,
              "#fb9f3a"
             ],
             [
              0.8888888888888888,
              "#fdca26"
             ],
             [
              1,
              "#f0f921"
             ]
            ],
            "type": "histogram2dcontour"
           }
          ],
          "mesh3d": [
           {
            "colorbar": {
             "outlinewidth": 0,
             "ticks": ""
            },
            "type": "mesh3d"
           }
          ],
          "parcoords": [
           {
            "line": {
             "colorbar": {
              "outlinewidth": 0,
              "ticks": ""
             }
            },
            "type": "parcoords"
           }
          ],
          "pie": [
           {
            "automargin": true,
            "type": "pie"
           }
          ],
          "scatter": [
           {
            "fillpattern": {
             "fillmode": "overlay",
             "size": 10,
             "solidity": 0.2
            },
            "type": "scatter"
           }
          ],
          "scatter3d": [
           {
            "line": {
             "colorbar": {
              "outlinewidth": 0,
              "ticks": ""
             }
            },
            "marker": {
             "colorbar": {
              "outlinewidth": 0,
              "ticks": ""
             }
            },
            "type": "scatter3d"
           }
          ],
          "scattercarpet": [
           {
            "marker": {
             "colorbar": {
              "outlinewidth": 0,
              "ticks": ""
             }
            },
            "type": "scattercarpet"
           }
          ],
          "scattergeo": [
           {
            "marker": {
             "colorbar": {
              "outlinewidth": 0,
              "ticks": ""
             }
            },
            "type": "scattergeo"
           }
          ],
          "scattergl": [
           {
            "marker": {
             "colorbar": {
              "outlinewidth": 0,
              "ticks": ""
             }
            },
            "type": "scattergl"
           }
          ],
          "scattermapbox": [
           {
            "marker": {
             "colorbar": {
              "outlinewidth": 0,
              "ticks": ""
             }
            },
            "type": "scattermapbox"
           }
          ],
          "scatterpolar": [
           {
            "marker": {
             "colorbar": {
              "outlinewidth": 0,
              "ticks": ""
             }
            },
            "type": "scatterpolar"
           }
          ],
          "scatterpolargl": [
           {
            "marker": {
             "colorbar": {
              "outlinewidth": 0,
              "ticks": ""
             }
            },
            "type": "scatterpolargl"
           }
          ],
          "scatterternary": [
           {
            "marker": {
             "colorbar": {
              "outlinewidth": 0,
              "ticks": ""
             }
            },
            "type": "scatterternary"
           }
          ],
          "surface": [
           {
            "colorbar": {
             "outlinewidth": 0,
             "ticks": ""
            },
            "colorscale": [
             [
              0,
              "#0d0887"
             ],
             [
              0.1111111111111111,
              "#46039f"
             ],
             [
              0.2222222222222222,
              "#7201a8"
             ],
             [
              0.3333333333333333,
              "#9c179e"
             ],
             [
              0.4444444444444444,
              "#bd3786"
             ],
             [
              0.5555555555555556,
              "#d8576b"
             ],
             [
              0.6666666666666666,
              "#ed7953"
             ],
             [
              0.7777777777777778,
              "#fb9f3a"
             ],
             [
              0.8888888888888888,
              "#fdca26"
             ],
             [
              1,
              "#f0f921"
             ]
            ],
            "type": "surface"
           }
          ],
          "table": [
           {
            "cells": {
             "fill": {
              "color": "#EBF0F8"
             },
             "line": {
              "color": "white"
             }
            },
            "header": {
             "fill": {
              "color": "#C8D4E3"
             },
             "line": {
              "color": "white"
             }
            },
            "type": "table"
           }
          ]
         },
         "layout": {
          "annotationdefaults": {
           "arrowcolor": "#2a3f5f",
           "arrowhead": 0,
           "arrowwidth": 1
          },
          "autotypenumbers": "strict",
          "coloraxis": {
           "colorbar": {
            "outlinewidth": 0,
            "ticks": ""
           }
          },
          "colorscale": {
           "diverging": [
            [
             0,
             "#8e0152"
            ],
            [
             0.1,
             "#c51b7d"
            ],
            [
             0.2,
             "#de77ae"
            ],
            [
             0.3,
             "#f1b6da"
            ],
            [
             0.4,
             "#fde0ef"
            ],
            [
             0.5,
             "#f7f7f7"
            ],
            [
             0.6,
             "#e6f5d0"
            ],
            [
             0.7,
             "#b8e186"
            ],
            [
             0.8,
             "#7fbc41"
            ],
            [
             0.9,
             "#4d9221"
            ],
            [
             1,
             "#276419"
            ]
           ],
           "sequential": [
            [
             0,
             "#0d0887"
            ],
            [
             0.1111111111111111,
             "#46039f"
            ],
            [
             0.2222222222222222,
             "#7201a8"
            ],
            [
             0.3333333333333333,
             "#9c179e"
            ],
            [
             0.4444444444444444,
             "#bd3786"
            ],
            [
             0.5555555555555556,
             "#d8576b"
            ],
            [
             0.6666666666666666,
             "#ed7953"
            ],
            [
             0.7777777777777778,
             "#fb9f3a"
            ],
            [
             0.8888888888888888,
             "#fdca26"
            ],
            [
             1,
             "#f0f921"
            ]
           ],
           "sequentialminus": [
            [
             0,
             "#0d0887"
            ],
            [
             0.1111111111111111,
             "#46039f"
            ],
            [
             0.2222222222222222,
             "#7201a8"
            ],
            [
             0.3333333333333333,
             "#9c179e"
            ],
            [
             0.4444444444444444,
             "#bd3786"
            ],
            [
             0.5555555555555556,
             "#d8576b"
            ],
            [
             0.6666666666666666,
             "#ed7953"
            ],
            [
             0.7777777777777778,
             "#fb9f3a"
            ],
            [
             0.8888888888888888,
             "#fdca26"
            ],
            [
             1,
             "#f0f921"
            ]
           ]
          },
          "colorway": [
           "#636efa",
           "#EF553B",
           "#00cc96",
           "#ab63fa",
           "#FFA15A",
           "#19d3f3",
           "#FF6692",
           "#B6E880",
           "#FF97FF",
           "#FECB52"
          ],
          "font": {
           "color": "#2a3f5f"
          },
          "geo": {
           "bgcolor": "white",
           "lakecolor": "white",
           "landcolor": "#E5ECF6",
           "showlakes": true,
           "showland": true,
           "subunitcolor": "white"
          },
          "hoverlabel": {
           "align": "left"
          },
          "hovermode": "closest",
          "mapbox": {
           "style": "light"
          },
          "paper_bgcolor": "white",
          "plot_bgcolor": "#E5ECF6",
          "polar": {
           "angularaxis": {
            "gridcolor": "white",
            "linecolor": "white",
            "ticks": ""
           },
           "bgcolor": "#E5ECF6",
           "radialaxis": {
            "gridcolor": "white",
            "linecolor": "white",
            "ticks": ""
           }
          },
          "scene": {
           "xaxis": {
            "backgroundcolor": "#E5ECF6",
            "gridcolor": "white",
            "gridwidth": 2,
            "linecolor": "white",
            "showbackground": true,
            "ticks": "",
            "zerolinecolor": "white"
           },
           "yaxis": {
            "backgroundcolor": "#E5ECF6",
            "gridcolor": "white",
            "gridwidth": 2,
            "linecolor": "white",
            "showbackground": true,
            "ticks": "",
            "zerolinecolor": "white"
           },
           "zaxis": {
            "backgroundcolor": "#E5ECF6",
            "gridcolor": "white",
            "gridwidth": 2,
            "linecolor": "white",
            "showbackground": true,
            "ticks": "",
            "zerolinecolor": "white"
           }
          },
          "shapedefaults": {
           "line": {
            "color": "#2a3f5f"
           }
          },
          "ternary": {
           "aaxis": {
            "gridcolor": "white",
            "linecolor": "white",
            "ticks": ""
           },
           "baxis": {
            "gridcolor": "white",
            "linecolor": "white",
            "ticks": ""
           },
           "bgcolor": "#E5ECF6",
           "caxis": {
            "gridcolor": "white",
            "linecolor": "white",
            "ticks": ""
           }
          },
          "title": {
           "x": 0.05
          },
          "xaxis": {
           "automargin": true,
           "gridcolor": "white",
           "linecolor": "white",
           "ticks": "",
           "title": {
            "standoff": 15
           },
           "zerolinecolor": "white",
           "zerolinewidth": 2
          },
          "yaxis": {
           "automargin": true,
           "gridcolor": "white",
           "linecolor": "white",
           "ticks": "",
           "title": {
            "standoff": 15
           },
           "zerolinecolor": "white",
           "zerolinewidth": 2
          }
         }
        },
        "title": {
         "text": "Algorithm Comparison"
        },
        "xaxis": {
         "anchor": "y",
         "domain": [
          0,
          1
         ],
         "title": {
          "text": "variable"
         }
        },
        "yaxis": {
         "anchor": "x",
         "domain": [
          0,
          1
         ],
         "title": {
          "text": "value"
         }
        }
       }
      }
     },
     "metadata": {},
     "output_type": "display_data"
    }
   ],
   "source": [
    "result_df = pd.DataFrame(results, index=names).T\n",
    "px.box(result_df,title = 'Algorithm Comparison')"
   ]
  },
  {
   "attachments": {},
   "cell_type": "markdown",
   "metadata": {},
   "source": [
    "# Hyperparameter Tunning\n",
    "\n",
    "SVC model"
   ]
  },
  {
   "cell_type": "code",
   "execution_count": 17,
   "metadata": {},
   "outputs": [],
   "source": [
    "from sklearn.model_selection import GridSearchCV"
   ]
  },
  {
   "cell_type": "code",
   "execution_count": null,
   "metadata": {},
   "outputs": [],
   "source": [
    "parameters = {'kernel': ['linear', 'rbf', 'poly'], \n",
    "           'C': [0.1, 1.0, 10.0, 100.0, 1000.0], \n",
    "            'gamma': [0.1, 1, 10, 100]}\n",
    "\n",
    "grid_search = GridSearchCV(SVC( max_iter=1000, tol=1e-3), parameters,\n",
    "                            cv=5, scoring='recall',\n",
    "                            return_train_score=True, n_jobs=-1)\n",
    "grid_search.fit(X_train, y_train)\n",
    "\n",
    "grid_search.best_params_"
   ]
  },
  {
   "cell_type": "code",
   "execution_count": 34,
   "metadata": {},
   "outputs": [
    {
     "data": {
      "text/plain": [
       "{'C': 0.1, 'gamma': 100, 'kernel': 'rbf'}"
      ]
     },
     "execution_count": 34,
     "metadata": {},
     "output_type": "execute_result"
    }
   ],
   "source": [
    "grid_search.best_params_"
   ]
  },
  {
   "cell_type": "code",
   "execution_count": 19,
   "metadata": {},
   "outputs": [
    {
     "data": {
      "text/plain": [
       "0.9985379060419678"
      ]
     },
     "execution_count": 19,
     "metadata": {},
     "output_type": "execute_result"
    }
   ],
   "source": [
    "grid_search.best_score_"
   ]
  },
  {
   "cell_type": "code",
   "execution_count": 20,
   "metadata": {},
   "outputs": [],
   "source": [
    "from sklearn_evaluation import plot"
   ]
  },
  {
   "cell_type": "code",
   "execution_count": 21,
   "metadata": {},
   "outputs": [
    {
     "data": {
      "text/plain": [
       "{'mean_fit_time': array([15.79910841, 34.64455357, 20.57009492, 12.78511019, 27.91847444,\n",
       "        16.80973258, 11.86410356, 28.2580862 , 19.45311551, 11.38740029,\n",
       "        27.338203  , 18.6711019 ,  8.29770327, 27.69938955, 17.77239933,\n",
       "         8.62233462, 27.09477701, 16.84490809,  8.73777814, 26.60283566,\n",
       "        17.87248969,  9.23806539, 27.14662604, 18.90723724,  8.67925887,\n",
       "        27.72829399, 19.09674282,  8.58276997, 27.29472909, 17.15378227,\n",
       "         8.91342783, 26.66711626, 18.11440558,  8.83831577, 26.9339819 ,\n",
       "        18.12348537,  8.95392113, 26.75144496, 17.95433135,  8.63863654,\n",
       "        26.49671068, 17.93943315,  8.56445522, 26.40877829, 18.14757042,\n",
       "         9.26482353, 27.27592502, 18.68646388,  8.78475113, 26.95511761,\n",
       "        17.39958501,  9.36559806, 28.21490746, 17.71910291,  8.55485239,\n",
       "        25.89429312, 17.6432158 ,  9.60027637, 27.1770494 , 16.21777301]),\n",
       " 'std_fit_time': array([0.50773166, 1.73001828, 1.21827583, 2.10038614, 1.19582521,\n",
       "        0.72158956, 0.84319494, 1.79491225, 1.36558783, 1.53187479,\n",
       "        0.43720151, 0.928883  , 0.62762428, 1.88136262, 1.56949981,\n",
       "        1.27019197, 0.65691746, 0.79716455, 0.6898387 , 0.7900387 ,\n",
       "        1.47896801, 0.96951074, 1.07383161, 2.55148085, 0.7565125 ,\n",
       "        1.71099557, 0.46387543, 0.63832845, 0.95309694, 1.06045473,\n",
       "        1.08210412, 1.29465952, 1.64670482, 0.56095591, 0.98079066,\n",
       "        1.47769087, 1.05354911, 0.79104057, 1.59498518, 0.70962199,\n",
       "        0.79664942, 1.07940751, 0.63924844, 1.1072568 , 1.89977981,\n",
       "        1.16319947, 0.61265489, 2.2298932 , 0.69035825, 1.12952078,\n",
       "        0.89595185, 0.7589808 , 1.06357284, 1.54414103, 0.39196676,\n",
       "        0.66996466, 1.42059286, 1.17974435, 0.53539444, 3.59345437]),\n",
       " 'mean_score_time': array([ 1.0698051 ,  9.38114257,  1.84341869,  0.96426105,  9.28140349,\n",
       "         1.71431694,  0.98870368,  9.69822206,  1.62773995,  0.97746806,\n",
       "        10.23621569,  1.95456915,  0.72812381,  9.20729246,  1.65487728,\n",
       "         0.81645522,  9.73366261,  1.56423655,  0.80917873,  9.37501788,\n",
       "         1.6992949 ,  0.87840099,  9.09112334,  1.84118099,  0.81837978,\n",
       "         8.99702034,  1.68886199,  0.72925467,  9.57348838,  1.74668117,\n",
       "         0.7960959 ,  8.9973804 ,  1.73113694,  0.84596448,  9.27894511,\n",
       "         1.62415509,  0.85072002,  9.31448097,  1.87958674,  0.81165433,\n",
       "         9.89589438,  1.51074939,  0.825667  ,  9.17206869,  1.70157819,\n",
       "         0.84642019,  9.44757605,  1.61470881,  0.90373087,  9.04740863,\n",
       "         1.58543248,  0.8001132 ,  9.64018874,  1.58130932,  0.80047722,\n",
       "         9.22393203,  1.77003007,  0.7952507 ,  7.52705407,  1.21538386]),\n",
       " 'std_score_time': array([0.09315813, 0.72412539, 0.25535867, 0.05994443, 0.79435159,\n",
       "        0.32135846, 0.10626028, 1.09498067, 0.10964016, 0.0664432 ,\n",
       "        0.57660853, 0.25201151, 0.02287361, 0.26290818, 0.17164325,\n",
       "        0.08322986, 0.59368168, 0.15727459, 0.0609909 , 0.63359392,\n",
       "        0.23116787, 0.13527603, 0.63768428, 0.2386256 , 0.10202159,\n",
       "        0.42029705, 0.23471994, 0.04229094, 0.72474452, 0.18906026,\n",
       "        0.08008576, 0.22327734, 0.19701758, 0.06614747, 0.38528234,\n",
       "        0.17888772, 0.1094681 , 0.58450282, 0.2231043 , 0.0798685 ,\n",
       "        0.90515365, 0.07522856, 0.08565965, 0.6593802 , 0.18942694,\n",
       "        0.10806526, 1.13139915, 0.18800774, 0.07877614, 1.03646959,\n",
       "        0.09489358, 0.06795186, 0.73743728, 0.06636267, 0.07535861,\n",
       "        0.21153085, 0.12668017, 0.11841498, 0.67191922, 0.29780081]),\n",
       " 'param_C': masked_array(data=[0.1, 0.1, 0.1, 0.1, 0.1, 0.1, 0.1, 0.1, 0.1, 0.1, 0.1,\n",
       "                    0.1, 1.0, 1.0, 1.0, 1.0, 1.0, 1.0, 1.0, 1.0, 1.0, 1.0,\n",
       "                    1.0, 1.0, 10.0, 10.0, 10.0, 10.0, 10.0, 10.0, 10.0,\n",
       "                    10.0, 10.0, 10.0, 10.0, 10.0, 100.0, 100.0, 100.0,\n",
       "                    100.0, 100.0, 100.0, 100.0, 100.0, 100.0, 100.0, 100.0,\n",
       "                    100.0, 1000.0, 1000.0, 1000.0, 1000.0, 1000.0, 1000.0,\n",
       "                    1000.0, 1000.0, 1000.0, 1000.0, 1000.0, 1000.0],\n",
       "              mask=[False, False, False, False, False, False, False, False,\n",
       "                    False, False, False, False, False, False, False, False,\n",
       "                    False, False, False, False, False, False, False, False,\n",
       "                    False, False, False, False, False, False, False, False,\n",
       "                    False, False, False, False, False, False, False, False,\n",
       "                    False, False, False, False, False, False, False, False,\n",
       "                    False, False, False, False, False, False, False, False,\n",
       "                    False, False, False, False],\n",
       "        fill_value='?',\n",
       "             dtype=object),\n",
       " 'param_gamma': masked_array(data=[0.1, 0.1, 0.1, 1, 1, 1, 10, 10, 10, 100, 100, 100, 0.1,\n",
       "                    0.1, 0.1, 1, 1, 1, 10, 10, 10, 100, 100, 100, 0.1, 0.1,\n",
       "                    0.1, 1, 1, 1, 10, 10, 10, 100, 100, 100, 0.1, 0.1, 0.1,\n",
       "                    1, 1, 1, 10, 10, 10, 100, 100, 100, 0.1, 0.1, 0.1, 1,\n",
       "                    1, 1, 10, 10, 10, 100, 100, 100],\n",
       "              mask=[False, False, False, False, False, False, False, False,\n",
       "                    False, False, False, False, False, False, False, False,\n",
       "                    False, False, False, False, False, False, False, False,\n",
       "                    False, False, False, False, False, False, False, False,\n",
       "                    False, False, False, False, False, False, False, False,\n",
       "                    False, False, False, False, False, False, False, False,\n",
       "                    False, False, False, False, False, False, False, False,\n",
       "                    False, False, False, False],\n",
       "        fill_value='?',\n",
       "             dtype=object),\n",
       " 'param_kernel': masked_array(data=['linear', 'rbf', 'poly', 'linear', 'rbf', 'poly',\n",
       "                    'linear', 'rbf', 'poly', 'linear', 'rbf', 'poly',\n",
       "                    'linear', 'rbf', 'poly', 'linear', 'rbf', 'poly',\n",
       "                    'linear', 'rbf', 'poly', 'linear', 'rbf', 'poly',\n",
       "                    'linear', 'rbf', 'poly', 'linear', 'rbf', 'poly',\n",
       "                    'linear', 'rbf', 'poly', 'linear', 'rbf', 'poly',\n",
       "                    'linear', 'rbf', 'poly', 'linear', 'rbf', 'poly',\n",
       "                    'linear', 'rbf', 'poly', 'linear', 'rbf', 'poly',\n",
       "                    'linear', 'rbf', 'poly', 'linear', 'rbf', 'poly',\n",
       "                    'linear', 'rbf', 'poly', 'linear', 'rbf', 'poly'],\n",
       "              mask=[False, False, False, False, False, False, False, False,\n",
       "                    False, False, False, False, False, False, False, False,\n",
       "                    False, False, False, False, False, False, False, False,\n",
       "                    False, False, False, False, False, False, False, False,\n",
       "                    False, False, False, False, False, False, False, False,\n",
       "                    False, False, False, False, False, False, False, False,\n",
       "                    False, False, False, False, False, False, False, False,\n",
       "                    False, False, False, False],\n",
       "        fill_value='?',\n",
       "             dtype=object),\n",
       " 'params': [{'C': 0.1, 'gamma': 0.1, 'kernel': 'linear'},\n",
       "  {'C': 0.1, 'gamma': 0.1, 'kernel': 'rbf'},\n",
       "  {'C': 0.1, 'gamma': 0.1, 'kernel': 'poly'},\n",
       "  {'C': 0.1, 'gamma': 1, 'kernel': 'linear'},\n",
       "  {'C': 0.1, 'gamma': 1, 'kernel': 'rbf'},\n",
       "  {'C': 0.1, 'gamma': 1, 'kernel': 'poly'},\n",
       "  {'C': 0.1, 'gamma': 10, 'kernel': 'linear'},\n",
       "  {'C': 0.1, 'gamma': 10, 'kernel': 'rbf'},\n",
       "  {'C': 0.1, 'gamma': 10, 'kernel': 'poly'},\n",
       "  {'C': 0.1, 'gamma': 100, 'kernel': 'linear'},\n",
       "  {'C': 0.1, 'gamma': 100, 'kernel': 'rbf'},\n",
       "  {'C': 0.1, 'gamma': 100, 'kernel': 'poly'},\n",
       "  {'C': 1.0, 'gamma': 0.1, 'kernel': 'linear'},\n",
       "  {'C': 1.0, 'gamma': 0.1, 'kernel': 'rbf'},\n",
       "  {'C': 1.0, 'gamma': 0.1, 'kernel': 'poly'},\n",
       "  {'C': 1.0, 'gamma': 1, 'kernel': 'linear'},\n",
       "  {'C': 1.0, 'gamma': 1, 'kernel': 'rbf'},\n",
       "  {'C': 1.0, 'gamma': 1, 'kernel': 'poly'},\n",
       "  {'C': 1.0, 'gamma': 10, 'kernel': 'linear'},\n",
       "  {'C': 1.0, 'gamma': 10, 'kernel': 'rbf'},\n",
       "  {'C': 1.0, 'gamma': 10, 'kernel': 'poly'},\n",
       "  {'C': 1.0, 'gamma': 100, 'kernel': 'linear'},\n",
       "  {'C': 1.0, 'gamma': 100, 'kernel': 'rbf'},\n",
       "  {'C': 1.0, 'gamma': 100, 'kernel': 'poly'},\n",
       "  {'C': 10.0, 'gamma': 0.1, 'kernel': 'linear'},\n",
       "  {'C': 10.0, 'gamma': 0.1, 'kernel': 'rbf'},\n",
       "  {'C': 10.0, 'gamma': 0.1, 'kernel': 'poly'},\n",
       "  {'C': 10.0, 'gamma': 1, 'kernel': 'linear'},\n",
       "  {'C': 10.0, 'gamma': 1, 'kernel': 'rbf'},\n",
       "  {'C': 10.0, 'gamma': 1, 'kernel': 'poly'},\n",
       "  {'C': 10.0, 'gamma': 10, 'kernel': 'linear'},\n",
       "  {'C': 10.0, 'gamma': 10, 'kernel': 'rbf'},\n",
       "  {'C': 10.0, 'gamma': 10, 'kernel': 'poly'},\n",
       "  {'C': 10.0, 'gamma': 100, 'kernel': 'linear'},\n",
       "  {'C': 10.0, 'gamma': 100, 'kernel': 'rbf'},\n",
       "  {'C': 10.0, 'gamma': 100, 'kernel': 'poly'},\n",
       "  {'C': 100.0, 'gamma': 0.1, 'kernel': 'linear'},\n",
       "  {'C': 100.0, 'gamma': 0.1, 'kernel': 'rbf'},\n",
       "  {'C': 100.0, 'gamma': 0.1, 'kernel': 'poly'},\n",
       "  {'C': 100.0, 'gamma': 1, 'kernel': 'linear'},\n",
       "  {'C': 100.0, 'gamma': 1, 'kernel': 'rbf'},\n",
       "  {'C': 100.0, 'gamma': 1, 'kernel': 'poly'},\n",
       "  {'C': 100.0, 'gamma': 10, 'kernel': 'linear'},\n",
       "  {'C': 100.0, 'gamma': 10, 'kernel': 'rbf'},\n",
       "  {'C': 100.0, 'gamma': 10, 'kernel': 'poly'},\n",
       "  {'C': 100.0, 'gamma': 100, 'kernel': 'linear'},\n",
       "  {'C': 100.0, 'gamma': 100, 'kernel': 'rbf'},\n",
       "  {'C': 100.0, 'gamma': 100, 'kernel': 'poly'},\n",
       "  {'C': 1000.0, 'gamma': 0.1, 'kernel': 'linear'},\n",
       "  {'C': 1000.0, 'gamma': 0.1, 'kernel': 'rbf'},\n",
       "  {'C': 1000.0, 'gamma': 0.1, 'kernel': 'poly'},\n",
       "  {'C': 1000.0, 'gamma': 1, 'kernel': 'linear'},\n",
       "  {'C': 1000.0, 'gamma': 1, 'kernel': 'rbf'},\n",
       "  {'C': 1000.0, 'gamma': 1, 'kernel': 'poly'},\n",
       "  {'C': 1000.0, 'gamma': 10, 'kernel': 'linear'},\n",
       "  {'C': 1000.0, 'gamma': 10, 'kernel': 'rbf'},\n",
       "  {'C': 1000.0, 'gamma': 10, 'kernel': 'poly'},\n",
       "  {'C': 1000.0, 'gamma': 100, 'kernel': 'linear'},\n",
       "  {'C': 1000.0, 'gamma': 100, 'kernel': 'rbf'},\n",
       "  {'C': 1000.0, 'gamma': 100, 'kernel': 'poly'}],\n",
       " 'split0_test_score': array([0.57595451, 0.78554021, 0.79447604, 0.57595451, 0.01949634,\n",
       "        0.71974005, 0.57595451, 0.55158408, 0.55239643, 0.57595451,\n",
       "        0.99675061, 0.77416734, 0.62875711, 0.0714866 , 0.79447604,\n",
       "        0.62875711, 0.02274574, 0.71974005, 0.62875711, 0.55077173,\n",
       "        0.55239643, 0.62875711, 0.99675061, 0.77416734, 0.44516653,\n",
       "        0.82940699, 0.79447604, 0.44516653, 0.96344435, 0.71974005,\n",
       "        0.44516653, 0.99431357, 0.55239643, 0.44516653, 0.99675061,\n",
       "        0.77416734, 0.44516653, 0.84402924, 0.79447604, 0.44516653,\n",
       "        0.96344435, 0.71974005, 0.44516653, 0.99431357, 0.55239643,\n",
       "        0.44516653, 0.99675061, 0.77416734, 0.44516653, 0.84402924,\n",
       "        0.79447604, 0.44516653, 0.96344435, 0.71974005, 0.44516653,\n",
       "        0.99431357, 0.55239643, 0.44516653, 0.99675061, 0.77416734]),\n",
       " 'split1_test_score': array([0.31112916, 0.8261576 , 0.58164094, 0.31112916, 0.00243704,\n",
       "        0.80503656, 0.31112916, 0.56701868, 0.37936637, 0.31112916,\n",
       "        0.99918765, 0.80503656, 0.27782291, 0.05930138, 0.58164094,\n",
       "        0.27782291, 0.01787165, 0.80503656, 0.27782291, 0.56701868,\n",
       "        0.37936637, 0.27782291, 0.99918765, 0.80503656, 0.32412673,\n",
       "        0.8757108 , 0.58164094, 0.32412673, 0.97319253, 0.80503656,\n",
       "        0.32412673, 0.99756296, 0.37936637, 0.32412673, 0.99918765,\n",
       "        0.80503656, 0.32412673, 0.8757108 , 0.58164094, 0.32412673,\n",
       "        0.97319253, 0.80503656, 0.32412673, 0.99756296, 0.37936637,\n",
       "        0.32412673, 0.99918765, 0.80503656, 0.32412673, 0.8757108 ,\n",
       "        0.58164094, 0.32412673, 0.97319253, 0.80503656, 0.32412673,\n",
       "        0.99756296, 0.37936637, 0.32412673, 0.99918765, 0.80503656]),\n",
       " 'split2_test_score': array([0.75730519, 0.09821429, 0.19967532, 0.75730519, 0.02191558,\n",
       "        0.20698052, 0.75730519, 0.55113636, 0.35146104, 0.75730519,\n",
       "        0.99918831, 0.82711039, 0.28246753, 0.01704545, 0.19967532,\n",
       "        0.28246753, 0.0275974 , 0.20698052, 0.28246753, 0.55113636,\n",
       "        0.35146104, 0.28246753, 0.99918831, 0.82711039, 0.14772727,\n",
       "        0.83279221, 0.19967532, 0.14772727, 0.96672078, 0.20698052,\n",
       "        0.14772727, 0.99675325, 0.35146104, 0.14772727, 0.99918831,\n",
       "        0.82711039, 0.14772727, 0.83279221, 0.19967532, 0.14772727,\n",
       "        0.96672078, 0.20698052, 0.14772727, 0.99675325, 0.35146104,\n",
       "        0.14772727, 0.99918831, 0.82711039, 0.14772727, 0.83279221,\n",
       "        0.19967532, 0.14772727, 0.96672078, 0.20698052, 0.14772727,\n",
       "        0.99675325, 0.35146104, 0.14772727, 0.99918831, 0.82711039]),\n",
       " 'split3_test_score': array([0.51421608, 0.77579204, 0.70836718, 0.51421608, 0.01949634,\n",
       "        0.65962632, 0.51421608, 0.54670999, 0.74735987, 0.51421608,\n",
       "        0.9983753 , 0.6133225 , 0.50365556, 0.07879773, 0.70836718,\n",
       "        0.50365556, 0.01299756, 0.65962632, 0.50365556, 0.54670999,\n",
       "        0.74735987, 0.50365556, 0.9983753 , 0.6133225 , 0.69374492,\n",
       "        0.8602762 , 0.70836718, 0.69374492, 0.97969131, 0.65962632,\n",
       "        0.69374492, 0.99756296, 0.74735987, 0.69374492, 0.9983753 ,\n",
       "        0.6133225 , 0.69374492, 0.8602762 , 0.70836718, 0.69374492,\n",
       "        0.97969131, 0.65962632, 0.69374492, 0.99756296, 0.74735987,\n",
       "        0.69374492, 0.9983753 , 0.6133225 , 0.69374492, 0.8602762 ,\n",
       "        0.70836718, 0.69374492, 0.97969131, 0.65962632, 0.69374492,\n",
       "        0.99756296, 0.74735987, 0.69374492, 0.9983753 , 0.6133225 ]),\n",
       " 'split4_test_score': array([0.5434606 , 0.0528026 , 0.65637693, 0.5434606 , 0.02924452,\n",
       "        0.73192526, 0.5434606 , 0.50852965, 0.82128351, 0.5434606 ,\n",
       "        0.99918765, 0.79203899, 0.55320877, 0.0698619 , 0.65637693,\n",
       "        0.55320877, 0.01218522, 0.73192526, 0.55320877, 0.50852965,\n",
       "        0.82128351, 0.55320877, 0.99918765, 0.79203899, 0.35174655,\n",
       "        0.84971568, 0.65637693, 0.35174655, 0.96019496, 0.73192526,\n",
       "        0.35174655, 1.        , 0.82128351, 0.35174655, 0.99918765,\n",
       "        0.79203899, 0.35174655, 0.84971568, 0.65637693, 0.35174655,\n",
       "        0.96019496, 0.73192526, 0.35174655, 1.        , 0.82128351,\n",
       "        0.35174655, 0.99918765, 0.79203899, 0.35174655, 0.84971568,\n",
       "        0.65637693, 0.35174655, 0.96019496, 0.73192526, 0.35174655,\n",
       "        1.        , 0.82128351, 0.35174655, 0.99918765, 0.79203899]),\n",
       " 'mean_test_score': array([0.54041311, 0.50770135, 0.58810728, 0.54041311, 0.01851797,\n",
       "        0.62466174, 0.54041311, 0.54499575, 0.57037344, 0.54041311,\n",
       "        0.99853791, 0.76233516, 0.44918238, 0.05929861, 0.58810728,\n",
       "        0.44918238, 0.01867951, 0.62466174, 0.44918238, 0.54483328,\n",
       "        0.57037344, 0.44918238, 0.99853791, 0.76233516, 0.3925024 ,\n",
       "        0.84958037, 0.58810728, 0.3925024 , 0.96864879, 0.62466174,\n",
       "        0.3925024 , 0.99723855, 0.57037344, 0.3925024 , 0.99853791,\n",
       "        0.76233516, 0.3925024 , 0.85250483, 0.58810728, 0.3925024 ,\n",
       "        0.96864879, 0.62466174, 0.3925024 , 0.99723855, 0.57037344,\n",
       "        0.3925024 , 0.99853791, 0.76233516, 0.3925024 , 0.85250483,\n",
       "        0.58810728, 0.3925024 , 0.96864879, 0.62466174, 0.3925024 ,\n",
       "        0.99723855, 0.57037344, 0.3925024 , 0.99853791, 0.76233516]),\n",
       " 'std_test_score': array([0.14252864, 0.35357997, 0.20621952, 0.14252864, 0.00879901,\n",
       "        0.21389743, 0.14252864, 0.01948763, 0.18921394, 0.14252864,\n",
       "        0.00094744, 0.07648049, 0.14366197, 0.02202578, 0.20621952,\n",
       "        0.14366197, 0.00585109, 0.21389743, 0.14366197, 0.01943534,\n",
       "        0.18921394, 0.14366197, 0.00094744, 0.07648049, 0.17875777,\n",
       "        0.01723964, 0.20621952, 0.17875777, 0.0069979 , 0.21389743,\n",
       "        0.17875777, 0.00182358, 0.18921394, 0.17875777, 0.00094744,\n",
       "        0.07648049, 0.17875777, 0.014609  , 0.20621952, 0.17875777,\n",
       "        0.0069979 , 0.21389743, 0.17875777, 0.00182358, 0.18921394,\n",
       "        0.17875777, 0.00094744, 0.07648049, 0.17875777, 0.014609  ,\n",
       "        0.20621952, 0.17875777, 0.0069979 , 0.21389743, 0.17875777,\n",
       "        0.00182358, 0.18921394, 0.17875777, 0.00094744, 0.07648049]),\n",
       " 'rank_test_score': array([37, 41, 25, 37, 60, 20, 37, 35, 30, 37,  1, 15, 42, 58, 25, 42, 59,\n",
       "        20, 42, 36, 30, 42,  1, 15, 46, 14, 25, 46,  9, 20, 46,  6, 30, 46,\n",
       "         1, 15, 46, 12, 25, 46,  9, 20, 46,  6, 30, 46,  1, 15, 46, 12, 25,\n",
       "        46,  9, 20, 46,  6, 30, 46,  1, 15], dtype=int32),\n",
       " 'split0_train_score': array([0.57928934, 0.93664975, 0.77360406, 0.57928934, 0.21218274,\n",
       "        0.68771574, 0.57928934, 0.64791878, 0.54314721, 0.57928934,\n",
       "        0.99878173, 0.74619289, 0.62091371, 0.23918782, 0.77360406,\n",
       "        0.62091371, 0.21685279, 0.68771574, 0.62091371, 0.64812183,\n",
       "        0.54314721, 0.62091371, 0.99878173, 0.74619289, 0.40649746,\n",
       "        0.99309645, 0.77360406, 0.40649746, 1.        , 0.68771574,\n",
       "        0.40649746, 0.99756345, 0.54314721, 0.40649746, 0.99878173,\n",
       "        0.74619289, 0.40649746, 0.9906599 , 0.77360406, 0.40649746,\n",
       "        1.        , 0.68771574, 0.40649746, 0.99756345, 0.54314721,\n",
       "        0.40649746, 0.99878173, 0.74619289, 0.40649746, 0.9906599 ,\n",
       "        0.77360406, 0.40649746, 1.        , 0.68771574, 0.40649746,\n",
       "        0.99756345, 0.54314721, 0.40649746, 0.99878173, 0.74619289]),\n",
       " 'split1_train_score': array([0.31654822, 0.92609137, 0.5857868 , 0.31654822, 0.20385787,\n",
       "        0.81502538, 0.31654822, 0.64406091, 0.37928934, 0.31654822,\n",
       "        0.99817259, 0.81502538, 0.2942132 , 0.2284264 , 0.5857868 ,\n",
       "        0.2942132 , 0.21827411, 0.81502538, 0.2942132 , 0.64406091,\n",
       "        0.37928934, 0.2942132 , 0.99817259, 0.81502538, 0.33238579,\n",
       "        0.99553299, 0.5857868 , 0.33238579, 1.        , 0.81502538,\n",
       "        0.33238579, 0.99675127, 0.37928934, 0.33238579, 0.99817259,\n",
       "        0.81502538, 0.33238579, 0.99553299, 0.5857868 , 0.33238579,\n",
       "        1.        , 0.81502538, 0.33238579, 0.99675127, 0.37928934,\n",
       "        0.33238579, 0.99817259, 0.81502538, 0.33238579, 0.99553299,\n",
       "        0.5857868 , 0.33238579, 1.        , 0.81502538, 0.33238579,\n",
       "        0.99675127, 0.37928934, 0.33238579, 0.99817259, 0.81502538]),\n",
       " 'split2_train_score': array([0.75487409, 0.24634444, 0.20714866, 0.75487409, 0.21080422,\n",
       "        0.21019496, 0.75487409, 0.64805037, 0.3462632 , 0.75487409,\n",
       "        0.99817222, 0.81031682, 0.30442729, 0.19638505, 0.20714866,\n",
       "        0.30442729, 0.22095857, 0.21019496, 0.30442729, 0.64805037,\n",
       "        0.3462632 , 0.30442729, 0.99817222, 0.81031682, 0.16653128,\n",
       "        0.98781478, 0.20714866, 0.16653128, 1.        , 0.21019496,\n",
       "        0.16653128, 0.9969537 , 0.3462632 , 0.16653128, 0.99817222,\n",
       "        0.81031682, 0.16653128, 0.98781478, 0.20714866, 0.16653128,\n",
       "        1.        , 0.21019496, 0.16653128, 0.9969537 , 0.3462632 ,\n",
       "        0.16653128, 0.99817222, 0.81031682, 0.16653128, 0.98781478,\n",
       "        0.20714866, 0.16653128, 1.        , 0.21019496, 0.16653128,\n",
       "        0.9969537 , 0.3462632 , 0.16653128, 0.99817222, 0.81031682]),\n",
       " 'split3_train_score': array([0.49908629, 0.90233503, 0.7177665 , 0.49908629, 0.21218274,\n",
       "        0.68203046, 0.49908629, 0.64913706, 0.73766497, 0.49908629,\n",
       "        0.99837563, 0.63086294, 0.50720812, 0.26538071, 0.7177665 ,\n",
       "        0.50720812, 0.21137056, 0.68203046, 0.50720812, 0.64913706,\n",
       "        0.73766497, 0.50720812, 0.99837563, 0.63086294, 0.71025381,\n",
       "        0.99532995, 0.7177665 , 0.71025381, 1.        , 0.68203046,\n",
       "        0.71025381, 0.99675127, 0.73766497, 0.71025381, 0.99837563,\n",
       "        0.63086294, 0.71025381, 0.99532995, 0.7177665 , 0.71025381,\n",
       "        1.        , 0.68203046, 0.71025381, 0.99675127, 0.73766497,\n",
       "        0.71025381, 0.99837563, 0.63086294, 0.71025381, 0.99532995,\n",
       "        0.7177665 , 0.71025381, 1.        , 0.68203046, 0.71025381,\n",
       "        0.99675127, 0.73766497, 0.71025381, 0.99837563, 0.63086294]),\n",
       " 'split4_train_score': array([0.55187817, 0.20588832, 0.64832487, 0.55187817, 0.21340102,\n",
       "        0.73401015, 0.55187817, 0.63837563, 0.82903553, 0.55187817,\n",
       "        0.99837563, 0.78050761, 0.54071066, 0.24974619, 0.64832487,\n",
       "        0.54071066, 0.21076142, 0.73401015, 0.54071066, 0.63817259,\n",
       "        0.82903553, 0.54071066, 0.99837563, 0.78050761, 0.34741117,\n",
       "        1.        , 0.64832487, 0.34741117, 1.        , 0.73401015,\n",
       "        0.34741117, 0.99979695, 0.82903553, 0.34741117, 0.99837563,\n",
       "        0.78050761, 0.34741117, 1.        , 0.64832487, 0.34741117,\n",
       "        1.        , 0.73401015, 0.34741117, 0.99979695, 0.82903553,\n",
       "        0.34741117, 0.99837563, 0.78050761, 0.34741117, 1.        ,\n",
       "        0.64832487, 0.34741117, 1.        , 0.73401015, 0.34741117,\n",
       "        0.99979695, 0.82903553, 0.34741117, 0.99837563, 0.78050761]),\n",
       " 'mean_train_score': array([0.54033522, 0.64346178, 0.58652618, 0.54033522, 0.21048572,\n",
       "        0.62579534, 0.54033522, 0.64550855, 0.56708005, 0.54033522,\n",
       "        0.99837556, 0.75658113, 0.4534946 , 0.23582523, 0.58652618,\n",
       "        0.4534946 , 0.21564349, 0.62579534, 0.4534946 , 0.64550855,\n",
       "        0.56708005, 0.4534946 , 0.99837556, 0.75658113, 0.3926159 ,\n",
       "        0.99435484, 0.58652618, 0.3926159 , 1.        , 0.62579534,\n",
       "        0.3926159 , 0.99756333, 0.56708005, 0.3926159 , 0.99837556,\n",
       "        0.75658113, 0.3926159 , 0.99386753, 0.58652618, 0.3926159 ,\n",
       "        1.        , 0.62579534, 0.3926159 , 0.99756333, 0.56708005,\n",
       "        0.3926159 , 0.99837556, 0.75658113, 0.3926159 , 0.99386753,\n",
       "        0.58652618, 0.3926159 , 1.        , 0.62579534, 0.3926159 ,\n",
       "        0.99756333, 0.56708005, 0.3926159 , 0.99837556, 0.75658113]),\n",
       " 'std_train_score': array([1.41038776e-01, 3.41182280e-01, 1.99984541e-01, 1.41038776e-01,\n",
       "        3.41433960e-03, 2.13184732e-01, 1.41038776e-01, 3.96005636e-03,\n",
       "        1.90954499e-01, 1.41038776e-01, 2.22493201e-04, 6.75110490e-02,\n",
       "        1.31234574e-01, 2.31900710e-02, 1.99984541e-01, 1.31234574e-01,\n",
       "        3.96800199e-03, 2.13184732e-01, 1.31234574e-01, 4.05877018e-03,\n",
       "        1.90954499e-01, 1.31234574e-01, 2.22493201e-04, 6.75110490e-02,\n",
       "        1.77691829e-01, 3.96390200e-03, 1.99984541e-01, 1.77691829e-01,\n",
       "        0.00000000e+00, 2.13184732e-01, 1.77691829e-01, 1.15582153e-03,\n",
       "        1.90954499e-01, 1.77691829e-01, 2.22493201e-04, 6.75110490e-02,\n",
       "        1.77691829e-01, 4.22952142e-03, 1.99984541e-01, 1.77691829e-01,\n",
       "        0.00000000e+00, 2.13184732e-01, 1.77691829e-01, 1.15582153e-03,\n",
       "        1.90954499e-01, 1.77691829e-01, 2.22493201e-04, 6.75110490e-02,\n",
       "        1.77691829e-01, 4.22952142e-03, 1.99984541e-01, 1.77691829e-01,\n",
       "        0.00000000e+00, 2.13184732e-01, 1.77691829e-01, 1.15582153e-03,\n",
       "        1.90954499e-01, 1.77691829e-01, 2.22493201e-04, 6.75110490e-02])}"
      ]
     },
     "execution_count": 21,
     "metadata": {},
     "output_type": "execute_result"
    }
   ],
   "source": [
    "grid_search.cv_results_"
   ]
  },
  {
   "cell_type": "code",
   "execution_count": 22,
   "metadata": {
    "tags": []
   },
   "outputs": [
    {
     "data": {
      "text/plain": [
       "<Figure size 1200x600 with 0 Axes>"
      ]
     },
     "metadata": {},
     "output_type": "display_data"
    },
    {
     "data": {
      "image/png": "[encoded data removed]",
      "text/plain": [
       "<Figure size 640x480 with 1 Axes>"
      ]
     },
     "metadata": {},
     "output_type": "display_data"
    }
   ],
   "source": [
    "fig = plt.figure(figsize=(12,6))\n",
    "plot.grid_search(grid_search.cv_results_, change='kernel', kind='bar');"
   ]
  },
  {
   "attachments": {},
   "cell_type": "markdown",
   "metadata": {},
   "source": [
    "# evaluation Test set"
   ]
  },
  {
   "cell_type": "code",
   "execution_count": 23,
   "metadata": {},
   "outputs": [],
   "source": [
    "from sklearn.metrics import classification_report\n",
    "from sklearn.metrics import ConfusionMatrixDisplay\n",
    "from sklearn.metrics import confusion_matrix"
   ]
  },
  {
   "attachments": {},
   "cell_type": "markdown",
   "metadata": {},
   "source": [
    "## Naïve Bayes"
   ]
  },
  {
   "cell_type": "code",
   "execution_count": 24,
   "metadata": {},
   "outputs": [],
   "source": [
    "NB = GaussianNB()\n",
    "NB.fit(X_train,y_train)\n",
    "y_pred = NB.predict(X_test)"
   ]
  },
  {
   "cell_type": "code",
   "execution_count": 25,
   "metadata": {
    "tags": []
   },
   "outputs": [
    {
     "name": "stdout",
     "output_type": "stream",
     "text": [
      "              precision    recall  f1-score   support\n",
      "\n",
      "           0       0.94      0.04      0.07     18346\n",
      "           1       0.13      0.98      0.23      2639\n",
      "\n",
      "    accuracy                           0.16     20985\n",
      "   macro avg       0.54      0.51      0.15     20985\n",
      "weighted avg       0.84      0.16      0.09     20985\n",
      "\n"
     ]
    }
   ],
   "source": [
    "print(classification_report(y_test, y_pred))"
   ]
  },
  {
   "cell_type": "code",
   "execution_count": 26,
   "metadata": {},
   "outputs": [
    {
     "data": {
      "image/png": "[encoded data removed]",
      "text/plain": [
       "<Figure size 640x480 with 2 Axes>"
      ]
     },
     "metadata": {},
     "output_type": "display_data"
    }
   ],
   "source": [
    "%matplotlib inline\n",
    "ConfusionMatrixDisplay.from_predictions(y_test,y_pred);"
   ]
  },
  {
   "cell_type": "code",
   "execution_count": 27,
   "metadata": {},
   "outputs": [
    {
     "data": {
      "text/plain": [
       "0.9840848806366048"
      ]
     },
     "execution_count": 27,
     "metadata": {},
     "output_type": "execute_result"
    }
   ],
   "source": [
    "tn, fp, fn, tp = confusion_matrix(y_test, y_pred).ravel()\n",
    "sensitivity = tp / (tp+fn)\n",
    "sensitivity"
   ]
  },
  {
   "cell_type": "code",
   "execution_count": 28,
   "metadata": {},
   "outputs": [
    {
     "data": {
      "text/plain": [
       "0.9438502673796791"
      ]
     },
     "execution_count": 28,
     "metadata": {},
     "output_type": "execute_result"
    }
   ],
   "source": [
    "Negative_predictive_value = tn /(tn+fn)\n",
    "Negative_predictive_value"
   ]
  },
  {
   "attachments": {},
   "cell_type": "markdown",
   "metadata": {},
   "source": [
    "## SVM"
   ]
  },
  {
   "cell_type": "code",
   "execution_count": 29,
   "metadata": {},
   "outputs": [
    {
     "name": "stderr",
     "output_type": "stream",
     "text": [
      "/home/joser/.cache/pypoetry/virtualenvs/readmission-ml-project-KWL3KW9z-py3.9/lib/python3.9/site-packages/sklearn/svm/_base.py:301: ConvergenceWarning:\n",
      "\n",
      "Solver terminated early (max_iter=1000).  Consider pre-processing your data with StandardScaler or MinMaxScaler.\n",
      "\n"
     ]
    }
   ],
   "source": [
    "SVM = SVC(C=0.1, kernel='rbf',gamma= 100, max_iter=1000, tol=1e-3)\n",
    "SVM.fit(X_train,y_train)\n",
    "y_pred = SVM.predict(X_test)"
   ]
  },
  {
   "cell_type": "code",
   "execution_count": 30,
   "metadata": {
    "tags": []
   },
   "outputs": [
    {
     "name": "stdout",
     "output_type": "stream",
     "text": [
      "              precision    recall  f1-score   support\n",
      "\n",
      "           0       0.93      0.00      0.01     18346\n",
      "           1       0.13      1.00      0.22      2639\n",
      "\n",
      "    accuracy                           0.13     20985\n",
      "   macro avg       0.53      0.50      0.11     20985\n",
      "weighted avg       0.83      0.13      0.03     20985\n",
      "\n"
     ]
    }
   ],
   "source": [
    "print(classification_report(y_test, y_pred))"
   ]
  },
  {
   "cell_type": "code",
   "execution_count": 31,
   "metadata": {},
   "outputs": [
    {
     "data": {
      "image/png": "[encoded data removed]",
      "text/plain": [
       "<Figure size 640x480 with 2 Axes>"
      ]
     },
     "metadata": {},
     "output_type": "display_data"
    }
   ],
   "source": [
    "ConfusionMatrixDisplay.from_predictions(y_test,y_pred); "
   ]
  },
  {
   "cell_type": "code",
   "execution_count": 32,
   "metadata": {},
   "outputs": [
    {
     "data": {
      "text/plain": [
       "0.9984842743463433"
      ]
     },
     "execution_count": 32,
     "metadata": {},
     "output_type": "execute_result"
    }
   ],
   "source": [
    "tn, fp, fn, tp = confusion_matrix(y_test, y_pred).ravel()\n",
    "sensitivity = tp / (tp+fn)\n",
    "sensitivity"
   ]
  },
  {
   "cell_type": "code",
   "execution_count": 33,
   "metadata": {},
   "outputs": [
    {
     "data": {
      "text/plain": [
       "0.9285714285714286"
      ]
     },
     "execution_count": 33,
     "metadata": {},
     "output_type": "execute_result"
    }
   ],
   "source": [
    "Negative_predictive_value = tn /(tn+fn)\n",
    "Negative_predictive_value"
   ]
  },
  {
   "attachments": {},
   "cell_type": "markdown",
   "metadata": {},
   "source": [
    "## Conclusions\n",
    "\n",
    "Even the recall is higher with the SVM model,the True Negatives are very low, is like having a classifier that always select a patient to be readmitted, so i don't gonna use this model."
   ]
  },
  {
   "attachments": {},
   "cell_type": "markdown",
   "metadata": {},
   "source": [
    "# References\n",
    "\n",
    "- Correction to: Hospital Readmission of Patients with Diabetes - https://link.springer.com/article/10.1007/s11892-018-0989-1\n",
    "\n",
    "- Center for disease control and prevention, Diabetes atlas- https://gis.cdc.gov/grasp/diabetes/DiabetesAtlas.html\n",
    "\n",
    "- https://medium.com/@joserzapata/paso-a-paso-en-un-proyecto-machine-learning-bcdd0939d387\n",
    "- [a-complete-machine-learning-walk-through-in-python-part-one](https://towardsdatascience.com/a-complete-machine-learning-walk-through-in-python-part-one-c62152f39420)\n",
    "\n",
    "- https://www.kaggle.com/vignesh1609/readmission-classification-model\n",
    "\n",
    "- https://www.kaggle.com/kavyarall/predicting-effective-treatments/\n",
    "- SVC - hyperparameter tunning\n",
    "- Priors in GaussianNB https://stackoverflow.com/questions/30896367/how-to-specify-the-prior-probability-for-scikit-learns-naive-bayes\n",
    "- permutation importance - https://scikit-learn.org/stable/modules/generated/sklearn.inspection.permutation_importance.html#sklearn.inspection.permutation_importance\n",
    "- Permutation Importance example - https://scikit-learn.org/stable/auto_examples/inspection/plot_permutation_importance.html#sphx-glr-auto-examples-inspection-plot-permutation-importance-py\n",
    "- Permutation Importance with multicollinear or correlated features- https://scikit-learn.org/stable/auto_examples/inspection/plot_permutation_importance_multicollinear.html"
   ]
  },
  {
   "attachments": {},
   "cell_type": "markdown",
   "metadata": {},
   "source": [
    "[Jose R. Zapata](https://joserzapata.github.io)\n",
    "- https://joserzapata.github.io\n",
    "- https://twitter.com/joserzapata\n",
    "- https://www.linkedin.com/in/jose-ricardo-zapata-gonzalez/   "
   ]
  }
 ],
 "metadata": {
  "colab": {
   "collapsed_sections": [
    "mXQHmtMbHJoh",
    "3aVUkwJVHJom",
    "9SfZHh6oHJor",
    "1S_iRK8rHJo0",
    "Ey5Lk8evHJo3",
    "0Y0UV-GVHJo6",
    "he4lxsEUHJpM",
    "h0FKIrJHHJpO",
    "jYPdefrhHJpS",
    "zUundEM6HJpT",
    "2GNrgJzHHJpW",
    "uRwep7LjHJpZ",
    "JCcM4XFbHJpd"
   ],
   "name": "Trabajo_Preparacion_Datos_JoseR_Zapata.ipynb",
   "provenance": []
  },
  "kernelspec": {
   "display_name": "Python 3",
   "language": "python",
   "name": "python3"
  },
  "language_info": {
   "codemirror_mode": {
    "name": "ipython",
    "version": 3
   },
   "file_extension": ".py",
   "mimetype": "text/x-python",
   "name": "python",
   "nbconvert_exporter": "python",
   "pygments_lexer": "ipython3",
   "version": "3.9.16"
  },
  "nbTranslate": {
   "displayLangs": [
    "es",
    "en"
   ],
   "hotkey": "alt-t",
   "langInMainMenu": true,
   "sourceLang": "en",
   "targetLang": "es",
   "useGoogleTranslate": true
  },
  "toc": {
   "base_numbering": 1,
   "nav_menu": {},
   "number_sections": true,
   "sideBar": true,
   "skip_h1_title": false,
   "title_cell": "Contenido",
   "title_sidebar": "Contenido",
   "toc_cell": true,
   "toc_position": {},
   "toc_section_display": true,
   "toc_window_display": false
  },
  "varInspector": {
   "cols": {
    "lenName": 16,
    "lenType": 16,
    "lenVar": 40
   },
   "kernels_config": {
    "python": {
     "delete_cmd_postfix": "",
     "delete_cmd_prefix": "del ",
     "library": "var_list.py",
     "varRefreshCmd": "print(var_dic_list())"
    },
    "r": {
     "delete_cmd_postfix": ") ",
     "delete_cmd_prefix": "rm(",
     "library": "var_list.r",
     "varRefreshCmd": "cat(var_dic_list()) "
    }
   },
   "types_to_exclude": [
    "module",
    "function",
    "builtin_function_or_method",
    "instance",
    "_Feature"
   ],
   "window_display": false
  }
 },
 "nbformat": 4,
 "nbformat_minor": 4
}
