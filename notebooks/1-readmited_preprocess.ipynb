{
 "cells": [
  {
   "attachments": {},
   "cell_type": "markdown",
   "metadata": {
    "colab_type": "text",
    "id": "Wbepu01LHJoL"
   },
   "source": [
    "# Readmission Classification - Data Cleaning\n",
    "\n",
    "[Jose R. Zapata](https://joserzapata.github.io)\n",
    "- https://joserzapata.github.io\n",
    "- https://twitter.com/joserzapata\n",
    "- https://www.linkedin.com/in/jose-ricardo-zapata-gonzalez/       \n"
   ]
  },
  {
   "attachments": {},
   "cell_type": "markdown",
   "metadata": {
    "toc": true
   },
   "source": [
    "<h1>Contenido<span class=\"tocSkip\"></span></h1>\n",
    "<div class=\"toc\"><ul class=\"toc-item\"><li><span><a href=\"#Readmission-Classification---Data-Cleaning\" data-toc-modified-id=\"Readmission-Classification---Data-Cleaning-1\"><span class=\"toc-item-num\">1&nbsp;&nbsp;</span>Readmission Classification - Data Cleaning</a></span><ul class=\"toc-item\"><li><span><a href=\"#Introduction\" data-toc-modified-id=\"Introduction-1.1\"><span class=\"toc-item-num\">1.1&nbsp;&nbsp;</span>Introduction</a></span></li><li><span><a href=\"#Main-Objective\" data-toc-modified-id=\"Main-Objective-1.2\"><span class=\"toc-item-num\">1.2&nbsp;&nbsp;</span>Main Objective</a></span></li><li><span><a href=\"#Principal-References\" data-toc-modified-id=\"Principal-References-1.3\"><span class=\"toc-item-num\">1.3&nbsp;&nbsp;</span>Principal References</a></span><ul class=\"toc-item\"><li><span><a href=\"#Paper\" data-toc-modified-id=\"Paper-1.3.1\"><span class=\"toc-item-num\">1.3.1&nbsp;&nbsp;</span>Paper</a></span></li><li><span><a href=\"#Dataset\" data-toc-modified-id=\"Dataset-1.3.2\"><span class=\"toc-item-num\">1.3.2&nbsp;&nbsp;</span>Dataset</a></span></li><li><span><a href=\"#Data-description\" data-toc-modified-id=\"Data-description-1.3.3\"><span class=\"toc-item-num\">1.3.3&nbsp;&nbsp;</span>Data description</a></span></li></ul></li><li><span><a href=\"#Paper-Insigths\" data-toc-modified-id=\"Paper-Insigths-1.4\"><span class=\"toc-item-num\">1.4&nbsp;&nbsp;</span>Paper Insigths</a></span></li></ul></li><li><span><a href=\"#Import-libraries\" data-toc-modified-id=\"Import-libraries-2\"><span class=\"toc-item-num\">2&nbsp;&nbsp;</span>Import libraries</a></span></li><li><span><a href=\"#Load-Datasets\" data-toc-modified-id=\"Load-Datasets-3\"><span class=\"toc-item-num\">3&nbsp;&nbsp;</span>Load Datasets</a></span></li><li><span><a href=\"#Data-Description-and-Cleaning\" data-toc-modified-id=\"Data-Description-and-Cleaning-4\"><span class=\"toc-item-num\">4&nbsp;&nbsp;</span>Data Description and Cleaning</a></span><ul class=\"toc-item\"><li><span><a href=\"#Remove-duplicated-and-Not-necesary-Information\" data-toc-modified-id=\"Remove-duplicated-and-Not-necesary-Information-4.1\"><span class=\"toc-item-num\">4.1&nbsp;&nbsp;</span>Remove duplicated and Not necesary Information</a></span></li><li><span><a href=\"#Handling-Missing-Values\" data-toc-modified-id=\"Handling-Missing-Values-4.2\"><span class=\"toc-item-num\">4.2&nbsp;&nbsp;</span>Handling Missing Values</a></span><ul class=\"toc-item\"><li><span><a href=\"#Removing-missing-values\" data-toc-modified-id=\"Removing-missing-values-4.2.1\"><span class=\"toc-item-num\">4.2.1&nbsp;&nbsp;</span>Removing missing values</a></span><ul class=\"toc-item\"><li><span><a href=\"#race-column-analysis\" data-toc-modified-id=\"race-column-analysis-4.2.1.1\"><span class=\"toc-item-num\">4.2.1.1&nbsp;&nbsp;</span>race column analysis</a></span></li></ul></li><li><span><a href=\"#Save-intermediated-transformed-data\" data-toc-modified-id=\"Save-intermediated-transformed-data-4.2.2\"><span class=\"toc-item-num\">4.2.2&nbsp;&nbsp;</span>Save intermediated transformed data</a></span></li></ul></li></ul></li><li><span><a href=\"#Partial-Results\" data-toc-modified-id=\"Partial-Results-5\"><span class=\"toc-item-num\">5&nbsp;&nbsp;</span>Partial Results</a></span></li><li><span><a href=\"#References\" data-toc-modified-id=\"References-6\"><span class=\"toc-item-num\">6&nbsp;&nbsp;</span>References</a></span></li></ul></div>"
   ]
  },
  {
   "attachments": {},
   "cell_type": "markdown",
   "metadata": {
    "colab_type": "text",
    "id": "Wa9xYivpD4Eo"
   },
   "source": [
    "## Introduction\n",
    "\n",
    "\n",
    "Analyze factors related to readmission as well as other outcomes pertaining to patients in order to classify a patient-hospital outcome\n",
    "\n",
    "3 different outputs:\n",
    "\n",
    "1. No readmission\n",
    "\n",
    "2. A readmission in less than `30` days (this situation is not good, because maybe your treatment was not appropriate);\n",
    "\n",
    "3. A readmission in more than 30 days (this one is not so good as well the last one, however, the reason could be the state of the patient.\n",
    "\n",
    "\n",
    "## Main Objective\n",
    "\n",
    "> **How effective was the treatment received in hospital?**\n",
    "\n",
    "## Principal References\n",
    "\n",
    "### Paper\n",
    "\n",
    "Beata Strack, Jonathan P. DeShazo, Chris Gennings, Juan L. Olmo, Sebastian Ventura, Krzysztof J. Cios, and John N. Clore, “Impact of HbA1c Measurement on Hospital Readmission Rates: Analysis of 70,000 Clinical Database Patient Records,” BioMed Research International, vol. 2014, Article ID 781670, 11 pages, 2014.\n",
    "\n",
    "https://www.hindawi.com/journals/bmri/2014/781670/\n",
    "\n",
    "### Dataset\n",
    "\n",
    "https://archive.ics.uci.edu/ml/datasets/Diabetes+130-US+hospitals+for+years+1999-2008#\n",
    "\n",
    "### Data description\n",
    "\n",
    "https://www.hindawi.com/journals/bmri/2014/781670/tab1/"
   ]
  },
  {
   "attachments": {},
   "cell_type": "markdown",
   "metadata": {},
   "source": [
    "## Paper Insigths\n",
    "\n",
    "Multivariable logistic regression was used to fit the relationship between the measurement of HbA1c and **early readmission** while controlling for covariates such as demographics, severity and type of the disease, and type of admission.\n",
    "\n",
    "The measurement of HbA1c was performed infrequently (18.4%) in the inpatient setting.\n",
    "\n",
    "The statistical model suggests that the relationship between the probability of readmission and the HbA1c measurement depends on the primary diagnosis.\n",
    "\n",
    "The data suggest further that the greater attention to diabetes reflected in HbA1c determination may improve patient outcomes and lower cost of inpatient care.\n",
    "\n",
    "Databases of clinical data contain valuable but heterogeneous and difficult data in terms of missing values, incomplete or inconsistent records, and high dimensionality understood not only by number of features but also their complexity.\n",
    "\n",
    "preliminary analysis and preprocessing of the data were performed resulting in retaining only these features (attributes) and encounters that could be used in further analysis, that is, contain sufficient information.\n",
    "\n",
    "** criteria for extracting the data**\n",
    "\n",
    "1.\tIt is an inpatient encounter (a hospital admission).\n",
    "2.\tIt is a “diabetic” encounter, that is, one during which any kind of diabetes was entered to the system as a diagnosis.\n",
    "3.\tThe length of stay was at least 1 day and at most 14 days.\n",
    "4.\tLaboratory tests were performed during the encounter.\n",
    "5.\tMedications were administered during the encounter.\n",
    "\n",
    "Criteria  were applied to remove admissions for procedures and so forth, which were of less than 23 hours of duration and in which changes in diabetes management were less likely to have occurred. \n",
    "\n",
    "It should be noted that the diabetic encounters are not all encounters of diabetic patients but rather only these encounters where diabetes was coded as an existing health condition.\n",
    "\n",
    "primarily interested in factors that lead to early readmission\n",
    "\n",
    "- “readmitted,” if the patient was readmitted within 30 days of discharge\n",
    "- “otherwise,” which covers both readmission after 30 days and no readmission at all.\n",
    "\n",
    "Note that 30 days was chosen based on criteria often used by funding agencies\n",
    "\n",
    "Hemoglobin A1c (HbA1c) is an important measure of glucose control, which is widely applied to measure performance of diabetes care.\n",
    "\n",
    "The database contains detailed information about dosage but is restricted only to medications administered during the encounter. It was not possible to track any preadmission and discharge medications.\n",
    "\n",
    "They considered four groups of encounters: (1) no HbA1c test performed, (2) HbA1c performed and in normal range, (3) HbA1c performed and the result is greater than 8% with no change in diabetic medications, and (4) HbA1c performed, result is greater than 8%, and diabetic medication was changed.\n",
    "\n",
    "**Data information**\n",
    "\n",
    "the original database contains incomplete, redundant, and noisy information as expected in any real-world data. weight (97% values missing), payer code (40%), and medical specialty (47%). Weight attribute was not included in further analysis. Payer code was removed. Medical specialty attribute was maintained.\n",
    "\n",
    "The preliminary dataset contained multiple inpatient visits for some patients and the observations could **not be considered as statistically independent**\n",
    "\n",
    "removed all encounters that resulted in either **discharge to a hospice** or **patient death**, to avoid biasing our analysis.\n",
    "\n",
    "Processed dataset consists of hospital admissions of length between one and 14 days that did not result in a patient death or discharge to a hospice.\n",
    "\n",
    "**Each encounter corresponds to a unique patient diagnosed with diabetes, although the primary diagnosis may be different.**\n",
    "\n",
    "During each of the analyzed encounters, lab tests were ordered and medication was administered\n",
    "\n",
    "Each step was followed by tests for significance of variables with higher degree of freedom, an analysis of deviance table, and sensitivity analysis which was done by removing one variable at the time and looking at changes of beta-coefficients.\n",
    "\n",
    "the gender variable was not significant in the core model (without HbA1c), it was removed\n",
    "\n",
    "When tested for sensitivity, the values of beta-coefficients in the model changed by less than 35%, with an exception of the time in the hospital, medical specialty, age, and primary diagnosis that changed by 77%, 47%, 49%, and 65%, respectively, when the discharge disposition was removed. This suggests a relationship between these variables.\n"
   ]
  },
  {
   "attachments": {},
   "cell_type": "markdown",
   "metadata": {
    "colab_type": "text",
    "id": "MjPWhesSHJoO"
   },
   "source": [
    "# Import libraries"
   ]
  },
  {
   "cell_type": "code",
   "execution_count": 16,
   "metadata": {
    "colab": {},
    "colab_type": "code",
    "id": "ksQYJRZTHJoP"
   },
   "outputs": [],
   "source": [
    "import pandas as pd\n",
    "pd.options.plotting.backend = \"plotly\"\n",
    "import numpy as np"
   ]
  },
  {
   "attachments": {},
   "cell_type": "markdown",
   "metadata": {
    "colab_type": "text",
    "id": "LM4dC7lBHJoT"
   },
   "source": [
    "# Load Datasets"
   ]
  },
  {
   "cell_type": "code",
   "execution_count": 17,
   "metadata": {
    "colab": {},
    "colab_type": "code",
    "id": "R2C-zrtBHJoT"
   },
   "outputs": [],
   "source": [
    "data_raw = pd.read_csv(\"../data/raw/diabetic_data.csv\")"
   ]
  },
  {
   "attachments": {},
   "cell_type": "markdown",
   "metadata": {
    "colab_type": "text",
    "id": "5gnmm4vdHJoV"
   },
   "source": [
    "# Data Description and Cleaning\n",
    "\n",
    "Variable identification\n",
    "\n",
    "List of features and their descriptions in the initial dataset\n",
    "\n",
    "<table class=\"table\"><tbody><tr><td class=\"thead-hr\" colspan=\"4\"><hr></td></tr><tr class=\"thead\"><td align=\"left\">Feature name</td><td align=\"center\">Type</td><td align=\"left\">Description and values</td><td align=\"center\">% missing</td></tr><tr><td class=\"thead-hr\" colspan=\"4\"><hr></td></tr><tr><td align=\"left\">Encounter ID</td><td align=\"center\">Numeric</td><td align=\"left\">Unique identifier of an encounter</td><td align=\"center\">0%</td></tr><tr><td align=\"left\">Patient number</td><td align=\"center\">Numeric</td><td align=\"left\">Unique identifier of a patient</td><td align=\"center\">0%</td></tr><tr><td align=\"left\">Race</td><td align=\"center\">Nominal</td><td align=\"left\">Values: Caucasian, Asian, African American, Hispanic, and other</td><td align=\"center\">2%</td></tr><tr><td align=\"left\">Gender</td><td align=\"center\">Nominal</td><td align=\"left\">Values: male, female, and unknown/invalid</td><td align=\"center\">0%</td></tr><tr><td align=\"left\">Age</td><td align=\"center\">Nominal</td><td align=\"left\">Grouped in 10-year intervals: <svg height=\"14.85\" id=\"M2\" style=\"vertical-align:-1.95624pt\" version=\"1.1\" viewBox=\"0 0 5.9875002 14.85\" width=\"5.9875002\" xmlns=\"http://www.w3.org/2000/svg\" xmlns:xlink=\"http://www.w3.org/1999/xlink\">\n",
    "<g transform=\"matrix(.017,-0,0,-.017,.062,12.012)\"><path d=\"M290 -163h-170v866h170v-28q-79 -7 -94 -19.5t-15 -72.5v-627q0 -59 14.5 -71.5t94.5 -19.5v-28z\" id=\"x5B\"></path></g>\n",
    "</svg>0, 10), <svg height=\"14.85\" id=\"M3\" style=\"vertical-align:-1.95624pt\" version=\"1.1\" viewBox=\"0 0 5.9875002 14.85\" width=\"5.9875002\" xmlns=\"http://www.w3.org/2000/svg\" xmlns:xlink=\"http://www.w3.org/1999/xlink\">\n",
    "<g transform=\"matrix(.017,-0,0,-.017,.062,12.012)\"><path d=\"M290 -163h-170v866h170v-28q-79 -7 -94 -19.5t-15 -72.5v-627q0 -59 14.5 -71.5t94.5 -19.5v-28z\" id=\"x5B\"></path></g>\n",
    "</svg>10, 20), …, <svg height=\"14.85\" id=\"M4\" style=\"vertical-align:-1.95624pt\" version=\"1.1\" viewBox=\"0 0 5.9875002 14.85\" width=\"5.9875002\" xmlns=\"http://www.w3.org/2000/svg\" xmlns:xlink=\"http://www.w3.org/1999/xlink\">\n",
    "<g transform=\"matrix(.017,-0,0,-.017,.062,12.012)\"><path d=\"M290 -163h-170v866h170v-28q-79 -7 -94 -19.5t-15 -72.5v-627q0 -59 14.5 -71.5t94.5 -19.5v-28z\" id=\"x5B\"></path></g>\n",
    "</svg>90, 100)</td><td align=\"center\">0%</td></tr><tr><td align=\"left\">Weight</td><td align=\"center\">Numeric</td><td align=\"left\">Weight in pounds. </td><td align=\"center\">97%</td></tr><tr><td align=\"left\">Admission type</td><td align=\"center\">Nominal</td><td align=\"left\">Integer identifier corresponding to 9 distinct values, for example, emergency, urgent, elective, newborn, and not available</td><td align=\"center\">0%</td></tr><tr><td align=\"left\">Discharge disposition</td><td align=\"center\">Nominal</td><td align=\"left\">Integer identifier corresponding to 29 distinct values, for example, discharged to home, expired, and not available</td><td align=\"center\">0%</td></tr><tr><td align=\"left\">Admission source</td><td align=\"center\">Nominal</td><td align=\"left\">Integer identifier corresponding to 21 distinct values, for example, physician referral, emergency room, and transfer from a hospital</td><td align=\"center\">0%</td></tr><tr><td align=\"left\">Time in hospital</td><td align=\"center\">Numeric</td><td align=\"left\">Integer number of days between admission and discharge </td><td align=\"center\">0%</td></tr><tr><td align=\"left\">Payer code</td><td align=\"center\">Nominal</td><td align=\"left\">Integer identifier corresponding to 23 distinct values, for example, Blue Cross<i>/</i>Blue Shield, Medicare, and self-pay</td><td align=\"center\">52%</td></tr><tr><td align=\"left\">Medical specialty</td><td align=\"center\">Nominal</td><td align=\"left\">Integer identifier of a specialty of the admitting physician, corresponding to 84 distinct values, for example, cardiology, internal medicine,  family<i>/</i>general practice, and surgeon</td><td align=\"center\">53%</td></tr><tr><td align=\"left\">Number of lab procedures</td><td align=\"center\">Numeric</td><td align=\"left\">Number of lab tests performed during the encounter</td><td align=\"center\">0%</td></tr><tr><td align=\"left\">Number of  procedures</td><td align=\"center\">Numeric</td><td align=\"left\">Number of procedures (other than lab tests) performed during the encounter</td><td align=\"center\">0%</td></tr><tr><td align=\"left\">Number of  medications</td><td align=\"center\">Numeric</td><td align=\"left\">Number of distinct generic names administered during the encounter</td><td align=\"center\">0%</td></tr><tr><td align=\"left\">Number of outpatient visits</td><td align=\"center\">Numeric</td><td align=\"left\">Number of outpatient visits of the patient in the year preceding the encounter</td><td align=\"center\">0%</td></tr><tr><td align=\"left\">Number of emergency visits</td><td align=\"center\">Numeric</td><td align=\"left\">Number of emergency visits of the patient in the year preceding the encounter</td><td align=\"center\">0%</td></tr><tr><td align=\"left\">Number of inpatient visits</td><td align=\"center\">Numeric</td><td align=\"left\">Number of inpatient visits of the patient in the year preceding the encounter</td><td align=\"center\">0%</td></tr><tr><td align=\"left\">Diagnosis 1</td><td align=\"center\">Nominal</td><td align=\"left\">The primary diagnosis (coded as first three digits of ICD9); 848 distinct values</td><td align=\"center\">0%</td></tr><tr><td align=\"left\">Diagnosis 2</td><td align=\"center\">Nominal</td><td align=\"left\">Secondary diagnosis (coded as first three digits of ICD9); 923 distinct values</td><td align=\"center\">0%</td></tr><tr><td align=\"left\">Diagnosis 3</td><td align=\"center\">Nominal</td><td align=\"left\">Additional secondary diagnosis (coded as first three digits of ICD9); 954 distinct values</td><td align=\"center\">1%</td></tr><tr><td align=\"left\">Number of  diagnoses</td><td align=\"center\">Numeric</td><td align=\"left\">Number of diagnoses entered to the system</td><td align=\"center\">0%</td></tr><tr><td align=\"left\">Glucose serum test result </td><td align=\"center\">Nominal</td><td align=\"left\">Indicates the range of the result or if the test was not taken. Values: “&gt;200,” “&gt;300,” “normal,” and “none”  if not measured</td><td align=\"center\">0%</td></tr><tr><td align=\"left\">A1c test result</td><td align=\"center\">Nominal</td><td align=\"left\">Indicates the range of the result or if the test was not taken. Values: “&gt;8” if the result was greater than 8%,  “&gt;7” if the result was greater than 7% but less than 8%, “normal” if the result was less than 7%, and “none” if not measured.</td><td align=\"center\">\n",
    "\t\t\t\t\t\t\t\t\t0%</td></tr><tr><td align=\"left\">Change of medications</td><td align=\"center\">Nominal</td><td align=\"left\">Indicates if there was a change in diabetic medications (either dosage or generic name). Values: “change” and “no change”</td><td align=\"center\">0%</td></tr><tr><td align=\"left\">Diabetes medications</td><td align=\"center\">Nominal</td><td align=\"left\">Indicates if there was any diabetic medication prescribed. Values: “yes” and “no”</td><td align=\"center\">0%</td></tr><tr><td align=\"left\">24 features for medications  </td><td align=\"center\">Nominal</td><td align=\"left\">For the generic names: metformin, repaglinide, nateglinide, chlorpropamide, glimepiride, acetohexamide, glipizide, glyburide, tolbutamide, pioglitazone, rosiglitazone, acarbose, miglitol, troglitazone, tolazamide, examide, sitagliptin, insulin, glyburide-metformin, glipizide-metformin, glimepiride-pioglitazone, metformin-rosiglitazone, and metformin-pioglitazone, the feature indicates whether the drug was prescribed or there was a change in the dosage. Values: “up” if the dosage was increased during the encounter, “down” if the dosage was decreased, “steady” if the dosage did not change, and “no” if the drug was not  prescribed</td><td align=\"center\">0%</td></tr><tr><td align=\"left\">Readmitted</td><td align=\"center\">Nominal</td><td align=\"left\">Days to inpatient readmission. Values: “&lt;30” if the patient was readmitted in less than 30 days, “&gt;30” if the patient was readmitted in more than 30 days, and “No” for no record of readmission.</td><td align=\"center\">0%</td></tr><tr class=\"table-tr\"><td colspan=\"4\"><hr class=\"tbody-hr\"></td></tr></tbody></table>\n"
   ]
  },
  {
   "cell_type": "code",
   "execution_count": 18,
   "metadata": {
    "colab": {},
    "colab_type": "code",
    "id": "ZYzna68bHJoW",
    "tags": []
   },
   "outputs": [
    {
     "name": "stdout",
     "output_type": "stream",
     "text": [
      "<class 'pandas.core.frame.DataFrame'>\n",
      "RangeIndex: 101766 entries, 0 to 101765\n",
      "Data columns (total 50 columns):\n",
      " #   Column                    Non-Null Count   Dtype \n",
      "---  ------                    --------------   ----- \n",
      " 0   encounter_id              101766 non-null  int64 \n",
      " 1   patient_nbr               101766 non-null  int64 \n",
      " 2   race                      101766 non-null  object\n",
      " 3   gender                    101766 non-null  object\n",
      " 4   age                       101766 non-null  object\n",
      " 5   weight                    101766 non-null  object\n",
      " 6   admission_type_id         101766 non-null  int64 \n",
      " 7   discharge_disposition_id  101766 non-null  int64 \n",
      " 8   admission_source_id       101766 non-null  int64 \n",
      " 9   time_in_hospital          101766 non-null  int64 \n",
      " 10  payer_code                101766 non-null  object\n",
      " 11  medical_specialty         101766 non-null  object\n",
      " 12  num_lab_procedures        101766 non-null  int64 \n",
      " 13  num_procedures            101766 non-null  int64 \n",
      " 14  num_medications           101766 non-null  int64 \n",
      " 15  number_outpatient         101766 non-null  int64 \n",
      " 16  number_emergency          101766 non-null  int64 \n",
      " 17  number_inpatient          101766 non-null  int64 \n",
      " 18  diag_1                    101766 non-null  object\n",
      " 19  diag_2                    101766 non-null  object\n",
      " 20  diag_3                    101766 non-null  object\n",
      " 21  number_diagnoses          101766 non-null  int64 \n",
      " 22  max_glu_serum             101766 non-null  object\n",
      " 23  A1Cresult                 101766 non-null  object\n",
      " 24  metformin                 101766 non-null  object\n",
      " 25  repaglinide               101766 non-null  object\n",
      " 26  nateglinide               101766 non-null  object\n",
      " 27  chlorpropamide            101766 non-null  object\n",
      " 28  glimepiride               101766 non-null  object\n",
      " 29  acetohexamide             101766 non-null  object\n",
      " 30  glipizide                 101766 non-null  object\n",
      " 31  glyburide                 101766 non-null  object\n",
      " 32  tolbutamide               101766 non-null  object\n",
      " 33  pioglitazone              101766 non-null  object\n",
      " 34  rosiglitazone             101766 non-null  object\n",
      " 35  acarbose                  101766 non-null  object\n",
      " 36  miglitol                  101766 non-null  object\n",
      " 37  troglitazone              101766 non-null  object\n",
      " 38  tolazamide                101766 non-null  object\n",
      " 39  examide                   101766 non-null  object\n",
      " 40  citoglipton               101766 non-null  object\n",
      " 41  insulin                   101766 non-null  object\n",
      " 42  glyburide-metformin       101766 non-null  object\n",
      " 43  glipizide-metformin       101766 non-null  object\n",
      " 44  glimepiride-pioglitazone  101766 non-null  object\n",
      " 45  metformin-rosiglitazone   101766 non-null  object\n",
      " 46  metformin-pioglitazone    101766 non-null  object\n",
      " 47  change                    101766 non-null  object\n",
      " 48  diabetesMed               101766 non-null  object\n",
      " 49  readmitted                101766 non-null  object\n",
      "dtypes: int64(13), object(37)\n",
      "memory usage: 38.8+ MB\n"
     ]
    }
   ],
   "source": [
    "data_raw.info()"
   ]
  },
  {
   "attachments": {},
   "cell_type": "markdown",
   "metadata": {},
   "source": [
    "## Remove duplicated and Not necesary Information\n",
    "\n",
    "Check if the same patient has more than one encounter."
   ]
  },
  {
   "cell_type": "code",
   "execution_count": 19,
   "metadata": {},
   "outputs": [
    {
     "data": {
      "text/plain": [
       "30248"
      ]
     },
     "execution_count": 19,
     "metadata": {},
     "output_type": "execute_result"
    }
   ],
   "source": [
    "data_raw[\"patient_nbr\"].duplicated().sum()"
   ]
  },
  {
   "attachments": {},
   "cell_type": "markdown",
   "metadata": {},
   "source": [
    "remove duplicated patients, First order by readmitted to have `<30` first and then remove duplicated patients, to keep the patiens data with `<30` readmitted."
   ]
  },
  {
   "cell_type": "code",
   "execution_count": 20,
   "metadata": {},
   "outputs": [],
   "source": [
    "data_raw = data_raw.sort_values(by='readmitted',ascending= True)"
   ]
  },
  {
   "cell_type": "code",
   "execution_count": 21,
   "metadata": {},
   "outputs": [
    {
     "data": {
      "text/html": [
       "<div>\n",
       "<style scoped>\n",
       "    .dataframe tbody tr th:only-of-type {\n",
       "        vertical-align: middle;\n",
       "    }\n",
       "\n",
       "    .dataframe tbody tr th {\n",
       "        vertical-align: top;\n",
       "    }\n",
       "\n",
       "    .dataframe thead th {\n",
       "        text-align: right;\n",
       "    }\n",
       "</style>\n",
       "<table border=\"1\" class=\"dataframe\">\n",
       "  <thead>\n",
       "    <tr style=\"text-align: right;\">\n",
       "      <th></th>\n",
       "      <th>readmitted</th>\n",
       "    </tr>\n",
       "  </thead>\n",
       "  <tbody>\n",
       "    <tr>\n",
       "      <th>83129</th>\n",
       "      <td>&lt;30</td>\n",
       "    </tr>\n",
       "    <tr>\n",
       "      <th>28098</th>\n",
       "      <td>&lt;30</td>\n",
       "    </tr>\n",
       "    <tr>\n",
       "      <th>86255</th>\n",
       "      <td>&lt;30</td>\n",
       "    </tr>\n",
       "    <tr>\n",
       "      <th>28093</th>\n",
       "      <td>&lt;30</td>\n",
       "    </tr>\n",
       "    <tr>\n",
       "      <th>28090</th>\n",
       "      <td>&lt;30</td>\n",
       "    </tr>\n",
       "  </tbody>\n",
       "</table>\n",
       "</div>"
      ],
      "text/plain": [
       "      readmitted\n",
       "83129        <30\n",
       "28098        <30\n",
       "86255        <30\n",
       "28093        <30\n",
       "28090        <30"
      ]
     },
     "execution_count": 21,
     "metadata": {},
     "output_type": "execute_result"
    }
   ],
   "source": [
    "data_raw[['readmitted']].head()"
   ]
  },
  {
   "cell_type": "code",
   "execution_count": 22,
   "metadata": {},
   "outputs": [],
   "source": [
    "data_raw.drop_duplicates(subset =\"patient_nbr\", keep = \"first\", inplace = True)"
   ]
  },
  {
   "attachments": {},
   "cell_type": "markdown",
   "metadata": {},
   "source": [
    "Remove encounter and patient id columns"
   ]
  },
  {
   "cell_type": "code",
   "execution_count": 23,
   "metadata": {},
   "outputs": [],
   "source": [
    "data_raw.drop(['encounter_id','patient_nbr'],axis='columns',inplace=True)"
   ]
  },
  {
   "attachments": {},
   "cell_type": "markdown",
   "metadata": {},
   "source": [
    "Number of duplicated data after removing columns"
   ]
  },
  {
   "cell_type": "code",
   "execution_count": 24,
   "metadata": {
    "tags": []
   },
   "outputs": [
    {
     "name": "stdout",
     "output_type": "stream",
     "text": [
      "Duplicated data = 0\n"
     ]
    }
   ],
   "source": [
    "print(f\"Duplicated data = {len(data_raw)-len(data_raw.drop_duplicates())}\")"
   ]
  },
  {
   "attachments": {},
   "cell_type": "markdown",
   "metadata": {},
   "source": [
    "Information of discharge disposition\n",
    "\n",
    "\n",
    "In our case to find the effectiveness of the treatmento of people how finish the whole hospotal process to reduce the readmission, i'm going to delete the rows related with people that still in hospital or still patient and people who passed away.\n",
    "\n",
    "- 11,Expired\n",
    "- 13,Hospice / home\n",
    "- 14,Hospice / medical facility\n",
    "- 19,\"Expired at home. Medicaid only, hospice.\"\n",
    "- 20,\"Expired in a medical facility. Medicaid only, hospice.\"\n",
    "- 21,\"Expired, place unknown. Medicaid only, hospice.\""
   ]
  },
  {
   "cell_type": "code",
   "execution_count": 25,
   "metadata": {},
   "outputs": [],
   "source": [
    "data_raw = data_raw[~data_raw[\"discharge_disposition_id\"].isin([11,13,14,19,20])]"
   ]
  },
  {
   "attachments": {},
   "cell_type": "markdown",
   "metadata": {},
   "source": [
    "## Handling Missing Values"
   ]
  },
  {
   "cell_type": "code",
   "execution_count": 26,
   "metadata": {},
   "outputs": [
    {
     "data": {
      "text/html": [
       "<div>\n",
       "<style scoped>\n",
       "    .dataframe tbody tr th:only-of-type {\n",
       "        vertical-align: middle;\n",
       "    }\n",
       "\n",
       "    .dataframe tbody tr th {\n",
       "        vertical-align: top;\n",
       "    }\n",
       "\n",
       "    .dataframe thead th {\n",
       "        text-align: right;\n",
       "    }\n",
       "</style>\n",
       "<table border=\"1\" class=\"dataframe\">\n",
       "  <thead>\n",
       "    <tr style=\"text-align: right;\">\n",
       "      <th></th>\n",
       "      <th>94012</th>\n",
       "      <th>51078</th>\n",
       "      <th>81876</th>\n",
       "      <th>49572</th>\n",
       "      <th>4069</th>\n",
       "      <th>78523</th>\n",
       "      <th>90484</th>\n",
       "      <th>91217</th>\n",
       "      <th>97529</th>\n",
       "      <th>88935</th>\n",
       "    </tr>\n",
       "  </thead>\n",
       "  <tbody>\n",
       "    <tr>\n",
       "      <th>race</th>\n",
       "      <td>AfricanAmerican</td>\n",
       "      <td>Caucasian</td>\n",
       "      <td>Caucasian</td>\n",
       "      <td>Other</td>\n",
       "      <td>Caucasian</td>\n",
       "      <td>Caucasian</td>\n",
       "      <td>Caucasian</td>\n",
       "      <td>Caucasian</td>\n",
       "      <td>Caucasian</td>\n",
       "      <td>Caucasian</td>\n",
       "    </tr>\n",
       "    <tr>\n",
       "      <th>gender</th>\n",
       "      <td>Female</td>\n",
       "      <td>Female</td>\n",
       "      <td>Male</td>\n",
       "      <td>Male</td>\n",
       "      <td>Female</td>\n",
       "      <td>Female</td>\n",
       "      <td>Male</td>\n",
       "      <td>Female</td>\n",
       "      <td>Female</td>\n",
       "      <td>Female</td>\n",
       "    </tr>\n",
       "    <tr>\n",
       "      <th>age</th>\n",
       "      <td>[80-90)</td>\n",
       "      <td>[90-100)</td>\n",
       "      <td>[70-80)</td>\n",
       "      <td>[50-60)</td>\n",
       "      <td>[90-100)</td>\n",
       "      <td>[70-80)</td>\n",
       "      <td>[60-70)</td>\n",
       "      <td>[30-40)</td>\n",
       "      <td>[70-80)</td>\n",
       "      <td>[70-80)</td>\n",
       "    </tr>\n",
       "    <tr>\n",
       "      <th>weight</th>\n",
       "      <td>?</td>\n",
       "      <td>?</td>\n",
       "      <td>?</td>\n",
       "      <td>?</td>\n",
       "      <td>?</td>\n",
       "      <td>?</td>\n",
       "      <td>?</td>\n",
       "      <td>?</td>\n",
       "      <td>?</td>\n",
       "      <td>?</td>\n",
       "    </tr>\n",
       "    <tr>\n",
       "      <th>admission_type_id</th>\n",
       "      <td>1</td>\n",
       "      <td>5</td>\n",
       "      <td>1</td>\n",
       "      <td>1</td>\n",
       "      <td>1</td>\n",
       "      <td>1</td>\n",
       "      <td>1</td>\n",
       "      <td>2</td>\n",
       "      <td>3</td>\n",
       "      <td>2</td>\n",
       "    </tr>\n",
       "    <tr>\n",
       "      <th>discharge_disposition_id</th>\n",
       "      <td>1</td>\n",
       "      <td>1</td>\n",
       "      <td>1</td>\n",
       "      <td>1</td>\n",
       "      <td>3</td>\n",
       "      <td>1</td>\n",
       "      <td>1</td>\n",
       "      <td>1</td>\n",
       "      <td>1</td>\n",
       "      <td>1</td>\n",
       "    </tr>\n",
       "    <tr>\n",
       "      <th>admission_source_id</th>\n",
       "      <td>7</td>\n",
       "      <td>1</td>\n",
       "      <td>7</td>\n",
       "      <td>7</td>\n",
       "      <td>7</td>\n",
       "      <td>7</td>\n",
       "      <td>7</td>\n",
       "      <td>7</td>\n",
       "      <td>1</td>\n",
       "      <td>7</td>\n",
       "    </tr>\n",
       "    <tr>\n",
       "      <th>time_in_hospital</th>\n",
       "      <td>2</td>\n",
       "      <td>3</td>\n",
       "      <td>2</td>\n",
       "      <td>2</td>\n",
       "      <td>3</td>\n",
       "      <td>4</td>\n",
       "      <td>4</td>\n",
       "      <td>2</td>\n",
       "      <td>4</td>\n",
       "      <td>1</td>\n",
       "    </tr>\n",
       "    <tr>\n",
       "      <th>payer_code</th>\n",
       "      <td>?</td>\n",
       "      <td>MC</td>\n",
       "      <td>MC</td>\n",
       "      <td>?</td>\n",
       "      <td>?</td>\n",
       "      <td>MC</td>\n",
       "      <td>MC</td>\n",
       "      <td>CM</td>\n",
       "      <td>?</td>\n",
       "      <td>MC</td>\n",
       "    </tr>\n",
       "    <tr>\n",
       "      <th>medical_specialty</th>\n",
       "      <td>?</td>\n",
       "      <td>?</td>\n",
       "      <td>?</td>\n",
       "      <td>?</td>\n",
       "      <td>InternalMedicine</td>\n",
       "      <td>?</td>\n",
       "      <td>?</td>\n",
       "      <td>Emergency/Trauma</td>\n",
       "      <td>Radiologist</td>\n",
       "      <td>Emergency/Trauma</td>\n",
       "    </tr>\n",
       "    <tr>\n",
       "      <th>num_lab_procedures</th>\n",
       "      <td>13</td>\n",
       "      <td>48</td>\n",
       "      <td>41</td>\n",
       "      <td>24</td>\n",
       "      <td>33</td>\n",
       "      <td>57</td>\n",
       "      <td>48</td>\n",
       "      <td>1</td>\n",
       "      <td>1</td>\n",
       "      <td>30</td>\n",
       "    </tr>\n",
       "    <tr>\n",
       "      <th>num_procedures</th>\n",
       "      <td>0</td>\n",
       "      <td>2</td>\n",
       "      <td>0</td>\n",
       "      <td>3</td>\n",
       "      <td>0</td>\n",
       "      <td>0</td>\n",
       "      <td>0</td>\n",
       "      <td>1</td>\n",
       "      <td>2</td>\n",
       "      <td>0</td>\n",
       "    </tr>\n",
       "    <tr>\n",
       "      <th>num_medications</th>\n",
       "      <td>9</td>\n",
       "      <td>11</td>\n",
       "      <td>15</td>\n",
       "      <td>9</td>\n",
       "      <td>4</td>\n",
       "      <td>26</td>\n",
       "      <td>20</td>\n",
       "      <td>7</td>\n",
       "      <td>9</td>\n",
       "      <td>6</td>\n",
       "    </tr>\n",
       "    <tr>\n",
       "      <th>number_outpatient</th>\n",
       "      <td>0</td>\n",
       "      <td>1</td>\n",
       "      <td>0</td>\n",
       "      <td>0</td>\n",
       "      <td>0</td>\n",
       "      <td>0</td>\n",
       "      <td>0</td>\n",
       "      <td>0</td>\n",
       "      <td>0</td>\n",
       "      <td>0</td>\n",
       "    </tr>\n",
       "    <tr>\n",
       "      <th>number_emergency</th>\n",
       "      <td>0</td>\n",
       "      <td>0</td>\n",
       "      <td>0</td>\n",
       "      <td>0</td>\n",
       "      <td>0</td>\n",
       "      <td>0</td>\n",
       "      <td>0</td>\n",
       "      <td>0</td>\n",
       "      <td>0</td>\n",
       "      <td>4</td>\n",
       "    </tr>\n",
       "    <tr>\n",
       "      <th>number_inpatient</th>\n",
       "      <td>0</td>\n",
       "      <td>0</td>\n",
       "      <td>0</td>\n",
       "      <td>0</td>\n",
       "      <td>0</td>\n",
       "      <td>0</td>\n",
       "      <td>0</td>\n",
       "      <td>0</td>\n",
       "      <td>0</td>\n",
       "      <td>2</td>\n",
       "    </tr>\n",
       "    <tr>\n",
       "      <th>diag_1</th>\n",
       "      <td>428</td>\n",
       "      <td>532</td>\n",
       "      <td>428</td>\n",
       "      <td>414</td>\n",
       "      <td>808</td>\n",
       "      <td>428</td>\n",
       "      <td>276</td>\n",
       "      <td>191</td>\n",
       "      <td>433</td>\n",
       "      <td>599</td>\n",
       "    </tr>\n",
       "    <tr>\n",
       "      <th>diag_2</th>\n",
       "      <td>411</td>\n",
       "      <td>285</td>\n",
       "      <td>413</td>\n",
       "      <td>411</td>\n",
       "      <td>780</td>\n",
       "      <td>492</td>\n",
       "      <td>785</td>\n",
       "      <td>276</td>\n",
       "      <td>401</td>\n",
       "      <td>414</td>\n",
       "    </tr>\n",
       "    <tr>\n",
       "      <th>diag_3</th>\n",
       "      <td>414</td>\n",
       "      <td>427</td>\n",
       "      <td>250.42</td>\n",
       "      <td>496</td>\n",
       "      <td>401</td>\n",
       "      <td>799</td>\n",
       "      <td>585</td>\n",
       "      <td>276</td>\n",
       "      <td>272</td>\n",
       "      <td>443</td>\n",
       "    </tr>\n",
       "    <tr>\n",
       "      <th>number_diagnoses</th>\n",
       "      <td>9</td>\n",
       "      <td>9</td>\n",
       "      <td>9</td>\n",
       "      <td>6</td>\n",
       "      <td>9</td>\n",
       "      <td>9</td>\n",
       "      <td>16</td>\n",
       "      <td>6</td>\n",
       "      <td>8</td>\n",
       "      <td>9</td>\n",
       "    </tr>\n",
       "    <tr>\n",
       "      <th>max_glu_serum</th>\n",
       "      <td>None</td>\n",
       "      <td>None</td>\n",
       "      <td>None</td>\n",
       "      <td>None</td>\n",
       "      <td>None</td>\n",
       "      <td>None</td>\n",
       "      <td>None</td>\n",
       "      <td>None</td>\n",
       "      <td>None</td>\n",
       "      <td>None</td>\n",
       "    </tr>\n",
       "    <tr>\n",
       "      <th>A1Cresult</th>\n",
       "      <td>None</td>\n",
       "      <td>None</td>\n",
       "      <td>None</td>\n",
       "      <td>None</td>\n",
       "      <td>None</td>\n",
       "      <td>None</td>\n",
       "      <td>None</td>\n",
       "      <td>None</td>\n",
       "      <td>None</td>\n",
       "      <td>None</td>\n",
       "    </tr>\n",
       "    <tr>\n",
       "      <th>metformin</th>\n",
       "      <td>No</td>\n",
       "      <td>No</td>\n",
       "      <td>No</td>\n",
       "      <td>No</td>\n",
       "      <td>No</td>\n",
       "      <td>Steady</td>\n",
       "      <td>No</td>\n",
       "      <td>No</td>\n",
       "      <td>No</td>\n",
       "      <td>No</td>\n",
       "    </tr>\n",
       "    <tr>\n",
       "      <th>repaglinide</th>\n",
       "      <td>No</td>\n",
       "      <td>No</td>\n",
       "      <td>No</td>\n",
       "      <td>No</td>\n",
       "      <td>No</td>\n",
       "      <td>No</td>\n",
       "      <td>No</td>\n",
       "      <td>No</td>\n",
       "      <td>No</td>\n",
       "      <td>No</td>\n",
       "    </tr>\n",
       "    <tr>\n",
       "      <th>nateglinide</th>\n",
       "      <td>No</td>\n",
       "      <td>No</td>\n",
       "      <td>No</td>\n",
       "      <td>No</td>\n",
       "      <td>No</td>\n",
       "      <td>No</td>\n",
       "      <td>No</td>\n",
       "      <td>No</td>\n",
       "      <td>No</td>\n",
       "      <td>No</td>\n",
       "    </tr>\n",
       "    <tr>\n",
       "      <th>chlorpropamide</th>\n",
       "      <td>No</td>\n",
       "      <td>No</td>\n",
       "      <td>No</td>\n",
       "      <td>No</td>\n",
       "      <td>No</td>\n",
       "      <td>No</td>\n",
       "      <td>No</td>\n",
       "      <td>No</td>\n",
       "      <td>No</td>\n",
       "      <td>No</td>\n",
       "    </tr>\n",
       "    <tr>\n",
       "      <th>glimepiride</th>\n",
       "      <td>No</td>\n",
       "      <td>No</td>\n",
       "      <td>No</td>\n",
       "      <td>No</td>\n",
       "      <td>No</td>\n",
       "      <td>No</td>\n",
       "      <td>No</td>\n",
       "      <td>No</td>\n",
       "      <td>No</td>\n",
       "      <td>No</td>\n",
       "    </tr>\n",
       "    <tr>\n",
       "      <th>acetohexamide</th>\n",
       "      <td>No</td>\n",
       "      <td>No</td>\n",
       "      <td>No</td>\n",
       "      <td>No</td>\n",
       "      <td>No</td>\n",
       "      <td>No</td>\n",
       "      <td>No</td>\n",
       "      <td>No</td>\n",
       "      <td>No</td>\n",
       "      <td>No</td>\n",
       "    </tr>\n",
       "    <tr>\n",
       "      <th>glipizide</th>\n",
       "      <td>No</td>\n",
       "      <td>No</td>\n",
       "      <td>Steady</td>\n",
       "      <td>No</td>\n",
       "      <td>No</td>\n",
       "      <td>No</td>\n",
       "      <td>No</td>\n",
       "      <td>No</td>\n",
       "      <td>Steady</td>\n",
       "      <td>No</td>\n",
       "    </tr>\n",
       "    <tr>\n",
       "      <th>glyburide</th>\n",
       "      <td>Up</td>\n",
       "      <td>No</td>\n",
       "      <td>No</td>\n",
       "      <td>No</td>\n",
       "      <td>No</td>\n",
       "      <td>No</td>\n",
       "      <td>No</td>\n",
       "      <td>No</td>\n",
       "      <td>No</td>\n",
       "      <td>No</td>\n",
       "    </tr>\n",
       "    <tr>\n",
       "      <th>tolbutamide</th>\n",
       "      <td>No</td>\n",
       "      <td>No</td>\n",
       "      <td>No</td>\n",
       "      <td>No</td>\n",
       "      <td>No</td>\n",
       "      <td>No</td>\n",
       "      <td>No</td>\n",
       "      <td>No</td>\n",
       "      <td>No</td>\n",
       "      <td>No</td>\n",
       "    </tr>\n",
       "    <tr>\n",
       "      <th>pioglitazone</th>\n",
       "      <td>No</td>\n",
       "      <td>No</td>\n",
       "      <td>No</td>\n",
       "      <td>Steady</td>\n",
       "      <td>No</td>\n",
       "      <td>No</td>\n",
       "      <td>No</td>\n",
       "      <td>No</td>\n",
       "      <td>No</td>\n",
       "      <td>Steady</td>\n",
       "    </tr>\n",
       "    <tr>\n",
       "      <th>rosiglitazone</th>\n",
       "      <td>No</td>\n",
       "      <td>No</td>\n",
       "      <td>No</td>\n",
       "      <td>No</td>\n",
       "      <td>No</td>\n",
       "      <td>No</td>\n",
       "      <td>No</td>\n",
       "      <td>No</td>\n",
       "      <td>No</td>\n",
       "      <td>No</td>\n",
       "    </tr>\n",
       "    <tr>\n",
       "      <th>acarbose</th>\n",
       "      <td>No</td>\n",
       "      <td>No</td>\n",
       "      <td>No</td>\n",
       "      <td>No</td>\n",
       "      <td>No</td>\n",
       "      <td>No</td>\n",
       "      <td>No</td>\n",
       "      <td>No</td>\n",
       "      <td>No</td>\n",
       "      <td>No</td>\n",
       "    </tr>\n",
       "    <tr>\n",
       "      <th>miglitol</th>\n",
       "      <td>No</td>\n",
       "      <td>No</td>\n",
       "      <td>No</td>\n",
       "      <td>No</td>\n",
       "      <td>No</td>\n",
       "      <td>No</td>\n",
       "      <td>No</td>\n",
       "      <td>No</td>\n",
       "      <td>No</td>\n",
       "      <td>No</td>\n",
       "    </tr>\n",
       "    <tr>\n",
       "      <th>troglitazone</th>\n",
       "      <td>No</td>\n",
       "      <td>No</td>\n",
       "      <td>No</td>\n",
       "      <td>No</td>\n",
       "      <td>No</td>\n",
       "      <td>No</td>\n",
       "      <td>No</td>\n",
       "      <td>No</td>\n",
       "      <td>No</td>\n",
       "      <td>No</td>\n",
       "    </tr>\n",
       "    <tr>\n",
       "      <th>tolazamide</th>\n",
       "      <td>No</td>\n",
       "      <td>No</td>\n",
       "      <td>No</td>\n",
       "      <td>No</td>\n",
       "      <td>No</td>\n",
       "      <td>No</td>\n",
       "      <td>No</td>\n",
       "      <td>No</td>\n",
       "      <td>No</td>\n",
       "      <td>No</td>\n",
       "    </tr>\n",
       "    <tr>\n",
       "      <th>examide</th>\n",
       "      <td>No</td>\n",
       "      <td>No</td>\n",
       "      <td>No</td>\n",
       "      <td>No</td>\n",
       "      <td>No</td>\n",
       "      <td>No</td>\n",
       "      <td>No</td>\n",
       "      <td>No</td>\n",
       "      <td>No</td>\n",
       "      <td>No</td>\n",
       "    </tr>\n",
       "    <tr>\n",
       "      <th>citoglipton</th>\n",
       "      <td>No</td>\n",
       "      <td>No</td>\n",
       "      <td>No</td>\n",
       "      <td>No</td>\n",
       "      <td>No</td>\n",
       "      <td>No</td>\n",
       "      <td>No</td>\n",
       "      <td>No</td>\n",
       "      <td>No</td>\n",
       "      <td>No</td>\n",
       "    </tr>\n",
       "    <tr>\n",
       "      <th>insulin</th>\n",
       "      <td>No</td>\n",
       "      <td>No</td>\n",
       "      <td>Up</td>\n",
       "      <td>No</td>\n",
       "      <td>No</td>\n",
       "      <td>Steady</td>\n",
       "      <td>No</td>\n",
       "      <td>Steady</td>\n",
       "      <td>No</td>\n",
       "      <td>No</td>\n",
       "    </tr>\n",
       "    <tr>\n",
       "      <th>glyburide-metformin</th>\n",
       "      <td>No</td>\n",
       "      <td>No</td>\n",
       "      <td>No</td>\n",
       "      <td>No</td>\n",
       "      <td>No</td>\n",
       "      <td>No</td>\n",
       "      <td>No</td>\n",
       "      <td>No</td>\n",
       "      <td>No</td>\n",
       "      <td>No</td>\n",
       "    </tr>\n",
       "    <tr>\n",
       "      <th>glipizide-metformin</th>\n",
       "      <td>No</td>\n",
       "      <td>No</td>\n",
       "      <td>No</td>\n",
       "      <td>No</td>\n",
       "      <td>No</td>\n",
       "      <td>No</td>\n",
       "      <td>No</td>\n",
       "      <td>No</td>\n",
       "      <td>No</td>\n",
       "      <td>No</td>\n",
       "    </tr>\n",
       "    <tr>\n",
       "      <th>glimepiride-pioglitazone</th>\n",
       "      <td>No</td>\n",
       "      <td>No</td>\n",
       "      <td>No</td>\n",
       "      <td>No</td>\n",
       "      <td>No</td>\n",
       "      <td>No</td>\n",
       "      <td>No</td>\n",
       "      <td>No</td>\n",
       "      <td>No</td>\n",
       "      <td>No</td>\n",
       "    </tr>\n",
       "    <tr>\n",
       "      <th>metformin-rosiglitazone</th>\n",
       "      <td>No</td>\n",
       "      <td>No</td>\n",
       "      <td>No</td>\n",
       "      <td>No</td>\n",
       "      <td>No</td>\n",
       "      <td>No</td>\n",
       "      <td>No</td>\n",
       "      <td>No</td>\n",
       "      <td>No</td>\n",
       "      <td>No</td>\n",
       "    </tr>\n",
       "    <tr>\n",
       "      <th>metformin-pioglitazone</th>\n",
       "      <td>No</td>\n",
       "      <td>No</td>\n",
       "      <td>No</td>\n",
       "      <td>No</td>\n",
       "      <td>No</td>\n",
       "      <td>No</td>\n",
       "      <td>No</td>\n",
       "      <td>No</td>\n",
       "      <td>No</td>\n",
       "      <td>No</td>\n",
       "    </tr>\n",
       "    <tr>\n",
       "      <th>change</th>\n",
       "      <td>Ch</td>\n",
       "      <td>No</td>\n",
       "      <td>Ch</td>\n",
       "      <td>No</td>\n",
       "      <td>No</td>\n",
       "      <td>Ch</td>\n",
       "      <td>No</td>\n",
       "      <td>No</td>\n",
       "      <td>No</td>\n",
       "      <td>No</td>\n",
       "    </tr>\n",
       "    <tr>\n",
       "      <th>diabetesMed</th>\n",
       "      <td>Yes</td>\n",
       "      <td>No</td>\n",
       "      <td>Yes</td>\n",
       "      <td>Yes</td>\n",
       "      <td>No</td>\n",
       "      <td>Yes</td>\n",
       "      <td>No</td>\n",
       "      <td>Yes</td>\n",
       "      <td>Yes</td>\n",
       "      <td>Yes</td>\n",
       "    </tr>\n",
       "    <tr>\n",
       "      <th>readmitted</th>\n",
       "      <td>NO</td>\n",
       "      <td>NO</td>\n",
       "      <td>NO</td>\n",
       "      <td>NO</td>\n",
       "      <td>NO</td>\n",
       "      <td>NO</td>\n",
       "      <td>NO</td>\n",
       "      <td>&gt;30</td>\n",
       "      <td>&lt;30</td>\n",
       "      <td>&lt;30</td>\n",
       "    </tr>\n",
       "  </tbody>\n",
       "</table>\n",
       "</div>"
      ],
      "text/plain": [
       "                                    94012      51078      81876    49572  \\\n",
       "race                      AfricanAmerican  Caucasian  Caucasian    Other   \n",
       "gender                             Female     Female       Male     Male   \n",
       "age                               [80-90)   [90-100)    [70-80)  [50-60)   \n",
       "weight                                  ?          ?          ?        ?   \n",
       "admission_type_id                       1          5          1        1   \n",
       "discharge_disposition_id                1          1          1        1   \n",
       "admission_source_id                     7          1          7        7   \n",
       "time_in_hospital                        2          3          2        2   \n",
       "payer_code                              ?         MC         MC        ?   \n",
       "medical_specialty                       ?          ?          ?        ?   \n",
       "num_lab_procedures                     13         48         41       24   \n",
       "num_procedures                          0          2          0        3   \n",
       "num_medications                         9         11         15        9   \n",
       "number_outpatient                       0          1          0        0   \n",
       "number_emergency                        0          0          0        0   \n",
       "number_inpatient                        0          0          0        0   \n",
       "diag_1                                428        532        428      414   \n",
       "diag_2                                411        285        413      411   \n",
       "diag_3                                414        427     250.42      496   \n",
       "number_diagnoses                        9          9          9        6   \n",
       "max_glu_serum                        None       None       None     None   \n",
       "A1Cresult                            None       None       None     None   \n",
       "metformin                              No         No         No       No   \n",
       "repaglinide                            No         No         No       No   \n",
       "nateglinide                            No         No         No       No   \n",
       "chlorpropamide                         No         No         No       No   \n",
       "glimepiride                            No         No         No       No   \n",
       "acetohexamide                          No         No         No       No   \n",
       "glipizide                              No         No     Steady       No   \n",
       "glyburide                              Up         No         No       No   \n",
       "tolbutamide                            No         No         No       No   \n",
       "pioglitazone                           No         No         No   Steady   \n",
       "rosiglitazone                          No         No         No       No   \n",
       "acarbose                               No         No         No       No   \n",
       "miglitol                               No         No         No       No   \n",
       "troglitazone                           No         No         No       No   \n",
       "tolazamide                             No         No         No       No   \n",
       "examide                                No         No         No       No   \n",
       "citoglipton                            No         No         No       No   \n",
       "insulin                                No         No         Up       No   \n",
       "glyburide-metformin                    No         No         No       No   \n",
       "glipizide-metformin                    No         No         No       No   \n",
       "glimepiride-pioglitazone               No         No         No       No   \n",
       "metformin-rosiglitazone                No         No         No       No   \n",
       "metformin-pioglitazone                 No         No         No       No   \n",
       "change                                 Ch         No         Ch       No   \n",
       "diabetesMed                           Yes         No        Yes      Yes   \n",
       "readmitted                             NO         NO         NO       NO   \n",
       "\n",
       "                                     4069       78523      90484  \\\n",
       "race                             Caucasian  Caucasian  Caucasian   \n",
       "gender                              Female     Female       Male   \n",
       "age                               [90-100)    [70-80)    [60-70)   \n",
       "weight                                   ?          ?          ?   \n",
       "admission_type_id                        1          1          1   \n",
       "discharge_disposition_id                 3          1          1   \n",
       "admission_source_id                      7          7          7   \n",
       "time_in_hospital                         3          4          4   \n",
       "payer_code                               ?         MC         MC   \n",
       "medical_specialty         InternalMedicine          ?          ?   \n",
       "num_lab_procedures                      33         57         48   \n",
       "num_procedures                           0          0          0   \n",
       "num_medications                          4         26         20   \n",
       "number_outpatient                        0          0          0   \n",
       "number_emergency                         0          0          0   \n",
       "number_inpatient                         0          0          0   \n",
       "diag_1                                 808        428        276   \n",
       "diag_2                                 780        492        785   \n",
       "diag_3                                 401        799        585   \n",
       "number_diagnoses                         9          9         16   \n",
       "max_glu_serum                         None       None       None   \n",
       "A1Cresult                             None       None       None   \n",
       "metformin                               No     Steady         No   \n",
       "repaglinide                             No         No         No   \n",
       "nateglinide                             No         No         No   \n",
       "chlorpropamide                          No         No         No   \n",
       "glimepiride                             No         No         No   \n",
       "acetohexamide                           No         No         No   \n",
       "glipizide                               No         No         No   \n",
       "glyburide                               No         No         No   \n",
       "tolbutamide                             No         No         No   \n",
       "pioglitazone                            No         No         No   \n",
       "rosiglitazone                           No         No         No   \n",
       "acarbose                                No         No         No   \n",
       "miglitol                                No         No         No   \n",
       "troglitazone                            No         No         No   \n",
       "tolazamide                              No         No         No   \n",
       "examide                                 No         No         No   \n",
       "citoglipton                             No         No         No   \n",
       "insulin                                 No     Steady         No   \n",
       "glyburide-metformin                     No         No         No   \n",
       "glipizide-metformin                     No         No         No   \n",
       "glimepiride-pioglitazone                No         No         No   \n",
       "metformin-rosiglitazone                 No         No         No   \n",
       "metformin-pioglitazone                  No         No         No   \n",
       "change                                  No         Ch         No   \n",
       "diabetesMed                             No        Yes         No   \n",
       "readmitted                              NO         NO         NO   \n",
       "\n",
       "                                     91217        97529             88935  \n",
       "race                             Caucasian    Caucasian         Caucasian  \n",
       "gender                              Female       Female            Female  \n",
       "age                                [30-40)      [70-80)           [70-80)  \n",
       "weight                                   ?            ?                 ?  \n",
       "admission_type_id                        2            3                 2  \n",
       "discharge_disposition_id                 1            1                 1  \n",
       "admission_source_id                      7            1                 7  \n",
       "time_in_hospital                         2            4                 1  \n",
       "payer_code                              CM            ?                MC  \n",
       "medical_specialty         Emergency/Trauma  Radiologist  Emergency/Trauma  \n",
       "num_lab_procedures                       1            1                30  \n",
       "num_procedures                           1            2                 0  \n",
       "num_medications                          7            9                 6  \n",
       "number_outpatient                        0            0                 0  \n",
       "number_emergency                         0            0                 4  \n",
       "number_inpatient                         0            0                 2  \n",
       "diag_1                                 191          433               599  \n",
       "diag_2                                 276          401               414  \n",
       "diag_3                                 276          272               443  \n",
       "number_diagnoses                         6            8                 9  \n",
       "max_glu_serum                         None         None              None  \n",
       "A1Cresult                             None         None              None  \n",
       "metformin                               No           No                No  \n",
       "repaglinide                             No           No                No  \n",
       "nateglinide                             No           No                No  \n",
       "chlorpropamide                          No           No                No  \n",
       "glimepiride                             No           No                No  \n",
       "acetohexamide                           No           No                No  \n",
       "glipizide                               No       Steady                No  \n",
       "glyburide                               No           No                No  \n",
       "tolbutamide                             No           No                No  \n",
       "pioglitazone                            No           No            Steady  \n",
       "rosiglitazone                           No           No                No  \n",
       "acarbose                                No           No                No  \n",
       "miglitol                                No           No                No  \n",
       "troglitazone                            No           No                No  \n",
       "tolazamide                              No           No                No  \n",
       "examide                                 No           No                No  \n",
       "citoglipton                             No           No                No  \n",
       "insulin                             Steady           No                No  \n",
       "glyburide-metformin                     No           No                No  \n",
       "glipizide-metformin                     No           No                No  \n",
       "glimepiride-pioglitazone                No           No                No  \n",
       "metformin-rosiglitazone                 No           No                No  \n",
       "metformin-pioglitazone                  No           No                No  \n",
       "change                                  No           No                No  \n",
       "diabetesMed                            Yes          Yes               Yes  \n",
       "readmitted                             >30          <30               <30  "
      ]
     },
     "execution_count": 26,
     "metadata": {},
     "output_type": "execute_result"
    }
   ],
   "source": [
    "#look some samples ofthe data\n",
    "data_raw.sample(10).T"
   ]
  },
  {
   "attachments": {},
   "cell_type": "markdown",
   "metadata": {},
   "source": [
    "There's some '?' values in the columns, is important to find which values had every column"
   ]
  },
  {
   "attachments": {},
   "cell_type": "markdown",
   "metadata": {},
   "source": [
    "Get unique values per columns"
   ]
  },
  {
   "cell_type": "code",
   "execution_count": 27,
   "metadata": {
    "tags": []
   },
   "outputs": [
    {
     "name": "stdout",
     "output_type": "stream",
     "text": [
      "race = ['Caucasian' 'AfricanAmerican' '?' 'Hispanic' 'Other' 'Asian']\n",
      "gender = ['Female' 'Male' 'Unknown/Invalid']\n",
      "age = ['[70-80)' '[80-90)' '[10-20)' '[90-100)' '[60-70)' '[50-60)' '[40-50)'\n",
      " '[20-30)' '[30-40)' '[0-10)']\n",
      "weight = ['?' '[50-75)' '[75-100)' '[100-125)' '[125-150)' '[150-175)' '[25-50)'\n",
      " '[0-25)' '[175-200)' '>200']\n",
      "admission_type_id = [1 5 2 3 6 8 4 7]\n",
      "discharge_disposition_id = [ 6  2  1  3 22  7  5 28  4 25 18  8 15  9 23 12 24 10 17 27 16]\n",
      "admission_source_id = [ 7  4 17  1  9  6  2  5  3  8 22 20 10 25 13 11 14]\n",
      "time_in_hospital = [ 3  9  2  8 14  6  4  5  1  7 10 12 13 11]\n",
      "payer_code = ['MC' 'DM' 'HM' 'SP' '?' 'BC' 'MD' 'CP' 'CM' 'UN' 'CH' 'OG' 'WC' 'MP' 'PO'\n",
      " 'SI' 'OT' 'FR']\n",
      "medical_specialty = ['?' 'Psychiatry' 'Surgery-Cardiovascular/Thoracic' 'Nephrology'\n",
      " 'Podiatry' 'Family/GeneralPractice' 'Gastroenterology' 'InternalMedicine'\n",
      " 'Emergency/Trauma' 'ObstetricsandGynecology' 'Orthopedics-Reconstructive'\n",
      " 'Surgery-General' 'Pulmonology' 'Neurology' 'Orthopedics' 'Urology'\n",
      " 'Oncology' 'Cardiology' 'Hematology' 'Radiologist' 'Surgery-Vascular'\n",
      " 'Surgery-Cardiovascular' 'PhysicalMedicineandRehabilitation'\n",
      " 'InfectiousDiseases' 'Surgery-Neuro' 'Hematology/Oncology'\n",
      " 'Surgery-Plastic' 'Pediatrics' 'Surgeon' 'Surgery-Thoracic' 'Osteopath'\n",
      " 'Otolaryngology' 'Ophthalmology' 'Endocrinology' 'Radiology'\n",
      " 'AllergyandImmunology' 'Resident' 'Pediatrics-Pulmonology'\n",
      " 'Anesthesiology-Pediatric' 'Rheumatology' 'Cardiology-Pediatric'\n",
      " 'Obstetrics' 'SurgicalSpecialty' 'Hospitalist' 'Psychology'\n",
      " 'OutreachServices' 'Anesthesiology' 'Pediatrics-CriticalCare'\n",
      " 'Obsterics&Gynecology-GynecologicOnco' 'Surgery-Colon&Rectal'\n",
      " 'Endocrinology-Metabolism' 'Pediatrics-Hematology-Oncology' 'Pathology'\n",
      " 'Gynecology' 'Dentistry' 'PhysicianNotFound' 'Pediatrics-Endocrinology'\n",
      " 'Surgery-PlasticwithinHeadandNeck' 'Pediatrics-Neurology'\n",
      " 'Surgery-Pediatric' 'Dermatology' 'Psychiatry-Child/Adolescent'\n",
      " 'Surgery-Maxillofacial' 'Pediatrics-AllergyandImmunology'\n",
      " 'Pediatrics-EmergencyMedicine' 'DCPTEAM' 'Neurophysiology' 'Proctology'\n",
      " 'Psychiatry-Addictive' 'Perinatology' 'Speech']\n",
      "num_lab_procedures = [ 59  29  10  17  38  63  55  32  54  76  31  27  15  45   1  18  64  46\n",
      "  73  36  33  52  28  72  61  30  85  56  47  86  51  53  83  78  43  66\n",
      "  34  98  16  37  41   9   5  93  57  65  74  49  77  50  40  69  70   2\n",
      "  62  23  87  22   3  35  68  44  60   7  19  39  24 106  58  71  92  11\n",
      "  42  82  48  67  26  12  20  21  80  75  13  84  14   6  25  79  88  81\n",
      "  94   8  99   4  95  90  89  97 101 108 100 105 132  91  96 109 103 102\n",
      " 104 121 118 114 107 111 113 120]\n",
      "num_procedures = [0 2 3 1 6 5 4]\n",
      "num_medications = [15 25  6 12 18 23 19 14 17 16  9 11  3 24 10  7 13 30 27 22 26 37 31 21\n",
      "  8 28 20 47 29  4 32 33 42 46 49  5 35 34 55 40 36  2 41 58 56 68 38 39\n",
      " 52 48 50  1 45 67 43 60 54 57 62 44 63 59 72 51 81 61 64 53 70 69 65 66\n",
      " 75 74 79]\n",
      "number_outpatient = [ 0  2  3  4  1  5  6 14  9  7 10 23 12  8 19 22 11 13 15 17 40 16 26 21\n",
      " 18 28 33 25 29 24 37 20 27 36 35]\n",
      "number_emergency = [ 0  1  2  6  3  4 12  9  5 13 11 10 64 19  8 22  7 16 28 42 20 37 25]\n",
      "number_inpatient = [ 0  4  2  1 10  7  3  6 15  5 14  8  9 11 12]\n",
      "diag_1 = ['599' '331' '250.13' '789' '444' '250.4' '682' '572' '860' '250.6' '491'\n",
      " '824' '560' '584' '486' '414' '38' '787' '518' '996' '398' '428' '427'\n",
      " '519' '440' '820' '250.8' '8' '410' 'V57' '238' '807' '530' '434' '577'\n",
      " '453' '998' '562' '715' '536' '904' '403' '578' '250.11' '433' '435'\n",
      " '276' '707' '197' '475' '277' '535' '?' '540' '493' 'V58' '600' '780'\n",
      " '288' '112' '511' '646' '515' '516' '348' '250' '285' '997' '625' '558'\n",
      " '782' '424' '154' '356' '295' '514' '575' '924' '411' '250.82' '786'\n",
      " '781' '436' '808' '345' '309' '250.7' '619' '574' '70' '445' '382' '458'\n",
      " '250.81' '447' '756' '722' '333' '482' '292' '507' '437' '438' '592'\n",
      " '812' '933' '711' '415' '644' '733' '473' '512' '338' '282' '278' '152'\n",
      " '153' '296' '531' '426' '162' '280' '199' '250.41' '263' '252' '494'\n",
      " '608' '626' '466' '340' '557' '220' '250.33' '724' '851' '250.43'\n",
      " '250.02' '421' '648' '402' '922' '441' '738' '607' '785' '457' '710'\n",
      " '465' '790' '401' '852' '569' '823' '571' '585' '552' '920' '300' '537'\n",
      " '250.1' '999' '189' '853' '293' '721' '581' '380' '590' '298' '973' '275'\n",
      " '964' '157' '718' '250.22' '311' '805' '816' '198' '593' '404' '250.23'\n",
      " '716' '429' '618' '432' '239' '23' '753' '478' '643' '271' '962' '496'\n",
      " '290' '204' '368' '274' '784' '730' '287' '250.21' '576' '642' '286'\n",
      " '150' '969' '183' '567' '306' '182' '487' '513' '250.42' '191' '431'\n",
      " '250.3' '174' '203' '443' '430' '553' '241' '822' '151' '485' '251' '968'\n",
      " '396' '534' '821' '680' '972' '310' '928' '532' '459' '958' '225' '291'\n",
      " '202' '728' '79' '564' '813' '423' '420' '995' '413' '727' '906' '250.92'\n",
      " '455' '171' '332' '94' '346' '480' '349' '551' '185' '989' '696' '351'\n",
      " '205' '146' '42' '250.83' '802' '850' '591' '250.12' '451' '935' '709'\n",
      " '620' '255' '327' '714' '294' '965' '281' 'V56' '211' '882' '595' '705'\n",
      " '967' '303' '681' '284' '250.2' '693' '788' '262' '799' '586' '490' '425'\n",
      " '250.03' '188' '253' '555' '350' '959' '568' '357' '227' '200' '394'\n",
      " '556' '594' '48' 'V60' '155' '250.93' '358' '783' '573' '279' '611' '289'\n",
      " '966' '446' '526' '614' '250.32' '492' '305' '604' '588' '307' '386'\n",
      " '550' '195' '47' '158' '726' '719' '729' '53' '723' '654' '452' '659'\n",
      " '543' '82' '218' '481' '731' '533' '163' '847' '801' '806' '617' '815'\n",
      " '736' '416' '9' '952' 'V63' '299' '737' '506' '825' '242' '172' '354'\n",
      " '844' '566' '250.01' '529' '456' '527' '141' '230' '179' 'V54' '861'\n",
      " '660' '88' '5' '193' '34' '796' '235' '685' '717' '250.31' '794' '792'\n",
      " '397' '570' 'V55' '658' '376' '510' '374' '54' '854' '890' '352' '359'\n",
      " '627' '341' '347' '201' '596' '383' '826' '233' '196' '297' '464' '508'\n",
      " '391' '312' '442' 'V53' '971' '694' '208' '541' '734' '579' '362' '378'\n",
      " '41' '692' '500' '883' '647' '623' '843' '988' '461' '335' '735' '873'\n",
      " '131' '11' '462' '838' '886' '35' '866' '58' '615' '135' '353' '892'\n",
      " '980' '78' '342' '745' '283' '977' '795' '372' '621' '3' '388' '217'\n",
      " '250.53' '864' '963' '616' '226' '945' '261' '800' '990' '377' '66' '521'\n",
      " '878' '656' '117' '223' '528' '250.52' '583' '355' '240' '214' '379'\n",
      " '246' '810' '919' '992' '522' '891' '565' '835' '161' '236' '184' '114'\n",
      " '323' '840' '725' '36' '395' '324' '934' '148' '156' '304' '868' '244'\n",
      " '173' '495' '320' '194' '344' '250.5' '663' '463' '695' '366' '471' '845'\n",
      " '686' '212' '7' '272' '652' '747' '147' '454' '893' '405' '375' '706'\n",
      " '916' '879' '175' 'V45' '942' '187' '422' '136' '983' '170' '501' '145'\n",
      " '250.9' '110' '839' '601' '31' '361' '970' '917' '228' 'V67' '914' '370'\n",
      " '867' '365' '987' '863' '759' '708' '700' '142' '704' '369' 'V25' '640'\n",
      " '837' '610' '797' '846' '751' '881' '641' '337' '836' '944' '39' '192'\n",
      " '703' '661' '664' '266' 'V71' '84' '215' '605' 'E909' '645' 'V70' 'V51'\n",
      " '941' '986' '665' '542' '98' '308' '831' '865' '657' '273' '52' '862'\n",
      " '649' '301' '936' '875' '633' '381' '632' '470' '746' '237' '602' '417'\n",
      " '991' '133' '833' '832' '814' '322' '210' '603' '793' '690' '622' '655'\n",
      " '10' '921' '49' '229' '903' '149' '897' '474' '219' '325' '334' '143'\n",
      " '637' '164' '994' '207' '75' '671' '913' '180' '483' '336' '911' '160'\n",
      " '582' '871' '598' '385' '669' '885' '580' '939' 'V26' '634' '791' '732'\n",
      " '57' '915' '384' '653' '880' '817' '61' '674' '360' '684' '314' '976'\n",
      " '115' '245' '412' '363' '957' '923' '842' '250.91' '955' '448' '524'\n",
      " '691' '834' '250.51' '848' '683' '720' '870' '477' '318' '216' '982']\n",
      "diag_2 = ['427' '276' '428' '785' '403' '585' '70' '536' '599' '707' '250.01' '425'\n",
      " '780' '996' '486' '997' '595' '413' '396' '578' '296' 'V45' '518' '790'\n",
      " '414' 'E885' '730' '272' '197' '?' '421' '285' 'E932' '789' '250' '401'\n",
      " '787' '424' '584' '303' '496' '162' '250.02' '411' '577' '444' '135'\n",
      " '682' '357' '493' '402' '491' '786' '157' '295' '799' '202' '342' '112'\n",
      " '204' '416' '781' '38' '535' '332' '618' '410' '576' '440' '8' '153'\n",
      " '250.41' '278' 'V58' '788' '305' 'E888' '340' '337' '250.6' '458'\n",
      " '250.42' '865' '560' '198' '808' '433' '709' '571' '719' '244' '481'\n",
      " '693' 'V43' '280' '507' 'E878' '348' '250.7' '250.13' '432' 'V49'\n",
      " '250.82' '250.03' '250.4' '453' '530' '731' '110' '564' '648' 'V42' '426'\n",
      " '304' '263' '531' '710' '335' '998' '156' '250.5' '733' '568' '309'\n",
      " '250.12' '250.81' '625' '250.8' '492' '620' '494' '298' '596' '287' '567'\n",
      " '354' '183' '722' '516' '784' '41' '728' 'E880' '721' 'V85' '958' '434'\n",
      " '711' '284' '438' 'E928' '291' '443' '286' '255' '894' '511' '205' '446'\n",
      " '415' '114' '311' '922' '515' '573' '742' '196' '569' 'E879' '437' '191'\n",
      " '574' '404' '995' '558' '250.51' '294' '345' '724' '555' '924' '456'\n",
      " '459' '292' '474' 'V54' '53' '593' '189' '581' '572' '522' '293' '283'\n",
      " '812' '820' '420' '238' 'V10' '250.83' '715' '451' '250.52' '805' '482'\n",
      " '802' '193' '736' '250.43' '436' '705' '601' '307' '745' '300' '250.1'\n",
      " '565' 'E942' '211' '349' '250.11' '825' '500' 'E939' '465' '447' '813'\n",
      " '823' '512' '532' '42' '989' '850' '331' '441' 'E950' '150' '934' '570'\n",
      " '214' '250.92' '611' '714' '288' '590' '250.22' '794' '712' '136' '490'\n",
      " '729' '738' '454' '750' '575' '242' 'V15' '250.21' 'V09' '151' '514'\n",
      " '852' '253' '723' '528' '341' 'V18' 'V62' '600' '913' '824' '552' '435'\n",
      " '537' '557' '591' '250.31' 'E858' '716' '301' '203' '562' '680' '681'\n",
      " '905' '344' '252' '397' '398' '594' '250.53' '282' '368' '556' '457'\n",
      " '553' '277' '358' 'V12' '684' '717' 'E934' '592' '394' '319' '94' '727'\n",
      " '452' '466' '747' '346' 'V64' 'E947' '826' '583' 'V63' '980' 'E849' '840'\n",
      " '208' '200' '201' '274' '155' 'E935' '920' '117' '154' '338' '821' '831'\n",
      " '290' '566' '873' 'E884' '412' '726' '959' '96' '999' '186' '586' '783'\n",
      " '312' '860' '891' '654' '185' '79' '233' '845' '431' '320' 'E814' '138'\n",
      " '608' 'V17' '796' 'V65' 'V44' '9' '172' '792' '245' '616' '362' '442'\n",
      " '696' '152' '513' '199' '746' '473' '649' '487' '753' '220' '281' '617'\n",
      " '423' 'V61' '646' '297' 'E937' '480' '258' 'E930' '377' '260' '179' '455'\n",
      " '250.93' 'E936' '34' '968' '355' 'E829' '448' '429' '381' '217' '923'\n",
      " '475' '289' 'E941' '327' '533' 'E944' '356' '324' '501' '862' '864' '614'\n",
      " '815' '550' '382' '791' '279' '892' '519' '405' '706' '782' '816' '751'\n",
      " 'V46' '174' '510' '604' '758' '634' '75' '275' '360' '694' '627' '40'\n",
      " '610' '266' '478' '317' '642' '543' '972' '797' '807' '725' 'E817' '462'\n",
      " '141' '917' '909' '246' '227' '607' '386' '484' '395' '226' '861' '963'\n",
      " '218' '483' '622' 'V57' '992' 'E853' 'E816' '261' '485' '171' '883' '598'\n",
      " '322' 'E870' '373' '698' '718' '741' '232' '380' '241' '836' '359' '470'\n",
      " '921' '527' '691' '366' '579' '251' 'V70' '626' 'E881' '464' '352' '933'\n",
      " '918' '652' '965' 'E933' '323' '495' '343' '215' '314' '430' '365' '623'\n",
      " 'E931' '376' '273' '369' 'E915' '372' '713' '919' '318' '31' '506' '517'\n",
      " '685' '701' '188' 'E900' '756' '308' '844' '994' '225' '847' 'V08' '882'\n",
      " '310' '262' '182' '974' '250.33' 'E929' '881' '644' 'V86' '814' '967' '5'\n",
      " 'E812' '977' '250.2' '333' '54' '270' '461' 'E818' '908' '686' 'V02'\n",
      " '256' '851' 'V66' 'E927' '945' '351' '811' '822' '299' '78' '66' '7'\n",
      " 'E819' '378' '867' '868' '664' '529' '540' '948' '659' 'E938' '842' '907'\n",
      " '621' '212' '795' 'E887' '521' 'E906' 'E980' '524' '641' '927' '645' '99'\n",
      " '239' '336' '656' '871' '843' 'V23' '463' '534' '192' '991' '737' '866'\n",
      " '619' '942' '880' '383' '670' 'E883' '235' '268' '801' '647' '131' '870'\n",
      " '793' '422' '269' '240' '665' '460' '588' '810' '523' '863' '180' '759'\n",
      " '661' '837' '869' '250.9' '250.23' 'V60' 'V25' '88' '11' '955' '910'\n",
      " '302' 'E924' '379' '703' 'E917' 'V14' 'E821' '603' 'V16' 'E916' '755'\n",
      " 'V50' 'V11' 'E882' '140' 'V03' '477' '306' '123' 'E968' '833' '663' '962'\n",
      " '969' '906' '259' '615' 'V72' '692' '250.32' '472' '704' 'E890' '658'\n",
      " '872' '580' '250.91' '271' '228' '508' '111' '953' '683' '915' '389'\n",
      " '752' '702' '520' '947' '542' 'E919' '347' '944' '316' 'E905' '952' '164'\n",
      " '911' '27' 'E826' '353' '674' '145' 'V53' '748' '374' '734' '173' 'E965'\n",
      " '916' '137' 'E918' '605' '35' 'V13' 'E850' '800' '46' '832' 'E868' '163']\n",
      "diag_3 = ['511' '733' '296' '424' '272' '682' 'V42' '295' '807' '337' '428' '824'\n",
      " '401' '571' '403' '719' '411' '493' '560' 'E879' '250' '285' '?' '427'\n",
      " '250.8' '298' '250.01' '492' '707' '599' '443' '287' '496' '840' 'V45'\n",
      " '575' '196' '730' '535' '465' 'E876' '276' '281' '536' '696' '591' 'E888'\n",
      " '250.02' '585' '425' '785' '357' '250.43' '729' '250.6' '278' '518' '294'\n",
      " '199' '348' 'E884' '584' '486' '562' '438' '402' '786' '414' '598' '780'\n",
      " '290' '284' '705' '558' '263' '783' '197' '532' '453' '569' '790' 'V44'\n",
      " 'V43' '959' '788' '440' 'V15' '251' '710' '250.7' '279' '41' '250.42'\n",
      " '805' '789' '434' '721' '309' '412' '596' 'E930' '693' '250.53' '250.41'\n",
      " '433' '117' '997' 'V62' '250.92' '342' '253' '681' 'E939' '530' '998'\n",
      " '996' '515' 'E912' 'V58' '573' '517' '331' '491' '458' '577' '8' '578'\n",
      " '70' 'E942' '112' '250.51' '995' '38' '808' '459' '362' '244' '301' '564'\n",
      " '799' '782' '512' '286' '426' '305' '604' '397' '726' '218' 'E878' '892'\n",
      " '319' '158' '695' '593' '478' '250.03' '724' '784' '731' '250.12' '555'\n",
      " '737' '442' '534' '280' '250.4' '250.82' '300' '391' 'E849' '303' '297'\n",
      " '289' 'E928' '174' '252' '179' '394' '292' 'E936' '304' '576' '553' '198'\n",
      " '557' 'V85' '437' 'V64' 'V10' '715' '396' '648' '250.81' '723' '908'\n",
      " '781' '310' '787' '813' '250.93' '991' '618' '581' 'E917' '157' '255'\n",
      " '162' '435' '416' '466' 'V49' '441' '238' '293' '528' '413' '456' '802'\n",
      " 'V12' '728' '791' '340' '583' 'V54' '311' '202' '189' '531' '714' '722'\n",
      " '236' 'V09' '455' '183' '586' '241' 'E817' '595' '306' '447' '552' '42'\n",
      " 'E927' 'V65' '410' '250.11' '242' '138' '838' '332' '794' '333' '274'\n",
      " '507' 'E816' '203' '211' '452' '379' '852' '725' '277' '283' '716' '404'\n",
      " '820' '625' 'E885' '756' '250.83' '250.91' 'E932' '837' '519' '347' '521'\n",
      " '917' '482' '215' '356' '457' '344' '382' '343' '288' '969' 'E947' '572'\n",
      " '980' 'E935' '346' 'E880' '854' '345' 'E944' '533' '153' '473' 'E931'\n",
      " '744' '318' '590' '924' '524' '965' '607' '823' '909' '415' '727' '792'\n",
      " '53' 'V55' 'E929' 'E956' '49' '79' '660' '567' '273' '204' '574' 'V63'\n",
      " '913' '477' '420' '368' '494' '150' '588' '592' '713' 'E950' '522' '365'\n",
      " 'E887' '580' '250.5' '446' '185' '934' '369' 'V46' '250.52' '327' '490'\n",
      " '383' '444' '646' '614' '250.13' '429' '250.1' '568' '338' '156' '262'\n",
      " '461' '989' '711' '600' '275' '192' '336' '523' '920' '155' '282' '312'\n",
      " '349' '608' '135' 'V02' '812' '686' '692' '365.44' '313' '755' '487'\n",
      " '261' '999' '861' 'E812' '131' '233' '110' '250.9' '405' '844' '378'\n",
      " '451' '501' '205' '200' '967' 'V60' '188' '867' '291' '462' '223' '709'\n",
      " '921' '423' '111' 'E922' '958' '597' '751' '141' '619' '550' '922' '398'\n",
      " '256' '712' 'E933' '873' '582' '602' '334' '617' '570' 'V08' '945' '816'\n",
      " '436' '753' 'E934' '890' 'E946' '11' '314' '708' '750' 'V14' '225' '605'\n",
      " 'E855' '516' '603' '627' '610' 'E865' '891' '151' '260' '35' '734' '704'\n",
      " '380' '556' '741' '445' '250.22' '620' 'V57' '659' '907' '480' '845'\n",
      " '883' 'E920' '647' '78' '484' '642' '684' '601' '421' '250.2' 'E858'\n",
      " '307' '738' '796' '698' '923' 'V07' '389' '594' '481' '454' '7' '431'\n",
      " '747' '514' '717' '611' '664' '622' '464' '868' '836' '905' '358' '366'\n",
      " 'V66' '354' '270' '54' '266' '537' 'V13' '626' '694' '579' '3' 'E965'\n",
      " '228' 'V16' 'E937' '250.21' '172' '736' '94' 'E919' '201' '154' 'V27'\n",
      " '351' '735' '495' '962' '195' '5' '377' '510' '527' '227' 'V18' '718'\n",
      " 'E870' 'E850' '826' '663' '432' '915' '884' 'V03' '386' 'V17' '656' '680'\n",
      " '388' '702' '746' 'V86' '359' '661' '163' '831' '417' '164' '360' '616'\n",
      " '745' 'E916' '742' '34' '703' '180' 'E881' '911' '88' 'E941' '317' 'E905'\n",
      " '350' '355' '893' '906' 'E906' '811' '649' '825' '919' 'E818' 'E980'\n",
      " '214' '815' '226' 'V23' '372' '448' '216' '793' '208' '308' '621' '810'\n",
      " '701' '623' '182' '881' '299' 'E854' '653' '654' '912' 'E924' '243'\n",
      " '250.23' '472' '643' '75' '470' '540' '860' '955' 'E894' '720' '191'\n",
      " '370' '795' '842' 'E853' '565' '652' '880' '930' '916' '381' '430' '971'\n",
      " 'E828' '814' '866' '508' 'V53' '952' '246' '821' '752' '669' '865' '943'\n",
      " '376' '624' '136' '353' 'V61' '217' '655' '543' '658' '877' '500' 'E825'\n",
      " '258' '384' 'E819' 'E938' '834' '641' '876' '57' '948' '875' '822' '758'\n",
      " '268' '933' '239' 'V06' '850' '928' '851' 'E900' 'E892' '665' '14' 'E966'\n",
      " '882' '123' 'E813' '690' '139' '644' '966' '757' '847' '323' '841' '800'\n",
      " '862' '566' '240' '463' '918' 'V11' '9' 'E886' '706' '220' 'E852' '970'\n",
      " '395' '759' '245' '685' '271' '871' '335' '797' '864' '670' '387' '525'\n",
      " '529' 'V70' '315' '122' 'V25' '373' 'E949' '697' '170' 'E883' '47' '259'\n",
      " '506' '27' 'E861' '951' '657' 'V72' '754' '956' '235' 'E826' '953' 'E815'\n",
      " '542' 'E822' '171' '374' '853' 'E882' '801' '910' '460' 'E943' '674'\n",
      " '250.31' '361' '250.3' '987' '115' '161' '972' '173' '193' '385' '872'\n",
      " '17' '265' '152']\n",
      "number_diagnoses = [ 9  6  5  7  8  2  3  4  1 13 10 16 15 12 11 14]\n",
      "max_glu_serum = ['None' 'Norm' '>200' '>300']\n",
      "A1Cresult = ['None' 'Norm' '>8' '>7']\n",
      "metformin = ['No' 'Steady' 'Up' 'Down']\n",
      "repaglinide = ['Steady' 'No' 'Up' 'Down']\n",
      "nateglinide = ['No' 'Steady' 'Up' 'Down']\n",
      "chlorpropamide = ['No' 'Steady' 'Up' 'Down']\n",
      "glimepiride = ['No' 'Steady' 'Up' 'Down']\n",
      "acetohexamide = ['No' 'Steady']\n",
      "glipizide = ['No' 'Steady' 'Up' 'Down']\n",
      "glyburide = ['No' 'Steady' 'Up' 'Down']\n",
      "tolbutamide = ['No' 'Steady']\n",
      "pioglitazone = ['Steady' 'No' 'Down' 'Up']\n",
      "rosiglitazone = ['No' 'Steady' 'Up' 'Down']\n",
      "acarbose = ['No' 'Steady' 'Up' 'Down']\n",
      "miglitol = ['No' 'Down' 'Steady']\n",
      "troglitazone = ['No' 'Steady']\n",
      "tolazamide = ['No' 'Steady' 'Up']\n",
      "examide = ['No']\n",
      "citoglipton = ['No']\n",
      "insulin = ['No' 'Steady' 'Down' 'Up']\n",
      "glyburide-metformin = ['No' 'Steady' 'Down' 'Up']\n",
      "glipizide-metformin = ['No' 'Steady']\n",
      "glimepiride-pioglitazone = ['No']\n",
      "metformin-rosiglitazone = ['No' 'Steady']\n",
      "metformin-pioglitazone = ['No' 'Steady']\n",
      "change = ['Ch' 'No']\n",
      "diabetesMed = ['Yes' 'No']\n",
      "readmitted = ['<30' '>30' 'NO']\n"
     ]
    }
   ],
   "source": [
    "for col in data_raw:\n",
    "    print(f\"{col} = {data_raw[col].unique()}\")"
   ]
  },
  {
   "attachments": {},
   "cell_type": "markdown",
   "metadata": {},
   "source": [
    "**Analysis**\n",
    "\n",
    "- race , weight, payer_code, medical_speciality, diag_2 has '?' value\n",
    "- gender has 'Unknown/Invalid' value\n",
    "\n",
    "- This columns of drugs have the same value in all rows:\n",
    "``` python\n",
    "examide = ['No']\n",
    "citoglipton = ['No']\n",
    "glimepiride-pioglitazone  = ['No']\n",
    "```\n",
    "So don't provide any information for the classifier.\n"
   ]
  },
  {
   "cell_type": "code",
   "execution_count": 28,
   "metadata": {},
   "outputs": [],
   "source": [
    "# drop examine and cotoglipton columns\n",
    "data_raw.drop(['examide','citoglipton','glimepiride-pioglitazone'],axis='columns',inplace=True)"
   ]
  },
  {
   "attachments": {},
   "cell_type": "markdown",
   "metadata": {},
   "source": [
    "Number of 'Unknown/Invalid' value in gender"
   ]
  },
  {
   "cell_type": "code",
   "execution_count": 29,
   "metadata": {},
   "outputs": [
    {
     "data": {
      "text/plain": [
       "3"
      ]
     },
     "execution_count": 29,
     "metadata": {},
     "output_type": "execute_result"
    }
   ],
   "source": [
    "data_raw[\"gender\"].nunique()"
   ]
  },
  {
   "attachments": {},
   "cell_type": "markdown",
   "metadata": {},
   "source": [
    "There is only 3 rows so i decide to remove the rows with 'Unknown/Invalid' value"
   ]
  },
  {
   "cell_type": "code",
   "execution_count": 30,
   "metadata": {
    "tags": []
   },
   "outputs": [
    {
     "name": "stdout",
     "output_type": "stream",
     "text": [
      "unique gender data = 2\n"
     ]
    }
   ],
   "source": [
    "data_raw.drop(data_raw[data_raw[\"gender\"] == 'Unknown/Invalid'].index, inplace=True)\n",
    "print(f\"unique gender data = {data_raw['gender'].nunique()}\")"
   ]
  },
  {
   "attachments": {},
   "cell_type": "markdown",
   "metadata": {},
   "source": [
    "### Removing missing values\n",
    "\n",
    "Change '?' per na value and "
   ]
  },
  {
   "cell_type": "code",
   "execution_count": 31,
   "metadata": {},
   "outputs": [],
   "source": [
    "data_raw.replace('?',np.nan,inplace=True)"
   ]
  },
  {
   "attachments": {},
   "cell_type": "markdown",
   "metadata": {},
   "source": [
    "How Many %NA values per Column"
   ]
  },
  {
   "cell_type": "code",
   "execution_count": 32,
   "metadata": {},
   "outputs": [
    {
     "data": {
      "application/vnd.plotly.v1+json": {
       "config": {
        "plotlyServerURL": "https://plotly.com"
       },
       "data": [
        {
         "alignmentgroup": "True",
         "hovertemplate": "color=race<br>index=%{x}<br>value=%{y}<extra></extra>",
         "legendgroup": "race",
         "marker": {
          "color": "#636efa",
          "pattern": {
           "shape": ""
          }
         },
         "name": "race",
         "offsetgroup": "race",
         "orientation": "v",
         "showlegend": true,
         "textposition": "auto",
         "type": "bar",
         "x": [
          "race"
         ],
         "xaxis": "x",
         "y": [
          2.7114331861126595
         ],
         "yaxis": "y"
        },
        {
         "alignmentgroup": "True",
         "hovertemplate": "color=gender<br>index=%{x}<br>value=%{y}<extra></extra>",
         "legendgroup": "gender",
         "marker": {
          "color": "#EF553B",
          "pattern": {
           "shape": ""
          }
         },
         "name": "gender",
         "offsetgroup": "gender",
         "orientation": "v",
         "showlegend": true,
         "textposition": "auto",
         "type": "bar",
         "x": [
          "gender"
         ],
         "xaxis": "x",
         "y": [
          0
         ],
         "yaxis": "y"
        },
        {
         "alignmentgroup": "True",
         "hovertemplate": "color=age<br>index=%{x}<br>value=%{y}<extra></extra>",
         "legendgroup": "age",
         "marker": {
          "color": "#00cc96",
          "pattern": {
           "shape": ""
          }
         },
         "name": "age",
         "offsetgroup": "age",
         "orientation": "v",
         "showlegend": true,
         "textposition": "auto",
         "type": "bar",
         "x": [
          "age"
         ],
         "xaxis": "x",
         "y": [
          0
         ],
         "yaxis": "y"
        },
        {
         "alignmentgroup": "True",
         "hovertemplate": "color=weight<br>index=%{x}<br>value=%{y}<extra></extra>",
         "legendgroup": "weight",
         "marker": {
          "color": "#ab63fa",
          "pattern": {
           "shape": ""
          }
         },
         "name": "weight",
         "offsetgroup": "weight",
         "orientation": "v",
         "showlegend": true,
         "textposition": "auto",
         "type": "bar",
         "x": [
          "weight"
         ],
         "xaxis": "x",
         "y": [
          96.02075382702286
         ],
         "yaxis": "y"
        },
        {
         "alignmentgroup": "True",
         "hovertemplate": "color=admission_type_id<br>index=%{x}<br>value=%{y}<extra></extra>",
         "legendgroup": "admission_type_id",
         "marker": {
          "color": "#FFA15A",
          "pattern": {
           "shape": ""
          }
         },
         "name": "admission_type_id",
         "offsetgroup": "admission_type_id",
         "orientation": "v",
         "showlegend": true,
         "textposition": "auto",
         "type": "bar",
         "x": [
          "admission_type_id"
         ],
         "xaxis": "x",
         "y": [
          0
         ],
         "yaxis": "y"
        },
        {
         "alignmentgroup": "True",
         "hovertemplate": "color=discharge_disposition_id<br>index=%{x}<br>value=%{y}<extra></extra>",
         "legendgroup": "discharge_disposition_id",
         "marker": {
          "color": "#19d3f3",
          "pattern": {
           "shape": ""
          }
         },
         "name": "discharge_disposition_id",
         "offsetgroup": "discharge_disposition_id",
         "orientation": "v",
         "showlegend": true,
         "textposition": "auto",
         "type": "bar",
         "x": [
          "discharge_disposition_id"
         ],
         "xaxis": "x",
         "y": [
          0
         ],
         "yaxis": "y"
        },
        {
         "alignmentgroup": "True",
         "hovertemplate": "color=admission_source_id<br>index=%{x}<br>value=%{y}<extra></extra>",
         "legendgroup": "admission_source_id",
         "marker": {
          "color": "#FF6692",
          "pattern": {
           "shape": ""
          }
         },
         "name": "admission_source_id",
         "offsetgroup": "admission_source_id",
         "orientation": "v",
         "showlegend": true,
         "textposition": "auto",
         "type": "bar",
         "x": [
          "admission_source_id"
         ],
         "xaxis": "x",
         "y": [
          0
         ],
         "yaxis": "y"
        },
        {
         "alignmentgroup": "True",
         "hovertemplate": "color=time_in_hospital<br>index=%{x}<br>value=%{y}<extra></extra>",
         "legendgroup": "time_in_hospital",
         "marker": {
          "color": "#B6E880",
          "pattern": {
           "shape": ""
          }
         },
         "name": "time_in_hospital",
         "offsetgroup": "time_in_hospital",
         "orientation": "v",
         "showlegend": true,
         "textposition": "auto",
         "type": "bar",
         "x": [
          "time_in_hospital"
         ],
         "xaxis": "x",
         "y": [
          0
         ],
         "yaxis": "y"
        },
        {
         "alignmentgroup": "True",
         "hovertemplate": "color=payer_code<br>index=%{x}<br>value=%{y}<extra></extra>",
         "legendgroup": "payer_code",
         "marker": {
          "color": "#FF97FF",
          "pattern": {
           "shape": ""
          }
         },
         "name": "payer_code",
         "offsetgroup": "payer_code",
         "orientation": "v",
         "showlegend": true,
         "textposition": "auto",
         "type": "bar",
         "x": [
          "payer_code"
         ],
         "xaxis": "x",
         "y": [
          42.98271943741692
         ],
         "yaxis": "y"
        },
        {
         "alignmentgroup": "True",
         "hovertemplate": "color=medical_specialty<br>index=%{x}<br>value=%{y}<extra></extra>",
         "legendgroup": "medical_specialty",
         "marker": {
          "color": "#FECB52",
          "pattern": {
           "shape": ""
          }
         },
         "name": "medical_specialty",
         "offsetgroup": "medical_specialty",
         "orientation": "v",
         "showlegend": true,
         "textposition": "auto",
         "type": "bar",
         "x": [
          "medical_specialty"
         ],
         "xaxis": "x",
         "y": [
          48.08684590426368
         ],
         "yaxis": "y"
        },
        {
         "alignmentgroup": "True",
         "hovertemplate": "color=num_lab_procedures<br>index=%{x}<br>value=%{y}<extra></extra>",
         "legendgroup": "num_lab_procedures",
         "marker": {
          "color": "#636efa",
          "pattern": {
           "shape": ""
          }
         },
         "name": "num_lab_procedures",
         "offsetgroup": "num_lab_procedures",
         "orientation": "v",
         "showlegend": true,
         "textposition": "auto",
         "type": "bar",
         "x": [
          "num_lab_procedures"
         ],
         "xaxis": "x",
         "y": [
          0
         ],
         "yaxis": "y"
        },
        {
         "alignmentgroup": "True",
         "hovertemplate": "color=num_procedures<br>index=%{x}<br>value=%{y}<extra></extra>",
         "legendgroup": "num_procedures",
         "marker": {
          "color": "#EF553B",
          "pattern": {
           "shape": ""
          }
         },
         "name": "num_procedures",
         "offsetgroup": "num_procedures",
         "orientation": "v",
         "showlegend": true,
         "textposition": "auto",
         "type": "bar",
         "x": [
          "num_procedures"
         ],
         "xaxis": "x",
         "y": [
          0
         ],
         "yaxis": "y"
        },
        {
         "alignmentgroup": "True",
         "hovertemplate": "color=num_medications<br>index=%{x}<br>value=%{y}<extra></extra>",
         "legendgroup": "num_medications",
         "marker": {
          "color": "#00cc96",
          "pattern": {
           "shape": ""
          }
         },
         "name": "num_medications",
         "offsetgroup": "num_medications",
         "orientation": "v",
         "showlegend": true,
         "textposition": "auto",
         "type": "bar",
         "x": [
          "num_medications"
         ],
         "xaxis": "x",
         "y": [
          0
         ],
         "yaxis": "y"
        },
        {
         "alignmentgroup": "True",
         "hovertemplate": "color=number_outpatient<br>index=%{x}<br>value=%{y}<extra></extra>",
         "legendgroup": "number_outpatient",
         "marker": {
          "color": "#ab63fa",
          "pattern": {
           "shape": ""
          }
         },
         "name": "number_outpatient",
         "offsetgroup": "number_outpatient",
         "orientation": "v",
         "showlegend": true,
         "textposition": "auto",
         "type": "bar",
         "x": [
          "number_outpatient"
         ],
         "xaxis": "x",
         "y": [
          0
         ],
         "yaxis": "y"
        },
        {
         "alignmentgroup": "True",
         "hovertemplate": "color=number_emergency<br>index=%{x}<br>value=%{y}<extra></extra>",
         "legendgroup": "number_emergency",
         "marker": {
          "color": "#FFA15A",
          "pattern": {
           "shape": ""
          }
         },
         "name": "number_emergency",
         "offsetgroup": "number_emergency",
         "orientation": "v",
         "showlegend": true,
         "textposition": "auto",
         "type": "bar",
         "x": [
          "number_emergency"
         ],
         "xaxis": "x",
         "y": [
          0
         ],
         "yaxis": "y"
        },
        {
         "alignmentgroup": "True",
         "hovertemplate": "color=number_inpatient<br>index=%{x}<br>value=%{y}<extra></extra>",
         "legendgroup": "number_inpatient",
         "marker": {
          "color": "#19d3f3",
          "pattern": {
           "shape": ""
          }
         },
         "name": "number_inpatient",
         "offsetgroup": "number_inpatient",
         "orientation": "v",
         "showlegend": true,
         "textposition": "auto",
         "type": "bar",
         "x": [
          "number_inpatient"
         ],
         "xaxis": "x",
         "y": [
          0
         ],
         "yaxis": "y"
        },
        {
         "alignmentgroup": "True",
         "hovertemplate": "color=diag_1<br>index=%{x}<br>value=%{y}<extra></extra>",
         "legendgroup": "diag_1",
         "marker": {
          "color": "#FF6692",
          "pattern": {
           "shape": ""
          }
         },
         "name": "diag_1",
         "offsetgroup": "diag_1",
         "orientation": "v",
         "showlegend": true,
         "textposition": "auto",
         "type": "bar",
         "x": [
          "diag_1"
         ],
         "xaxis": "x",
         "y": [
          0.018581250089332934
         ],
         "yaxis": "y"
        },
        {
         "alignmentgroup": "True",
         "hovertemplate": "color=diag_2<br>index=%{x}<br>value=%{y}<extra></extra>",
         "legendgroup": "diag_2",
         "marker": {
          "color": "#B6E880",
          "pattern": {
           "shape": ""
          }
         },
         "name": "diag_2",
         "offsetgroup": "diag_2",
         "orientation": "v",
         "showlegend": true,
         "textposition": "auto",
         "type": "bar",
         "x": [
          "diag_2"
         ],
         "xaxis": "x",
         "y": [
          0.42165144433486274
         ],
         "yaxis": "y"
        },
        {
         "alignmentgroup": "True",
         "hovertemplate": "color=diag_3<br>index=%{x}<br>value=%{y}<extra></extra>",
         "legendgroup": "diag_3",
         "marker": {
          "color": "#FF97FF",
          "pattern": {
           "shape": ""
          }
         },
         "name": "diag_3",
         "offsetgroup": "diag_3",
         "orientation": "v",
         "showlegend": true,
         "textposition": "auto",
         "type": "bar",
         "x": [
          "diag_3"
         ],
         "xaxis": "x",
         "y": [
          1.7109043351485784
         ],
         "yaxis": "y"
        },
        {
         "alignmentgroup": "True",
         "hovertemplate": "color=number_diagnoses<br>index=%{x}<br>value=%{y}<extra></extra>",
         "legendgroup": "number_diagnoses",
         "marker": {
          "color": "#FECB52",
          "pattern": {
           "shape": ""
          }
         },
         "name": "number_diagnoses",
         "offsetgroup": "number_diagnoses",
         "orientation": "v",
         "showlegend": true,
         "textposition": "auto",
         "type": "bar",
         "x": [
          "number_diagnoses"
         ],
         "xaxis": "x",
         "y": [
          0
         ],
         "yaxis": "y"
        },
        {
         "alignmentgroup": "True",
         "hovertemplate": "color=max_glu_serum<br>index=%{x}<br>value=%{y}<extra></extra>",
         "legendgroup": "max_glu_serum",
         "marker": {
          "color": "#636efa",
          "pattern": {
           "shape": ""
          }
         },
         "name": "max_glu_serum",
         "offsetgroup": "max_glu_serum",
         "orientation": "v",
         "showlegend": true,
         "textposition": "auto",
         "type": "bar",
         "x": [
          "max_glu_serum"
         ],
         "xaxis": "x",
         "y": [
          0
         ],
         "yaxis": "y"
        },
        {
         "alignmentgroup": "True",
         "hovertemplate": "color=A1Cresult<br>index=%{x}<br>value=%{y}<extra></extra>",
         "legendgroup": "A1Cresult",
         "marker": {
          "color": "#EF553B",
          "pattern": {
           "shape": ""
          }
         },
         "name": "A1Cresult",
         "offsetgroup": "A1Cresult",
         "orientation": "v",
         "showlegend": true,
         "textposition": "auto",
         "type": "bar",
         "x": [
          "A1Cresult"
         ],
         "xaxis": "x",
         "y": [
          0
         ],
         "yaxis": "y"
        },
        {
         "alignmentgroup": "True",
         "hovertemplate": "color=metformin<br>index=%{x}<br>value=%{y}<extra></extra>",
         "legendgroup": "metformin",
         "marker": {
          "color": "#00cc96",
          "pattern": {
           "shape": ""
          }
         },
         "name": "metformin",
         "offsetgroup": "metformin",
         "orientation": "v",
         "showlegend": true,
         "textposition": "auto",
         "type": "bar",
         "x": [
          "metformin"
         ],
         "xaxis": "x",
         "y": [
          0
         ],
         "yaxis": "y"
        },
        {
         "alignmentgroup": "True",
         "hovertemplate": "color=repaglinide<br>index=%{x}<br>value=%{y}<extra></extra>",
         "legendgroup": "repaglinide",
         "marker": {
          "color": "#ab63fa",
          "pattern": {
           "shape": ""
          }
         },
         "name": "repaglinide",
         "offsetgroup": "repaglinide",
         "orientation": "v",
         "showlegend": true,
         "textposition": "auto",
         "type": "bar",
         "x": [
          "repaglinide"
         ],
         "xaxis": "x",
         "y": [
          0
         ],
         "yaxis": "y"
        },
        {
         "alignmentgroup": "True",
         "hovertemplate": "color=nateglinide<br>index=%{x}<br>value=%{y}<extra></extra>",
         "legendgroup": "nateglinide",
         "marker": {
          "color": "#FFA15A",
          "pattern": {
           "shape": ""
          }
         },
         "name": "nateglinide",
         "offsetgroup": "nateglinide",
         "orientation": "v",
         "showlegend": true,
         "textposition": "auto",
         "type": "bar",
         "x": [
          "nateglinide"
         ],
         "xaxis": "x",
         "y": [
          0
         ],
         "yaxis": "y"
        },
        {
         "alignmentgroup": "True",
         "hovertemplate": "color=chlorpropamide<br>index=%{x}<br>value=%{y}<extra></extra>",
         "legendgroup": "chlorpropamide",
         "marker": {
          "color": "#19d3f3",
          "pattern": {
           "shape": ""
          }
         },
         "name": "chlorpropamide",
         "offsetgroup": "chlorpropamide",
         "orientation": "v",
         "showlegend": true,
         "textposition": "auto",
         "type": "bar",
         "x": [
          "chlorpropamide"
         ],
         "xaxis": "x",
         "y": [
          0
         ],
         "yaxis": "y"
        },
        {
         "alignmentgroup": "True",
         "hovertemplate": "color=glimepiride<br>index=%{x}<br>value=%{y}<extra></extra>",
         "legendgroup": "glimepiride",
         "marker": {
          "color": "#FF6692",
          "pattern": {
           "shape": ""
          }
         },
         "name": "glimepiride",
         "offsetgroup": "glimepiride",
         "orientation": "v",
         "showlegend": true,
         "textposition": "auto",
         "type": "bar",
         "x": [
          "glimepiride"
         ],
         "xaxis": "x",
         "y": [
          0
         ],
         "yaxis": "y"
        },
        {
         "alignmentgroup": "True",
         "hovertemplate": "color=acetohexamide<br>index=%{x}<br>value=%{y}<extra></extra>",
         "legendgroup": "acetohexamide",
         "marker": {
          "color": "#B6E880",
          "pattern": {
           "shape": ""
          }
         },
         "name": "acetohexamide",
         "offsetgroup": "acetohexamide",
         "orientation": "v",
         "showlegend": true,
         "textposition": "auto",
         "type": "bar",
         "x": [
          "acetohexamide"
         ],
         "xaxis": "x",
         "y": [
          0
         ],
         "yaxis": "y"
        },
        {
         "alignmentgroup": "True",
         "hovertemplate": "color=glipizide<br>index=%{x}<br>value=%{y}<extra></extra>",
         "legendgroup": "glipizide",
         "marker": {
          "color": "#FF97FF",
          "pattern": {
           "shape": ""
          }
         },
         "name": "glipizide",
         "offsetgroup": "glipizide",
         "orientation": "v",
         "showlegend": true,
         "textposition": "auto",
         "type": "bar",
         "x": [
          "glipizide"
         ],
         "xaxis": "x",
         "y": [
          0
         ],
         "yaxis": "y"
        },
        {
         "alignmentgroup": "True",
         "hovertemplate": "color=glyburide<br>index=%{x}<br>value=%{y}<extra></extra>",
         "legendgroup": "glyburide",
         "marker": {
          "color": "#FECB52",
          "pattern": {
           "shape": ""
          }
         },
         "name": "glyburide",
         "offsetgroup": "glyburide",
         "orientation": "v",
         "showlegend": true,
         "textposition": "auto",
         "type": "bar",
         "x": [
          "glyburide"
         ],
         "xaxis": "x",
         "y": [
          0
         ],
         "yaxis": "y"
        },
        {
         "alignmentgroup": "True",
         "hovertemplate": "color=tolbutamide<br>index=%{x}<br>value=%{y}<extra></extra>",
         "legendgroup": "tolbutamide",
         "marker": {
          "color": "#636efa",
          "pattern": {
           "shape": ""
          }
         },
         "name": "tolbutamide",
         "offsetgroup": "tolbutamide",
         "orientation": "v",
         "showlegend": true,
         "textposition": "auto",
         "type": "bar",
         "x": [
          "tolbutamide"
         ],
         "xaxis": "x",
         "y": [
          0
         ],
         "yaxis": "y"
        },
        {
         "alignmentgroup": "True",
         "hovertemplate": "color=pioglitazone<br>index=%{x}<br>value=%{y}<extra></extra>",
         "legendgroup": "pioglitazone",
         "marker": {
          "color": "#EF553B",
          "pattern": {
           "shape": ""
          }
         },
         "name": "pioglitazone",
         "offsetgroup": "pioglitazone",
         "orientation": "v",
         "showlegend": true,
         "textposition": "auto",
         "type": "bar",
         "x": [
          "pioglitazone"
         ],
         "xaxis": "x",
         "y": [
          0
         ],
         "yaxis": "y"
        },
        {
         "alignmentgroup": "True",
         "hovertemplate": "color=rosiglitazone<br>index=%{x}<br>value=%{y}<extra></extra>",
         "legendgroup": "rosiglitazone",
         "marker": {
          "color": "#00cc96",
          "pattern": {
           "shape": ""
          }
         },
         "name": "rosiglitazone",
         "offsetgroup": "rosiglitazone",
         "orientation": "v",
         "showlegend": true,
         "textposition": "auto",
         "type": "bar",
         "x": [
          "rosiglitazone"
         ],
         "xaxis": "x",
         "y": [
          0
         ],
         "yaxis": "y"
        },
        {
         "alignmentgroup": "True",
         "hovertemplate": "color=acarbose<br>index=%{x}<br>value=%{y}<extra></extra>",
         "legendgroup": "acarbose",
         "marker": {
          "color": "#ab63fa",
          "pattern": {
           "shape": ""
          }
         },
         "name": "acarbose",
         "offsetgroup": "acarbose",
         "orientation": "v",
         "showlegend": true,
         "textposition": "auto",
         "type": "bar",
         "x": [
          "acarbose"
         ],
         "xaxis": "x",
         "y": [
          0
         ],
         "yaxis": "y"
        },
        {
         "alignmentgroup": "True",
         "hovertemplate": "color=miglitol<br>index=%{x}<br>value=%{y}<extra></extra>",
         "legendgroup": "miglitol",
         "marker": {
          "color": "#FFA15A",
          "pattern": {
           "shape": ""
          }
         },
         "name": "miglitol",
         "offsetgroup": "miglitol",
         "orientation": "v",
         "showlegend": true,
         "textposition": "auto",
         "type": "bar",
         "x": [
          "miglitol"
         ],
         "xaxis": "x",
         "y": [
          0
         ],
         "yaxis": "y"
        },
        {
         "alignmentgroup": "True",
         "hovertemplate": "color=troglitazone<br>index=%{x}<br>value=%{y}<extra></extra>",
         "legendgroup": "troglitazone",
         "marker": {
          "color": "#19d3f3",
          "pattern": {
           "shape": ""
          }
         },
         "name": "troglitazone",
         "offsetgroup": "troglitazone",
         "orientation": "v",
         "showlegend": true,
         "textposition": "auto",
         "type": "bar",
         "x": [
          "troglitazone"
         ],
         "xaxis": "x",
         "y": [
          0
         ],
         "yaxis": "y"
        },
        {
         "alignmentgroup": "True",
         "hovertemplate": "color=tolazamide<br>index=%{x}<br>value=%{y}<extra></extra>",
         "legendgroup": "tolazamide",
         "marker": {
          "color": "#FF6692",
          "pattern": {
           "shape": ""
          }
         },
         "name": "tolazamide",
         "offsetgroup": "tolazamide",
         "orientation": "v",
         "showlegend": true,
         "textposition": "auto",
         "type": "bar",
         "x": [
          "tolazamide"
         ],
         "xaxis": "x",
         "y": [
          0
         ],
         "yaxis": "y"
        },
        {
         "alignmentgroup": "True",
         "hovertemplate": "color=insulin<br>index=%{x}<br>value=%{y}<extra></extra>",
         "legendgroup": "insulin",
         "marker": {
          "color": "#B6E880",
          "pattern": {
           "shape": ""
          }
         },
         "name": "insulin",
         "offsetgroup": "insulin",
         "orientation": "v",
         "showlegend": true,
         "textposition": "auto",
         "type": "bar",
         "x": [
          "insulin"
         ],
         "xaxis": "x",
         "y": [
          0
         ],
         "yaxis": "y"
        },
        {
         "alignmentgroup": "True",
         "hovertemplate": "color=glyburide-metformin<br>index=%{x}<br>value=%{y}<extra></extra>",
         "legendgroup": "glyburide-metformin",
         "marker": {
          "color": "#FF97FF",
          "pattern": {
           "shape": ""
          }
         },
         "name": "glyburide-metformin",
         "offsetgroup": "glyburide-metformin",
         "orientation": "v",
         "showlegend": true,
         "textposition": "auto",
         "type": "bar",
         "x": [
          "glyburide-metformin"
         ],
         "xaxis": "x",
         "y": [
          0
         ],
         "yaxis": "y"
        },
        {
         "alignmentgroup": "True",
         "hovertemplate": "color=glipizide-metformin<br>index=%{x}<br>value=%{y}<extra></extra>",
         "legendgroup": "glipizide-metformin",
         "marker": {
          "color": "#FECB52",
          "pattern": {
           "shape": ""
          }
         },
         "name": "glipizide-metformin",
         "offsetgroup": "glipizide-metformin",
         "orientation": "v",
         "showlegend": true,
         "textposition": "auto",
         "type": "bar",
         "x": [
          "glipizide-metformin"
         ],
         "xaxis": "x",
         "y": [
          0
         ],
         "yaxis": "y"
        },
        {
         "alignmentgroup": "True",
         "hovertemplate": "color=metformin-rosiglitazone<br>index=%{x}<br>value=%{y}<extra></extra>",
         "legendgroup": "metformin-rosiglitazone",
         "marker": {
          "color": "#636efa",
          "pattern": {
           "shape": ""
          }
         },
         "name": "metformin-rosiglitazone",
         "offsetgroup": "metformin-rosiglitazone",
         "orientation": "v",
         "showlegend": true,
         "textposition": "auto",
         "type": "bar",
         "x": [
          "metformin-rosiglitazone"
         ],
         "xaxis": "x",
         "y": [
          0
         ],
         "yaxis": "y"
        },
        {
         "alignmentgroup": "True",
         "hovertemplate": "color=metformin-pioglitazone<br>index=%{x}<br>value=%{y}<extra></extra>",
         "legendgroup": "metformin-pioglitazone",
         "marker": {
          "color": "#EF553B",
          "pattern": {
           "shape": ""
          }
         },
         "name": "metformin-pioglitazone",
         "offsetgroup": "metformin-pioglitazone",
         "orientation": "v",
         "showlegend": true,
         "textposition": "auto",
         "type": "bar",
         "x": [
          "metformin-pioglitazone"
         ],
         "xaxis": "x",
         "y": [
          0
         ],
         "yaxis": "y"
        },
        {
         "alignmentgroup": "True",
         "hovertemplate": "color=change<br>index=%{x}<br>value=%{y}<extra></extra>",
         "legendgroup": "change",
         "marker": {
          "color": "#00cc96",
          "pattern": {
           "shape": ""
          }
         },
         "name": "change",
         "offsetgroup": "change",
         "orientation": "v",
         "showlegend": true,
         "textposition": "auto",
         "type": "bar",
         "x": [
          "change"
         ],
         "xaxis": "x",
         "y": [
          0
         ],
         "yaxis": "y"
        },
        {
         "alignmentgroup": "True",
         "hovertemplate": "color=diabetesMed<br>index=%{x}<br>value=%{y}<extra></extra>",
         "legendgroup": "diabetesMed",
         "marker": {
          "color": "#ab63fa",
          "pattern": {
           "shape": ""
          }
         },
         "name": "diabetesMed",
         "offsetgroup": "diabetesMed",
         "orientation": "v",
         "showlegend": true,
         "textposition": "auto",
         "type": "bar",
         "x": [
          "diabetesMed"
         ],
         "xaxis": "x",
         "y": [
          0
         ],
         "yaxis": "y"
        },
        {
         "alignmentgroup": "True",
         "hovertemplate": "color=readmitted<br>index=%{x}<br>value=%{y}<extra></extra>",
         "legendgroup": "readmitted",
         "marker": {
          "color": "#FFA15A",
          "pattern": {
           "shape": ""
          }
         },
         "name": "readmitted",
         "offsetgroup": "readmitted",
         "orientation": "v",
         "showlegend": true,
         "textposition": "auto",
         "type": "bar",
         "x": [
          "readmitted"
         ],
         "xaxis": "x",
         "y": [
          0
         ],
         "yaxis": "y"
        }
       ],
       "layout": {
        "barmode": "relative",
        "legend": {
         "title": {
          "text": "color"
         },
         "tracegroupgap": 0
        },
        "template": {
         "data": {
          "bar": [
           {
            "error_x": {
             "color": "#2a3f5f"
            },
            "error_y": {
             "color": "#2a3f5f"
            },
            "marker": {
             "line": {
              "color": "#E5ECF6",
              "width": 0.5
             },
             "pattern": {
              "fillmode": "overlay",
              "size": 10,
              "solidity": 0.2
             }
            },
            "type": "bar"
           }
          ],
          "barpolar": [
           {
            "marker": {
             "line": {
              "color": "#E5ECF6",
              "width": 0.5
             },
             "pattern": {
              "fillmode": "overlay",
              "size": 10,
              "solidity": 0.2
             }
            },
            "type": "barpolar"
           }
          ],
          "carpet": [
           {
            "aaxis": {
             "endlinecolor": "#2a3f5f",
             "gridcolor": "white",
             "linecolor": "white",
             "minorgridcolor": "white",
             "startlinecolor": "#2a3f5f"
            },
            "baxis": {
             "endlinecolor": "#2a3f5f",
             "gridcolor": "white",
             "linecolor": "white",
             "minorgridcolor": "white",
             "startlinecolor": "#2a3f5f"
            },
            "type": "carpet"
           }
          ],
          "choropleth": [
           {
            "colorbar": {
             "outlinewidth": 0,
             "ticks": ""
            },
            "type": "choropleth"
           }
          ],
          "contour": [
           {
            "colorbar": {
             "outlinewidth": 0,
             "ticks": ""
            },
            "colorscale": [
             [
              0,
              "#0d0887"
             ],
             [
              0.1111111111111111,
              "#46039f"
             ],
             [
              0.2222222222222222,
              "#7201a8"
             ],
             [
              0.3333333333333333,
              "#9c179e"
             ],
             [
              0.4444444444444444,
              "#bd3786"
             ],
             [
              0.5555555555555556,
              "#d8576b"
             ],
             [
              0.6666666666666666,
              "#ed7953"
             ],
             [
              0.7777777777777778,
              "#fb9f3a"
             ],
             [
              0.8888888888888888,
              "#fdca26"
             ],
             [
              1,
              "#f0f921"
             ]
            ],
            "type": "contour"
           }
          ],
          "contourcarpet": [
           {
            "colorbar": {
             "outlinewidth": 0,
             "ticks": ""
            },
            "type": "contourcarpet"
           }
          ],
          "heatmap": [
           {
            "colorbar": {
             "outlinewidth": 0,
             "ticks": ""
            },
            "colorscale": [
             [
              0,
              "#0d0887"
             ],
             [
              0.1111111111111111,
              "#46039f"
             ],
             [
              0.2222222222222222,
              "#7201a8"
             ],
             [
              0.3333333333333333,
              "#9c179e"
             ],
             [
              0.4444444444444444,
              "#bd3786"
             ],
             [
              0.5555555555555556,
              "#d8576b"
             ],
             [
              0.6666666666666666,
              "#ed7953"
             ],
             [
              0.7777777777777778,
              "#fb9f3a"
             ],
             [
              0.8888888888888888,
              "#fdca26"
             ],
             [
              1,
              "#f0f921"
             ]
            ],
            "type": "heatmap"
           }
          ],
          "heatmapgl": [
           {
            "colorbar": {
             "outlinewidth": 0,
             "ticks": ""
            },
            "colorscale": [
             [
              0,
              "#0d0887"
             ],
             [
              0.1111111111111111,
              "#46039f"
             ],
             [
              0.2222222222222222,
              "#7201a8"
             ],
             [
              0.3333333333333333,
              "#9c179e"
             ],
             [
              0.4444444444444444,
              "#bd3786"
             ],
             [
              0.5555555555555556,
              "#d8576b"
             ],
             [
              0.6666666666666666,
              "#ed7953"
             ],
             [
              0.7777777777777778,
              "#fb9f3a"
             ],
             [
              0.8888888888888888,
              "#fdca26"
             ],
             [
              1,
              "#f0f921"
             ]
            ],
            "type": "heatmapgl"
           }
          ],
          "histogram": [
           {
            "marker": {
             "pattern": {
              "fillmode": "overlay",
              "size": 10,
              "solidity": 0.2
             }
            },
            "type": "histogram"
           }
          ],
          "histogram2d": [
           {
            "colorbar": {
             "outlinewidth": 0,
             "ticks": ""
            },
            "colorscale": [
             [
              0,
              "#0d0887"
             ],
             [
              0.1111111111111111,
              "#46039f"
             ],
             [
              0.2222222222222222,
              "#7201a8"
             ],
             [
              0.3333333333333333,
              "#9c179e"
             ],
             [
              0.4444444444444444,
              "#bd3786"
             ],
             [
              0.5555555555555556,
              "#d8576b"
             ],
             [
              0.6666666666666666,
              "#ed7953"
             ],
             [
              0.7777777777777778,
              "#fb9f3a"
             ],
             [
              0.8888888888888888,
              "#fdca26"
             ],
             [
              1,
              "#f0f921"
             ]
            ],
            "type": "histogram2d"
           }
          ],
          "histogram2dcontour": [
           {
            "colorbar": {
             "outlinewidth": 0,
             "ticks": ""
            },
            "colorscale": [
             [
              0,
              "#0d0887"
             ],
             [
              0.1111111111111111,
              "#46039f"
             ],
             [
              0.2222222222222222,
              "#7201a8"
             ],
             [
              0.3333333333333333,
              "#9c179e"
             ],
             [
              0.4444444444444444,
              "#bd3786"
             ],
             [
              0.5555555555555556,
              "#d8576b"
             ],
             [
              0.6666666666666666,
              "#ed7953"
             ],
             [
              0.7777777777777778,
              "#fb9f3a"
             ],
             [
              0.8888888888888888,
              "#fdca26"
             ],
             [
              1,
              "#f0f921"
             ]
            ],
            "type": "histogram2dcontour"
           }
          ],
          "mesh3d": [
           {
            "colorbar": {
             "outlinewidth": 0,
             "ticks": ""
            },
            "type": "mesh3d"
           }
          ],
          "parcoords": [
           {
            "line": {
             "colorbar": {
              "outlinewidth": 0,
              "ticks": ""
             }
            },
            "type": "parcoords"
           }
          ],
          "pie": [
           {
            "automargin": true,
            "type": "pie"
           }
          ],
          "scatter": [
           {
            "fillpattern": {
             "fillmode": "overlay",
             "size": 10,
             "solidity": 0.2
            },
            "type": "scatter"
           }
          ],
          "scatter3d": [
           {
            "line": {
             "colorbar": {
              "outlinewidth": 0,
              "ticks": ""
             }
            },
            "marker": {
             "colorbar": {
              "outlinewidth": 0,
              "ticks": ""
             }
            },
            "type": "scatter3d"
           }
          ],
          "scattercarpet": [
           {
            "marker": {
             "colorbar": {
              "outlinewidth": 0,
              "ticks": ""
             }
            },
            "type": "scattercarpet"
           }
          ],
          "scattergeo": [
           {
            "marker": {
             "colorbar": {
              "outlinewidth": 0,
              "ticks": ""
             }
            },
            "type": "scattergeo"
           }
          ],
          "scattergl": [
           {
            "marker": {
             "colorbar": {
              "outlinewidth": 0,
              "ticks": ""
             }
            },
            "type": "scattergl"
           }
          ],
          "scattermapbox": [
           {
            "marker": {
             "colorbar": {
              "outlinewidth": 0,
              "ticks": ""
             }
            },
            "type": "scattermapbox"
           }
          ],
          "scatterpolar": [
           {
            "marker": {
             "colorbar": {
              "outlinewidth": 0,
              "ticks": ""
             }
            },
            "type": "scatterpolar"
           }
          ],
          "scatterpolargl": [
           {
            "marker": {
             "colorbar": {
              "outlinewidth": 0,
              "ticks": ""
             }
            },
            "type": "scatterpolargl"
           }
          ],
          "scatterternary": [
           {
            "marker": {
             "colorbar": {
              "outlinewidth": 0,
              "ticks": ""
             }
            },
            "type": "scatterternary"
           }
          ],
          "surface": [
           {
            "colorbar": {
             "outlinewidth": 0,
             "ticks": ""
            },
            "colorscale": [
             [
              0,
              "#0d0887"
             ],
             [
              0.1111111111111111,
              "#46039f"
             ],
             [
              0.2222222222222222,
              "#7201a8"
             ],
             [
              0.3333333333333333,
              "#9c179e"
             ],
             [
              0.4444444444444444,
              "#bd3786"
             ],
             [
              0.5555555555555556,
              "#d8576b"
             ],
             [
              0.6666666666666666,
              "#ed7953"
             ],
             [
              0.7777777777777778,
              "#fb9f3a"
             ],
             [
              0.8888888888888888,
              "#fdca26"
             ],
             [
              1,
              "#f0f921"
             ]
            ],
            "type": "surface"
           }
          ],
          "table": [
           {
            "cells": {
             "fill": {
              "color": "#EBF0F8"
             },
             "line": {
              "color": "white"
             }
            },
            "header": {
             "fill": {
              "color": "#C8D4E3"
             },
             "line": {
              "color": "white"
             }
            },
            "type": "table"
           }
          ]
         },
         "layout": {
          "annotationdefaults": {
           "arrowcolor": "#2a3f5f",
           "arrowhead": 0,
           "arrowwidth": 1
          },
          "autotypenumbers": "strict",
          "coloraxis": {
           "colorbar": {
            "outlinewidth": 0,
            "ticks": ""
           }
          },
          "colorscale": {
           "diverging": [
            [
             0,
             "#8e0152"
            ],
            [
             0.1,
             "#c51b7d"
            ],
            [
             0.2,
             "#de77ae"
            ],
            [
             0.3,
             "#f1b6da"
            ],
            [
             0.4,
             "#fde0ef"
            ],
            [
             0.5,
             "#f7f7f7"
            ],
            [
             0.6,
             "#e6f5d0"
            ],
            [
             0.7,
             "#b8e186"
            ],
            [
             0.8,
             "#7fbc41"
            ],
            [
             0.9,
             "#4d9221"
            ],
            [
             1,
             "#276419"
            ]
           ],
           "sequential": [
            [
             0,
             "#0d0887"
            ],
            [
             0.1111111111111111,
             "#46039f"
            ],
            [
             0.2222222222222222,
             "#7201a8"
            ],
            [
             0.3333333333333333,
             "#9c179e"
            ],
            [
             0.4444444444444444,
             "#bd3786"
            ],
            [
             0.5555555555555556,
             "#d8576b"
            ],
            [
             0.6666666666666666,
             "#ed7953"
            ],
            [
             0.7777777777777778,
             "#fb9f3a"
            ],
            [
             0.8888888888888888,
             "#fdca26"
            ],
            [
             1,
             "#f0f921"
            ]
           ],
           "sequentialminus": [
            [
             0,
             "#0d0887"
            ],
            [
             0.1111111111111111,
             "#46039f"
            ],
            [
             0.2222222222222222,
             "#7201a8"
            ],
            [
             0.3333333333333333,
             "#9c179e"
            ],
            [
             0.4444444444444444,
             "#bd3786"
            ],
            [
             0.5555555555555556,
             "#d8576b"
            ],
            [
             0.6666666666666666,
             "#ed7953"
            ],
            [
             0.7777777777777778,
             "#fb9f3a"
            ],
            [
             0.8888888888888888,
             "#fdca26"
            ],
            [
             1,
             "#f0f921"
            ]
           ]
          },
          "colorway": [
           "#636efa",
           "#EF553B",
           "#00cc96",
           "#ab63fa",
           "#FFA15A",
           "#19d3f3",
           "#FF6692",
           "#B6E880",
           "#FF97FF",
           "#FECB52"
          ],
          "font": {
           "color": "#2a3f5f"
          },
          "geo": {
           "bgcolor": "white",
           "lakecolor": "white",
           "landcolor": "#E5ECF6",
           "showlakes": true,
           "showland": true,
           "subunitcolor": "white"
          },
          "hoverlabel": {
           "align": "left"
          },
          "hovermode": "closest",
          "mapbox": {
           "style": "light"
          },
          "paper_bgcolor": "white",
          "plot_bgcolor": "#E5ECF6",
          "polar": {
           "angularaxis": {
            "gridcolor": "white",
            "linecolor": "white",
            "ticks": ""
           },
           "bgcolor": "#E5ECF6",
           "radialaxis": {
            "gridcolor": "white",
            "linecolor": "white",
            "ticks": ""
           }
          },
          "scene": {
           "xaxis": {
            "backgroundcolor": "#E5ECF6",
            "gridcolor": "white",
            "gridwidth": 2,
            "linecolor": "white",
            "showbackground": true,
            "ticks": "",
            "zerolinecolor": "white"
           },
           "yaxis": {
            "backgroundcolor": "#E5ECF6",
            "gridcolor": "white",
            "gridwidth": 2,
            "linecolor": "white",
            "showbackground": true,
            "ticks": "",
            "zerolinecolor": "white"
           },
           "zaxis": {
            "backgroundcolor": "#E5ECF6",
            "gridcolor": "white",
            "gridwidth": 2,
            "linecolor": "white",
            "showbackground": true,
            "ticks": "",
            "zerolinecolor": "white"
           }
          },
          "shapedefaults": {
           "line": {
            "color": "#2a3f5f"
           }
          },
          "ternary": {
           "aaxis": {
            "gridcolor": "white",
            "linecolor": "white",
            "ticks": ""
           },
           "baxis": {
            "gridcolor": "white",
            "linecolor": "white",
            "ticks": ""
           },
           "bgcolor": "#E5ECF6",
           "caxis": {
            "gridcolor": "white",
            "linecolor": "white",
            "ticks": ""
           }
          },
          "title": {
           "x": 0.05
          },
          "xaxis": {
           "automargin": true,
           "gridcolor": "white",
           "linecolor": "white",
           "ticks": "",
           "title": {
            "standoff": 15
           },
           "zerolinecolor": "white",
           "zerolinewidth": 2
          },
          "yaxis": {
           "automargin": true,
           "gridcolor": "white",
           "linecolor": "white",
           "ticks": "",
           "title": {
            "standoff": 15
           },
           "zerolinecolor": "white",
           "zerolinewidth": 2
          }
         }
        },
        "title": {
         "text": "Percentage of Missing Values per column"
        },
        "xaxis": {
         "anchor": "y",
         "domain": [
          0,
          1
         ],
         "title": {
          "text": "index"
         }
        },
        "yaxis": {
         "anchor": "x",
         "domain": [
          0,
          1
         ],
         "title": {
          "text": "value"
         }
        }
       }
      }
     },
     "metadata": {},
     "output_type": "display_data"
    }
   ],
   "source": [
    "(data_raw.isnull().sum()*100/len(data_raw)).plot.bar(title = 'Percentage of Missing Values per column',color=data_raw.columns)"
   ]
  },
  {
   "cell_type": "code",
   "execution_count": 33,
   "metadata": {},
   "outputs": [
    {
     "data": {
      "text/plain": [
       "race                  2.711433\n",
       "weight               96.020754\n",
       "payer_code           42.982719\n",
       "medical_specialty    48.086846\n",
       "diag_1                0.018581\n",
       "diag_2                0.421651\n",
       "diag_3                1.710904\n",
       "dtype: float64"
      ]
     },
     "execution_count": 33,
     "metadata": {},
     "output_type": "execute_result"
    }
   ],
   "source": [
    "missing = data_raw.isnull().sum()\n",
    "missing[missing>0]*100/len(data_raw)"
   ]
  },
  {
   "attachments": {},
   "cell_type": "markdown",
   "metadata": {},
   "source": [
    "\n",
    "Removing columns `weigth` has more than 95% of the values missing\n",
    "\n",
    "The `payer_code` column has more than 45% of missing values and \n",
    "base on the medical ethics, the company who pays the bill is not related with the service and if is readmitted, consequently  will be removed."
   ]
  },
  {
   "cell_type": "code",
   "execution_count": 34,
   "metadata": {},
   "outputs": [],
   "source": [
    "data_raw.drop(['weight','payer_code'],axis='columns',inplace=True)"
   ]
  },
  {
   "attachments": {},
   "cell_type": "markdown",
   "metadata": {},
   "source": [
    "Analysis of the `medical_speciality`"
   ]
  },
  {
   "cell_type": "code",
   "execution_count": 35,
   "metadata": {},
   "outputs": [
    {
     "data": {
      "application/vnd.plotly.v1+json": {
       "config": {
        "plotlyServerURL": "https://plotly.com"
       },
       "data": [
        {
         "alignmentgroup": "True",
         "hovertemplate": "index=%{x}<br>value=%{y}<extra></extra>",
         "legendgroup": "InternalMedicine",
         "marker": {
          "color": "#636efa",
          "pattern": {
           "shape": ""
          }
         },
         "name": "InternalMedicine",
         "offsetgroup": "InternalMedicine",
         "orientation": "v",
         "showlegend": true,
         "textposition": "auto",
         "type": "bar",
         "x": [
          "InternalMedicine"
         ],
         "xaxis": "x",
         "y": [
          10684
         ],
         "yaxis": "y"
        },
        {
         "alignmentgroup": "True",
         "hovertemplate": "index=%{x}<br>value=%{y}<extra></extra>",
         "legendgroup": "Family/GeneralPractice",
         "marker": {
          "color": "#EF553B",
          "pattern": {
           "shape": ""
          }
         },
         "name": "Family/GeneralPractice",
         "offsetgroup": "Family/GeneralPractice",
         "orientation": "v",
         "showlegend": true,
         "textposition": "auto",
         "type": "bar",
         "x": [
          "Family/GeneralPractice"
         ],
         "xaxis": "x",
         "y": [
          4968
         ],
         "yaxis": "y"
        },
        {
         "alignmentgroup": "True",
         "hovertemplate": "index=%{x}<br>value=%{y}<extra></extra>",
         "legendgroup": "Emergency/Trauma",
         "marker": {
          "color": "#00cc96",
          "pattern": {
           "shape": ""
          }
         },
         "name": "Emergency/Trauma",
         "offsetgroup": "Emergency/Trauma",
         "orientation": "v",
         "showlegend": true,
         "textposition": "auto",
         "type": "bar",
         "x": [
          "Emergency/Trauma"
         ],
         "xaxis": "x",
         "y": [
          4386
         ],
         "yaxis": "y"
        },
        {
         "alignmentgroup": "True",
         "hovertemplate": "index=%{x}<br>value=%{y}<extra></extra>",
         "legendgroup": "Cardiology",
         "marker": {
          "color": "#ab63fa",
          "pattern": {
           "shape": ""
          }
         },
         "name": "Cardiology",
         "offsetgroup": "Cardiology",
         "orientation": "v",
         "showlegend": true,
         "textposition": "auto",
         "type": "bar",
         "x": [
          "Cardiology"
         ],
         "xaxis": "x",
         "y": [
          4149
         ],
         "yaxis": "y"
        },
        {
         "alignmentgroup": "True",
         "hovertemplate": "index=%{x}<br>value=%{y}<extra></extra>",
         "legendgroup": "Surgery-General",
         "marker": {
          "color": "#FFA15A",
          "pattern": {
           "shape": ""
          }
         },
         "name": "Surgery-General",
         "offsetgroup": "Surgery-General",
         "orientation": "v",
         "showlegend": true,
         "textposition": "auto",
         "type": "bar",
         "x": [
          "Surgery-General"
         ],
         "xaxis": "x",
         "y": [
          2224
         ],
         "yaxis": "y"
        },
        {
         "alignmentgroup": "True",
         "hovertemplate": "index=%{x}<br>value=%{y}<extra></extra>",
         "legendgroup": "Orthopedics",
         "marker": {
          "color": "#19d3f3",
          "pattern": {
           "shape": ""
          }
         },
         "name": "Orthopedics",
         "offsetgroup": "Orthopedics",
         "orientation": "v",
         "showlegend": true,
         "textposition": "auto",
         "type": "bar",
         "x": [
          "Orthopedics"
         ],
         "xaxis": "x",
         "y": [
          1116
         ],
         "yaxis": "y"
        },
        {
         "alignmentgroup": "True",
         "hovertemplate": "index=%{x}<br>value=%{y}<extra></extra>",
         "legendgroup": "Orthopedics-Reconstructive",
         "marker": {
          "color": "#FF6692",
          "pattern": {
           "shape": ""
          }
         },
         "name": "Orthopedics-Reconstructive",
         "offsetgroup": "Orthopedics-Reconstructive",
         "orientation": "v",
         "showlegend": true,
         "textposition": "auto",
         "type": "bar",
         "x": [
          "Orthopedics-Reconstructive"
         ],
         "xaxis": "x",
         "y": [
          1047
         ],
         "yaxis": "y"
        },
        {
         "alignmentgroup": "True",
         "hovertemplate": "index=%{x}<br>value=%{y}<extra></extra>",
         "legendgroup": "Nephrology",
         "marker": {
          "color": "#B6E880",
          "pattern": {
           "shape": ""
          }
         },
         "name": "Nephrology",
         "offsetgroup": "Nephrology",
         "orientation": "v",
         "showlegend": true,
         "textposition": "auto",
         "type": "bar",
         "x": [
          "Nephrology"
         ],
         "xaxis": "x",
         "y": [
          817
         ],
         "yaxis": "y"
        },
        {
         "alignmentgroup": "True",
         "hovertemplate": "index=%{x}<br>value=%{y}<extra></extra>",
         "legendgroup": "Radiologist",
         "marker": {
          "color": "#FF97FF",
          "pattern": {
           "shape": ""
          }
         },
         "name": "Radiologist",
         "offsetgroup": "Radiologist",
         "orientation": "v",
         "showlegend": true,
         "textposition": "auto",
         "type": "bar",
         "x": [
          "Radiologist"
         ],
         "xaxis": "x",
         "y": [
          815
         ],
         "yaxis": "y"
        },
        {
         "alignmentgroup": "True",
         "hovertemplate": "index=%{x}<br>value=%{y}<extra></extra>",
         "legendgroup": "Pulmonology",
         "marker": {
          "color": "#FECB52",
          "pattern": {
           "shape": ""
          }
         },
         "name": "Pulmonology",
         "offsetgroup": "Pulmonology",
         "orientation": "v",
         "showlegend": true,
         "textposition": "auto",
         "type": "bar",
         "x": [
          "Pulmonology"
         ],
         "xaxis": "x",
         "y": [
          632
         ],
         "yaxis": "y"
        },
        {
         "alignmentgroup": "True",
         "hovertemplate": "index=%{x}<br>value=%{y}<extra></extra>",
         "legendgroup": "Psychiatry",
         "marker": {
          "color": "#636efa",
          "pattern": {
           "shape": ""
          }
         },
         "name": "Psychiatry",
         "offsetgroup": "Psychiatry",
         "orientation": "v",
         "showlegend": true,
         "textposition": "auto",
         "type": "bar",
         "x": [
          "Psychiatry"
         ],
         "xaxis": "x",
         "y": [
          610
         ],
         "yaxis": "y"
        },
        {
         "alignmentgroup": "True",
         "hovertemplate": "index=%{x}<br>value=%{y}<extra></extra>",
         "legendgroup": "ObstetricsandGynecology",
         "marker": {
          "color": "#EF553B",
          "pattern": {
           "shape": ""
          }
         },
         "name": "ObstetricsandGynecology",
         "offsetgroup": "ObstetricsandGynecology",
         "orientation": "v",
         "showlegend": true,
         "textposition": "auto",
         "type": "bar",
         "x": [
          "ObstetricsandGynecology"
         ],
         "xaxis": "x",
         "y": [
          594
         ],
         "yaxis": "y"
        },
        {
         "alignmentgroup": "True",
         "hovertemplate": "index=%{x}<br>value=%{y}<extra></extra>",
         "legendgroup": "Urology",
         "marker": {
          "color": "#00cc96",
          "pattern": {
           "shape": ""
          }
         },
         "name": "Urology",
         "offsetgroup": "Urology",
         "orientation": "v",
         "showlegend": true,
         "textposition": "auto",
         "type": "bar",
         "x": [
          "Urology"
         ],
         "xaxis": "x",
         "y": [
          533
         ],
         "yaxis": "y"
        },
        {
         "alignmentgroup": "True",
         "hovertemplate": "index=%{x}<br>value=%{y}<extra></extra>",
         "legendgroup": "Surgery-Cardiovascular/Thoracic",
         "marker": {
          "color": "#ab63fa",
          "pattern": {
           "shape": ""
          }
         },
         "name": "Surgery-Cardiovascular/Thoracic",
         "offsetgroup": "Surgery-Cardiovascular/Thoracic",
         "orientation": "v",
         "showlegend": true,
         "textposition": "auto",
         "type": "bar",
         "x": [
          "Surgery-Cardiovascular/Thoracic"
         ],
         "xaxis": "x",
         "y": [
          484
         ],
         "yaxis": "y"
        },
        {
         "alignmentgroup": "True",
         "hovertemplate": "index=%{x}<br>value=%{y}<extra></extra>",
         "legendgroup": "Surgery-Neuro",
         "marker": {
          "color": "#FFA15A",
          "pattern": {
           "shape": ""
          }
         },
         "name": "Surgery-Neuro",
         "offsetgroup": "Surgery-Neuro",
         "orientation": "v",
         "showlegend": true,
         "textposition": "auto",
         "type": "bar",
         "x": [
          "Surgery-Neuro"
         ],
         "xaxis": "x",
         "y": [
          408
         ],
         "yaxis": "y"
        },
        {
         "alignmentgroup": "True",
         "hovertemplate": "index=%{x}<br>value=%{y}<extra></extra>",
         "legendgroup": "Gastroenterology",
         "marker": {
          "color": "#19d3f3",
          "pattern": {
           "shape": ""
          }
         },
         "name": "Gastroenterology",
         "offsetgroup": "Gastroenterology",
         "orientation": "v",
         "showlegend": true,
         "textposition": "auto",
         "type": "bar",
         "x": [
          "Gastroenterology"
         ],
         "xaxis": "x",
         "y": [
          380
         ],
         "yaxis": "y"
        },
        {
         "alignmentgroup": "True",
         "hovertemplate": "index=%{x}<br>value=%{y}<extra></extra>",
         "legendgroup": "Surgery-Vascular",
         "marker": {
          "color": "#FF6692",
          "pattern": {
           "shape": ""
          }
         },
         "name": "Surgery-Vascular",
         "offsetgroup": "Surgery-Vascular",
         "orientation": "v",
         "showlegend": true,
         "textposition": "auto",
         "type": "bar",
         "x": [
          "Surgery-Vascular"
         ],
         "xaxis": "x",
         "y": [
          361
         ],
         "yaxis": "y"
        },
        {
         "alignmentgroup": "True",
         "hovertemplate": "index=%{x}<br>value=%{y}<extra></extra>",
         "legendgroup": "Oncology",
         "marker": {
          "color": "#B6E880",
          "pattern": {
           "shape": ""
          }
         },
         "name": "Oncology",
         "offsetgroup": "Oncology",
         "orientation": "v",
         "showlegend": true,
         "textposition": "auto",
         "type": "bar",
         "x": [
          "Oncology"
         ],
         "xaxis": "x",
         "y": [
          204
         ],
         "yaxis": "y"
        },
        {
         "alignmentgroup": "True",
         "hovertemplate": "index=%{x}<br>value=%{y}<extra></extra>",
         "legendgroup": "Pediatrics",
         "marker": {
          "color": "#FF97FF",
          "pattern": {
           "shape": ""
          }
         },
         "name": "Pediatrics",
         "offsetgroup": "Pediatrics",
         "orientation": "v",
         "showlegend": true,
         "textposition": "auto",
         "type": "bar",
         "x": [
          "Pediatrics"
         ],
         "xaxis": "x",
         "y": [
          193
         ],
         "yaxis": "y"
        },
        {
         "alignmentgroup": "True",
         "hovertemplate": "index=%{x}<br>value=%{y}<extra></extra>",
         "legendgroup": "PhysicalMedicineandRehabilitation",
         "marker": {
          "color": "#FECB52",
          "pattern": {
           "shape": ""
          }
         },
         "name": "PhysicalMedicineandRehabilitation",
         "offsetgroup": "PhysicalMedicineandRehabilitation",
         "orientation": "v",
         "showlegend": true,
         "textposition": "auto",
         "type": "bar",
         "x": [
          "PhysicalMedicineandRehabilitation"
         ],
         "xaxis": "x",
         "y": [
          193
         ],
         "yaxis": "y"
        },
        {
         "alignmentgroup": "True",
         "hovertemplate": "index=%{x}<br>value=%{y}<extra></extra>",
         "legendgroup": "Neurology",
         "marker": {
          "color": "#636efa",
          "pattern": {
           "shape": ""
          }
         },
         "name": "Neurology",
         "offsetgroup": "Neurology",
         "orientation": "v",
         "showlegend": true,
         "textposition": "auto",
         "type": "bar",
         "x": [
          "Neurology"
         ],
         "xaxis": "x",
         "y": [
          164
         ],
         "yaxis": "y"
        },
        {
         "alignmentgroup": "True",
         "hovertemplate": "index=%{x}<br>value=%{y}<extra></extra>",
         "legendgroup": "Pediatrics-Endocrinology",
         "marker": {
          "color": "#EF553B",
          "pattern": {
           "shape": ""
          }
         },
         "name": "Pediatrics-Endocrinology",
         "offsetgroup": "Pediatrics-Endocrinology",
         "orientation": "v",
         "showlegend": true,
         "textposition": "auto",
         "type": "bar",
         "x": [
          "Pediatrics-Endocrinology"
         ],
         "xaxis": "x",
         "y": [
          145
         ],
         "yaxis": "y"
        },
        {
         "alignmentgroup": "True",
         "hovertemplate": "index=%{x}<br>value=%{y}<extra></extra>",
         "legendgroup": "Hematology/Oncology",
         "marker": {
          "color": "#00cc96",
          "pattern": {
           "shape": ""
          }
         },
         "name": "Hematology/Oncology",
         "offsetgroup": "Hematology/Oncology",
         "orientation": "v",
         "showlegend": true,
         "textposition": "auto",
         "type": "bar",
         "x": [
          "Hematology/Oncology"
         ],
         "xaxis": "x",
         "y": [
          110
         ],
         "yaxis": "y"
        },
        {
         "alignmentgroup": "True",
         "hovertemplate": "index=%{x}<br>value=%{y}<extra></extra>",
         "legendgroup": "Otolaryngology",
         "marker": {
          "color": "#ab63fa",
          "pattern": {
           "shape": ""
          }
         },
         "name": "Otolaryngology",
         "offsetgroup": "Otolaryngology",
         "orientation": "v",
         "showlegend": true,
         "textposition": "auto",
         "type": "bar",
         "x": [
          "Otolaryngology"
         ],
         "xaxis": "x",
         "y": [
          105
         ],
         "yaxis": "y"
        },
        {
         "alignmentgroup": "True",
         "hovertemplate": "index=%{x}<br>value=%{y}<extra></extra>",
         "legendgroup": "Endocrinology",
         "marker": {
          "color": "#FFA15A",
          "pattern": {
           "shape": ""
          }
         },
         "name": "Endocrinology",
         "offsetgroup": "Endocrinology",
         "orientation": "v",
         "showlegend": true,
         "textposition": "auto",
         "type": "bar",
         "x": [
          "Endocrinology"
         ],
         "xaxis": "x",
         "y": [
          95
         ],
         "yaxis": "y"
        },
        {
         "alignmentgroup": "True",
         "hovertemplate": "index=%{x}<br>value=%{y}<extra></extra>",
         "legendgroup": "Surgery-Thoracic",
         "marker": {
          "color": "#19d3f3",
          "pattern": {
           "shape": ""
          }
         },
         "name": "Surgery-Thoracic",
         "offsetgroup": "Surgery-Thoracic",
         "orientation": "v",
         "showlegend": true,
         "textposition": "auto",
         "type": "bar",
         "x": [
          "Surgery-Thoracic"
         ],
         "xaxis": "x",
         "y": [
          93
         ],
         "yaxis": "y"
        },
        {
         "alignmentgroup": "True",
         "hovertemplate": "index=%{x}<br>value=%{y}<extra></extra>",
         "legendgroup": "Surgery-Cardiovascular",
         "marker": {
          "color": "#FF6692",
          "pattern": {
           "shape": ""
          }
         },
         "name": "Surgery-Cardiovascular",
         "offsetgroup": "Surgery-Cardiovascular",
         "orientation": "v",
         "showlegend": true,
         "textposition": "auto",
         "type": "bar",
         "x": [
          "Surgery-Cardiovascular"
         ],
         "xaxis": "x",
         "y": [
          88
         ],
         "yaxis": "y"
        },
        {
         "alignmentgroup": "True",
         "hovertemplate": "index=%{x}<br>value=%{y}<extra></extra>",
         "legendgroup": "Pediatrics-CriticalCare",
         "marker": {
          "color": "#B6E880",
          "pattern": {
           "shape": ""
          }
         },
         "name": "Pediatrics-CriticalCare",
         "offsetgroup": "Pediatrics-CriticalCare",
         "orientation": "v",
         "showlegend": true,
         "textposition": "auto",
         "type": "bar",
         "x": [
          "Pediatrics-CriticalCare"
         ],
         "xaxis": "x",
         "y": [
          73
         ],
         "yaxis": "y"
        },
        {
         "alignmentgroup": "True",
         "hovertemplate": "index=%{x}<br>value=%{y}<extra></extra>",
         "legendgroup": "Podiatry",
         "marker": {
          "color": "#FF97FF",
          "pattern": {
           "shape": ""
          }
         },
         "name": "Podiatry",
         "offsetgroup": "Podiatry",
         "orientation": "v",
         "showlegend": true,
         "textposition": "auto",
         "type": "bar",
         "x": [
          "Podiatry"
         ],
         "xaxis": "x",
         "y": [
          61
         ],
         "yaxis": "y"
        },
        {
         "alignmentgroup": "True",
         "hovertemplate": "index=%{x}<br>value=%{y}<extra></extra>",
         "legendgroup": "Gynecology",
         "marker": {
          "color": "#FECB52",
          "pattern": {
           "shape": ""
          }
         },
         "name": "Gynecology",
         "offsetgroup": "Gynecology",
         "orientation": "v",
         "showlegend": true,
         "textposition": "auto",
         "type": "bar",
         "x": [
          "Gynecology"
         ],
         "xaxis": "x",
         "y": [
          54
         ],
         "yaxis": "y"
        },
        {
         "alignmentgroup": "True",
         "hovertemplate": "index=%{x}<br>value=%{y}<extra></extra>",
         "legendgroup": "Psychology",
         "marker": {
          "color": "#636efa",
          "pattern": {
           "shape": ""
          }
         },
         "name": "Psychology",
         "offsetgroup": "Psychology",
         "orientation": "v",
         "showlegend": true,
         "textposition": "auto",
         "type": "bar",
         "x": [
          "Psychology"
         ],
         "xaxis": "x",
         "y": [
          52
         ],
         "yaxis": "y"
        },
        {
         "alignmentgroup": "True",
         "hovertemplate": "index=%{x}<br>value=%{y}<extra></extra>",
         "legendgroup": "Surgeon",
         "marker": {
          "color": "#EF553B",
          "pattern": {
           "shape": ""
          }
         },
         "name": "Surgeon",
         "offsetgroup": "Surgeon",
         "orientation": "v",
         "showlegend": true,
         "textposition": "auto",
         "type": "bar",
         "x": [
          "Surgeon"
         ],
         "xaxis": "x",
         "y": [
          41
         ],
         "yaxis": "y"
        },
        {
         "alignmentgroup": "True",
         "hovertemplate": "index=%{x}<br>value=%{y}<extra></extra>",
         "legendgroup": "Osteopath",
         "marker": {
          "color": "#00cc96",
          "pattern": {
           "shape": ""
          }
         },
         "name": "Osteopath",
         "offsetgroup": "Osteopath",
         "orientation": "v",
         "showlegend": true,
         "textposition": "auto",
         "type": "bar",
         "x": [
          "Osteopath"
         ],
         "xaxis": "x",
         "y": [
          37
         ],
         "yaxis": "y"
        },
        {
         "alignmentgroup": "True",
         "hovertemplate": "index=%{x}<br>value=%{y}<extra></extra>",
         "legendgroup": "Hematology",
         "marker": {
          "color": "#ab63fa",
          "pattern": {
           "shape": ""
          }
         },
         "name": "Hematology",
         "offsetgroup": "Hematology",
         "orientation": "v",
         "showlegend": true,
         "textposition": "auto",
         "type": "bar",
         "x": [
          "Hematology"
         ],
         "xaxis": "x",
         "y": [
          37
         ],
         "yaxis": "y"
        },
        {
         "alignmentgroup": "True",
         "hovertemplate": "index=%{x}<br>value=%{y}<extra></extra>",
         "legendgroup": "Hospitalist",
         "marker": {
          "color": "#FFA15A",
          "pattern": {
           "shape": ""
          }
         },
         "name": "Hospitalist",
         "offsetgroup": "Hospitalist",
         "orientation": "v",
         "showlegend": true,
         "textposition": "auto",
         "type": "bar",
         "x": [
          "Hospitalist"
         ],
         "xaxis": "x",
         "y": [
          36
         ],
         "yaxis": "y"
        },
        {
         "alignmentgroup": "True",
         "hovertemplate": "index=%{x}<br>value=%{y}<extra></extra>",
         "legendgroup": "Radiology",
         "marker": {
          "color": "#19d3f3",
          "pattern": {
           "shape": ""
          }
         },
         "name": "Radiology",
         "offsetgroup": "Radiology",
         "orientation": "v",
         "showlegend": true,
         "textposition": "auto",
         "type": "bar",
         "x": [
          "Radiology"
         ],
         "xaxis": "x",
         "y": [
          36
         ],
         "yaxis": "y"
        },
        {
         "alignmentgroup": "True",
         "hovertemplate": "index=%{x}<br>value=%{y}<extra></extra>",
         "legendgroup": "Ophthalmology",
         "marker": {
          "color": "#FF6692",
          "pattern": {
           "shape": ""
          }
         },
         "name": "Ophthalmology",
         "offsetgroup": "Ophthalmology",
         "orientation": "v",
         "showlegend": true,
         "textposition": "auto",
         "type": "bar",
         "x": [
          "Ophthalmology"
         ],
         "xaxis": "x",
         "y": [
          35
         ],
         "yaxis": "y"
        },
        {
         "alignmentgroup": "True",
         "hovertemplate": "index=%{x}<br>value=%{y}<extra></extra>",
         "legendgroup": "InfectiousDiseases",
         "marker": {
          "color": "#B6E880",
          "pattern": {
           "shape": ""
          }
         },
         "name": "InfectiousDiseases",
         "offsetgroup": "InfectiousDiseases",
         "orientation": "v",
         "showlegend": true,
         "textposition": "auto",
         "type": "bar",
         "x": [
          "InfectiousDiseases"
         ],
         "xaxis": "x",
         "y": [
          31
         ],
         "yaxis": "y"
        },
        {
         "alignmentgroup": "True",
         "hovertemplate": "index=%{x}<br>value=%{y}<extra></extra>",
         "legendgroup": "Surgery-Plastic",
         "marker": {
          "color": "#FF97FF",
          "pattern": {
           "shape": ""
          }
         },
         "name": "Surgery-Plastic",
         "offsetgroup": "Surgery-Plastic",
         "orientation": "v",
         "showlegend": true,
         "textposition": "auto",
         "type": "bar",
         "x": [
          "Surgery-Plastic"
         ],
         "xaxis": "x",
         "y": [
          30
         ],
         "yaxis": "y"
        },
        {
         "alignmentgroup": "True",
         "hovertemplate": "index=%{x}<br>value=%{y}<extra></extra>",
         "legendgroup": "SurgicalSpecialty",
         "marker": {
          "color": "#FECB52",
          "pattern": {
           "shape": ""
          }
         },
         "name": "SurgicalSpecialty",
         "offsetgroup": "SurgicalSpecialty",
         "orientation": "v",
         "showlegend": true,
         "textposition": "auto",
         "type": "bar",
         "x": [
          "SurgicalSpecialty"
         ],
         "xaxis": "x",
         "y": [
          26
         ],
         "yaxis": "y"
        },
        {
         "alignmentgroup": "True",
         "hovertemplate": "index=%{x}<br>value=%{y}<extra></extra>",
         "legendgroup": "Obsterics&Gynecology-GynecologicOnco",
         "marker": {
          "color": "#636efa",
          "pattern": {
           "shape": ""
          }
         },
         "name": "Obsterics&Gynecology-GynecologicOnco",
         "offsetgroup": "Obsterics&Gynecology-GynecologicOnco",
         "orientation": "v",
         "showlegend": true,
         "textposition": "auto",
         "type": "bar",
         "x": [
          "Obsterics&Gynecology-GynecologicOnco"
         ],
         "xaxis": "x",
         "y": [
          20
         ],
         "yaxis": "y"
        },
        {
         "alignmentgroup": "True",
         "hovertemplate": "index=%{x}<br>value=%{y}<extra></extra>",
         "legendgroup": "Obstetrics",
         "marker": {
          "color": "#EF553B",
          "pattern": {
           "shape": ""
          }
         },
         "name": "Obstetrics",
         "offsetgroup": "Obstetrics",
         "orientation": "v",
         "showlegend": true,
         "textposition": "auto",
         "type": "bar",
         "x": [
          "Obstetrics"
         ],
         "xaxis": "x",
         "y": [
          16
         ],
         "yaxis": "y"
        },
        {
         "alignmentgroup": "True",
         "hovertemplate": "index=%{x}<br>value=%{y}<extra></extra>",
         "legendgroup": "Anesthesiology-Pediatric",
         "marker": {
          "color": "#00cc96",
          "pattern": {
           "shape": ""
          }
         },
         "name": "Anesthesiology-Pediatric",
         "offsetgroup": "Anesthesiology-Pediatric",
         "orientation": "v",
         "showlegend": true,
         "textposition": "auto",
         "type": "bar",
         "x": [
          "Anesthesiology-Pediatric"
         ],
         "xaxis": "x",
         "y": [
          13
         ],
         "yaxis": "y"
        },
        {
         "alignmentgroup": "True",
         "hovertemplate": "index=%{x}<br>value=%{y}<extra></extra>",
         "legendgroup": "Rheumatology",
         "marker": {
          "color": "#ab63fa",
          "pattern": {
           "shape": ""
          }
         },
         "name": "Rheumatology",
         "offsetgroup": "Rheumatology",
         "orientation": "v",
         "showlegend": true,
         "textposition": "auto",
         "type": "bar",
         "x": [
          "Rheumatology"
         ],
         "xaxis": "x",
         "y": [
          11
         ],
         "yaxis": "y"
        },
        {
         "alignmentgroup": "True",
         "hovertemplate": "index=%{x}<br>value=%{y}<extra></extra>",
         "legendgroup": "Surgery-Colon&Rectal",
         "marker": {
          "color": "#FFA15A",
          "pattern": {
           "shape": ""
          }
         },
         "name": "Surgery-Colon&Rectal",
         "offsetgroup": "Surgery-Colon&Rectal",
         "orientation": "v",
         "showlegend": true,
         "textposition": "auto",
         "type": "bar",
         "x": [
          "Surgery-Colon&Rectal"
         ],
         "xaxis": "x",
         "y": [
          9
         ],
         "yaxis": "y"
        },
        {
         "alignmentgroup": "True",
         "hovertemplate": "index=%{x}<br>value=%{y}<extra></extra>",
         "legendgroup": "OutreachServices",
         "marker": {
          "color": "#19d3f3",
          "pattern": {
           "shape": ""
          }
         },
         "name": "OutreachServices",
         "offsetgroup": "OutreachServices",
         "orientation": "v",
         "showlegend": true,
         "textposition": "auto",
         "type": "bar",
         "x": [
          "OutreachServices"
         ],
         "xaxis": "x",
         "y": [
          8
         ],
         "yaxis": "y"
        },
        {
         "alignmentgroup": "True",
         "hovertemplate": "index=%{x}<br>value=%{y}<extra></extra>",
         "legendgroup": "Pathology",
         "marker": {
          "color": "#FF6692",
          "pattern": {
           "shape": ""
          }
         },
         "name": "Pathology",
         "offsetgroup": "Pathology",
         "orientation": "v",
         "showlegend": true,
         "textposition": "auto",
         "type": "bar",
         "x": [
          "Pathology"
         ],
         "xaxis": "x",
         "y": [
          7
         ],
         "yaxis": "y"
        },
        {
         "alignmentgroup": "True",
         "hovertemplate": "index=%{x}<br>value=%{y}<extra></extra>",
         "legendgroup": "Surgery-Maxillofacial",
         "marker": {
          "color": "#B6E880",
          "pattern": {
           "shape": ""
          }
         },
         "name": "Surgery-Maxillofacial",
         "offsetgroup": "Surgery-Maxillofacial",
         "orientation": "v",
         "showlegend": true,
         "textposition": "auto",
         "type": "bar",
         "x": [
          "Surgery-Maxillofacial"
         ],
         "xaxis": "x",
         "y": [
          7
         ],
         "yaxis": "y"
        },
        {
         "alignmentgroup": "True",
         "hovertemplate": "index=%{x}<br>value=%{y}<extra></extra>",
         "legendgroup": "PhysicianNotFound",
         "marker": {
          "color": "#FF97FF",
          "pattern": {
           "shape": ""
          }
         },
         "name": "PhysicianNotFound",
         "offsetgroup": "PhysicianNotFound",
         "orientation": "v",
         "showlegend": true,
         "textposition": "auto",
         "type": "bar",
         "x": [
          "PhysicianNotFound"
         ],
         "xaxis": "x",
         "y": [
          7
         ],
         "yaxis": "y"
        },
        {
         "alignmentgroup": "True",
         "hovertemplate": "index=%{x}<br>value=%{y}<extra></extra>",
         "legendgroup": "AllergyandImmunology",
         "marker": {
          "color": "#FECB52",
          "pattern": {
           "shape": ""
          }
         },
         "name": "AllergyandImmunology",
         "offsetgroup": "AllergyandImmunology",
         "orientation": "v",
         "showlegend": true,
         "textposition": "auto",
         "type": "bar",
         "x": [
          "AllergyandImmunology"
         ],
         "xaxis": "x",
         "y": [
          7
         ],
         "yaxis": "y"
        },
        {
         "alignmentgroup": "True",
         "hovertemplate": "index=%{x}<br>value=%{y}<extra></extra>",
         "legendgroup": "Endocrinology-Metabolism",
         "marker": {
          "color": "#636efa",
          "pattern": {
           "shape": ""
          }
         },
         "name": "Endocrinology-Metabolism",
         "offsetgroup": "Endocrinology-Metabolism",
         "orientation": "v",
         "showlegend": true,
         "textposition": "auto",
         "type": "bar",
         "x": [
          "Endocrinology-Metabolism"
         ],
         "xaxis": "x",
         "y": [
          7
         ],
         "yaxis": "y"
        },
        {
         "alignmentgroup": "True",
         "hovertemplate": "index=%{x}<br>value=%{y}<extra></extra>",
         "legendgroup": "Cardiology-Pediatric",
         "marker": {
          "color": "#EF553B",
          "pattern": {
           "shape": ""
          }
         },
         "name": "Cardiology-Pediatric",
         "offsetgroup": "Cardiology-Pediatric",
         "orientation": "v",
         "showlegend": true,
         "textposition": "auto",
         "type": "bar",
         "x": [
          "Cardiology-Pediatric"
         ],
         "xaxis": "x",
         "y": [
          7
         ],
         "yaxis": "y"
        },
        {
         "alignmentgroup": "True",
         "hovertemplate": "index=%{x}<br>value=%{y}<extra></extra>",
         "legendgroup": "Anesthesiology",
         "marker": {
          "color": "#00cc96",
          "pattern": {
           "shape": ""
          }
         },
         "name": "Anesthesiology",
         "offsetgroup": "Anesthesiology",
         "orientation": "v",
         "showlegend": true,
         "textposition": "auto",
         "type": "bar",
         "x": [
          "Anesthesiology"
         ],
         "xaxis": "x",
         "y": [
          7
         ],
         "yaxis": "y"
        },
        {
         "alignmentgroup": "True",
         "hovertemplate": "index=%{x}<br>value=%{y}<extra></extra>",
         "legendgroup": "Pediatrics-Pulmonology",
         "marker": {
          "color": "#ab63fa",
          "pattern": {
           "shape": ""
          }
         },
         "name": "Pediatrics-Pulmonology",
         "offsetgroup": "Pediatrics-Pulmonology",
         "orientation": "v",
         "showlegend": true,
         "textposition": "auto",
         "type": "bar",
         "x": [
          "Pediatrics-Pulmonology"
         ],
         "xaxis": "x",
         "y": [
          6
         ],
         "yaxis": "y"
        },
        {
         "alignmentgroup": "True",
         "hovertemplate": "index=%{x}<br>value=%{y}<extra></extra>",
         "legendgroup": "Pediatrics-Neurology",
         "marker": {
          "color": "#FFA15A",
          "pattern": {
           "shape": ""
          }
         },
         "name": "Pediatrics-Neurology",
         "offsetgroup": "Pediatrics-Neurology",
         "orientation": "v",
         "showlegend": true,
         "textposition": "auto",
         "type": "bar",
         "x": [
          "Pediatrics-Neurology"
         ],
         "xaxis": "x",
         "y": [
          6
         ],
         "yaxis": "y"
        },
        {
         "alignmentgroup": "True",
         "hovertemplate": "index=%{x}<br>value=%{y}<extra></extra>",
         "legendgroup": "Surgery-Pediatric",
         "marker": {
          "color": "#19d3f3",
          "pattern": {
           "shape": ""
          }
         },
         "name": "Surgery-Pediatric",
         "offsetgroup": "Surgery-Pediatric",
         "orientation": "v",
         "showlegend": true,
         "textposition": "auto",
         "type": "bar",
         "x": [
          "Surgery-Pediatric"
         ],
         "xaxis": "x",
         "y": [
          6
         ],
         "yaxis": "y"
        },
        {
         "alignmentgroup": "True",
         "hovertemplate": "index=%{x}<br>value=%{y}<extra></extra>",
         "legendgroup": "Psychiatry-Child/Adolescent",
         "marker": {
          "color": "#FF6692",
          "pattern": {
           "shape": ""
          }
         },
         "name": "Psychiatry-Child/Adolescent",
         "offsetgroup": "Psychiatry-Child/Adolescent",
         "orientation": "v",
         "showlegend": true,
         "textposition": "auto",
         "type": "bar",
         "x": [
          "Psychiatry-Child/Adolescent"
         ],
         "xaxis": "x",
         "y": [
          5
         ],
         "yaxis": "y"
        },
        {
         "alignmentgroup": "True",
         "hovertemplate": "index=%{x}<br>value=%{y}<extra></extra>",
         "legendgroup": "Dentistry",
         "marker": {
          "color": "#B6E880",
          "pattern": {
           "shape": ""
          }
         },
         "name": "Dentistry",
         "offsetgroup": "Dentistry",
         "orientation": "v",
         "showlegend": true,
         "textposition": "auto",
         "type": "bar",
         "x": [
          "Dentistry"
         ],
         "xaxis": "x",
         "y": [
          4
         ],
         "yaxis": "y"
        },
        {
         "alignmentgroup": "True",
         "hovertemplate": "index=%{x}<br>value=%{y}<extra></extra>",
         "legendgroup": "DCPTEAM",
         "marker": {
          "color": "#FF97FF",
          "pattern": {
           "shape": ""
          }
         },
         "name": "DCPTEAM",
         "offsetgroup": "DCPTEAM",
         "orientation": "v",
         "showlegend": true,
         "textposition": "auto",
         "type": "bar",
         "x": [
          "DCPTEAM"
         ],
         "xaxis": "x",
         "y": [
          4
         ],
         "yaxis": "y"
        },
        {
         "alignmentgroup": "True",
         "hovertemplate": "index=%{x}<br>value=%{y}<extra></extra>",
         "legendgroup": "Pediatrics-Hematology-Oncology",
         "marker": {
          "color": "#FECB52",
          "pattern": {
           "shape": ""
          }
         },
         "name": "Pediatrics-Hematology-Oncology",
         "offsetgroup": "Pediatrics-Hematology-Oncology",
         "orientation": "v",
         "showlegend": true,
         "textposition": "auto",
         "type": "bar",
         "x": [
          "Pediatrics-Hematology-Oncology"
         ],
         "xaxis": "x",
         "y": [
          3
         ],
         "yaxis": "y"
        },
        {
         "alignmentgroup": "True",
         "hovertemplate": "index=%{x}<br>value=%{y}<extra></extra>",
         "legendgroup": "Pediatrics-EmergencyMedicine",
         "marker": {
          "color": "#636efa",
          "pattern": {
           "shape": ""
          }
         },
         "name": "Pediatrics-EmergencyMedicine",
         "offsetgroup": "Pediatrics-EmergencyMedicine",
         "orientation": "v",
         "showlegend": true,
         "textposition": "auto",
         "type": "bar",
         "x": [
          "Pediatrics-EmergencyMedicine"
         ],
         "xaxis": "x",
         "y": [
          3
         ],
         "yaxis": "y"
        },
        {
         "alignmentgroup": "True",
         "hovertemplate": "index=%{x}<br>value=%{y}<extra></extra>",
         "legendgroup": "Resident",
         "marker": {
          "color": "#EF553B",
          "pattern": {
           "shape": ""
          }
         },
         "name": "Resident",
         "offsetgroup": "Resident",
         "orientation": "v",
         "showlegend": true,
         "textposition": "auto",
         "type": "bar",
         "x": [
          "Resident"
         ],
         "xaxis": "x",
         "y": [
          2
         ],
         "yaxis": "y"
        },
        {
         "alignmentgroup": "True",
         "hovertemplate": "index=%{x}<br>value=%{y}<extra></extra>",
         "legendgroup": "Pediatrics-AllergyandImmunology",
         "marker": {
          "color": "#00cc96",
          "pattern": {
           "shape": ""
          }
         },
         "name": "Pediatrics-AllergyandImmunology",
         "offsetgroup": "Pediatrics-AllergyandImmunology",
         "orientation": "v",
         "showlegend": true,
         "textposition": "auto",
         "type": "bar",
         "x": [
          "Pediatrics-AllergyandImmunology"
         ],
         "xaxis": "x",
         "y": [
          1
         ],
         "yaxis": "y"
        },
        {
         "alignmentgroup": "True",
         "hovertemplate": "index=%{x}<br>value=%{y}<extra></extra>",
         "legendgroup": "Dermatology",
         "marker": {
          "color": "#ab63fa",
          "pattern": {
           "shape": ""
          }
         },
         "name": "Dermatology",
         "offsetgroup": "Dermatology",
         "orientation": "v",
         "showlegend": true,
         "textposition": "auto",
         "type": "bar",
         "x": [
          "Dermatology"
         ],
         "xaxis": "x",
         "y": [
          1
         ],
         "yaxis": "y"
        },
        {
         "alignmentgroup": "True",
         "hovertemplate": "index=%{x}<br>value=%{y}<extra></extra>",
         "legendgroup": "Surgery-PlasticwithinHeadandNeck",
         "marker": {
          "color": "#FFA15A",
          "pattern": {
           "shape": ""
          }
         },
         "name": "Surgery-PlasticwithinHeadandNeck",
         "offsetgroup": "Surgery-PlasticwithinHeadandNeck",
         "orientation": "v",
         "showlegend": true,
         "textposition": "auto",
         "type": "bar",
         "x": [
          "Surgery-PlasticwithinHeadandNeck"
         ],
         "xaxis": "x",
         "y": [
          1
         ],
         "yaxis": "y"
        },
        {
         "alignmentgroup": "True",
         "hovertemplate": "index=%{x}<br>value=%{y}<extra></extra>",
         "legendgroup": "Neurophysiology",
         "marker": {
          "color": "#19d3f3",
          "pattern": {
           "shape": ""
          }
         },
         "name": "Neurophysiology",
         "offsetgroup": "Neurophysiology",
         "orientation": "v",
         "showlegend": true,
         "textposition": "auto",
         "type": "bar",
         "x": [
          "Neurophysiology"
         ],
         "xaxis": "x",
         "y": [
          1
         ],
         "yaxis": "y"
        },
        {
         "alignmentgroup": "True",
         "hovertemplate": "index=%{x}<br>value=%{y}<extra></extra>",
         "legendgroup": "Proctology",
         "marker": {
          "color": "#FF6692",
          "pattern": {
           "shape": ""
          }
         },
         "name": "Proctology",
         "offsetgroup": "Proctology",
         "orientation": "v",
         "showlegend": true,
         "textposition": "auto",
         "type": "bar",
         "x": [
          "Proctology"
         ],
         "xaxis": "x",
         "y": [
          1
         ],
         "yaxis": "y"
        },
        {
         "alignmentgroup": "True",
         "hovertemplate": "index=%{x}<br>value=%{y}<extra></extra>",
         "legendgroup": "Psychiatry-Addictive",
         "marker": {
          "color": "#B6E880",
          "pattern": {
           "shape": ""
          }
         },
         "name": "Psychiatry-Addictive",
         "offsetgroup": "Psychiatry-Addictive",
         "orientation": "v",
         "showlegend": true,
         "textposition": "auto",
         "type": "bar",
         "x": [
          "Psychiatry-Addictive"
         ],
         "xaxis": "x",
         "y": [
          1
         ],
         "yaxis": "y"
        },
        {
         "alignmentgroup": "True",
         "hovertemplate": "index=%{x}<br>value=%{y}<extra></extra>",
         "legendgroup": "Perinatology",
         "marker": {
          "color": "#FF97FF",
          "pattern": {
           "shape": ""
          }
         },
         "name": "Perinatology",
         "offsetgroup": "Perinatology",
         "orientation": "v",
         "showlegend": true,
         "textposition": "auto",
         "type": "bar",
         "x": [
          "Perinatology"
         ],
         "xaxis": "x",
         "y": [
          1
         ],
         "yaxis": "y"
        },
        {
         "alignmentgroup": "True",
         "hovertemplate": "index=%{x}<br>value=%{y}<extra></extra>",
         "legendgroup": "Speech",
         "marker": {
          "color": "#FECB52",
          "pattern": {
           "shape": ""
          }
         },
         "name": "Speech",
         "offsetgroup": "Speech",
         "orientation": "v",
         "showlegend": true,
         "textposition": "auto",
         "type": "bar",
         "x": [
          "Speech"
         ],
         "xaxis": "x",
         "y": [
          1
         ],
         "yaxis": "y"
        }
       ],
       "layout": {
        "barmode": "relative",
        "legend": {
         "title": {
          "text": "index"
         },
         "tracegroupgap": 0
        },
        "template": {
         "data": {
          "bar": [
           {
            "error_x": {
             "color": "#2a3f5f"
            },
            "error_y": {
             "color": "#2a3f5f"
            },
            "marker": {
             "line": {
              "color": "#E5ECF6",
              "width": 0.5
             },
             "pattern": {
              "fillmode": "overlay",
              "size": 10,
              "solidity": 0.2
             }
            },
            "type": "bar"
           }
          ],
          "barpolar": [
           {
            "marker": {
             "line": {
              "color": "#E5ECF6",
              "width": 0.5
             },
             "pattern": {
              "fillmode": "overlay",
              "size": 10,
              "solidity": 0.2
             }
            },
            "type": "barpolar"
           }
          ],
          "carpet": [
           {
            "aaxis": {
             "endlinecolor": "#2a3f5f",
             "gridcolor": "white",
             "linecolor": "white",
             "minorgridcolor": "white",
             "startlinecolor": "#2a3f5f"
            },
            "baxis": {
             "endlinecolor": "#2a3f5f",
             "gridcolor": "white",
             "linecolor": "white",
             "minorgridcolor": "white",
             "startlinecolor": "#2a3f5f"
            },
            "type": "carpet"
           }
          ],
          "choropleth": [
           {
            "colorbar": {
             "outlinewidth": 0,
             "ticks": ""
            },
            "type": "choropleth"
           }
          ],
          "contour": [
           {
            "colorbar": {
             "outlinewidth": 0,
             "ticks": ""
            },
            "colorscale": [
             [
              0,
              "#0d0887"
             ],
             [
              0.1111111111111111,
              "#46039f"
             ],
             [
              0.2222222222222222,
              "#7201a8"
             ],
             [
              0.3333333333333333,
              "#9c179e"
             ],
             [
              0.4444444444444444,
              "#bd3786"
             ],
             [
              0.5555555555555556,
              "#d8576b"
             ],
             [
              0.6666666666666666,
              "#ed7953"
             ],
             [
              0.7777777777777778,
              "#fb9f3a"
             ],
             [
              0.8888888888888888,
              "#fdca26"
             ],
             [
              1,
              "#f0f921"
             ]
            ],
            "type": "contour"
           }
          ],
          "contourcarpet": [
           {
            "colorbar": {
             "outlinewidth": 0,
             "ticks": ""
            },
            "type": "contourcarpet"
           }
          ],
          "heatmap": [
           {
            "colorbar": {
             "outlinewidth": 0,
             "ticks": ""
            },
            "colorscale": [
             [
              0,
              "#0d0887"
             ],
             [
              0.1111111111111111,
              "#46039f"
             ],
             [
              0.2222222222222222,
              "#7201a8"
             ],
             [
              0.3333333333333333,
              "#9c179e"
             ],
             [
              0.4444444444444444,
              "#bd3786"
             ],
             [
              0.5555555555555556,
              "#d8576b"
             ],
             [
              0.6666666666666666,
              "#ed7953"
             ],
             [
              0.7777777777777778,
              "#fb9f3a"
             ],
             [
              0.8888888888888888,
              "#fdca26"
             ],
             [
              1,
              "#f0f921"
             ]
            ],
            "type": "heatmap"
           }
          ],
          "heatmapgl": [
           {
            "colorbar": {
             "outlinewidth": 0,
             "ticks": ""
            },
            "colorscale": [
             [
              0,
              "#0d0887"
             ],
             [
              0.1111111111111111,
              "#46039f"
             ],
             [
              0.2222222222222222,
              "#7201a8"
             ],
             [
              0.3333333333333333,
              "#9c179e"
             ],
             [
              0.4444444444444444,
              "#bd3786"
             ],
             [
              0.5555555555555556,
              "#d8576b"
             ],
             [
              0.6666666666666666,
              "#ed7953"
             ],
             [
              0.7777777777777778,
              "#fb9f3a"
             ],
             [
              0.8888888888888888,
              "#fdca26"
             ],
             [
              1,
              "#f0f921"
             ]
            ],
            "type": "heatmapgl"
           }
          ],
          "histogram": [
           {
            "marker": {
             "pattern": {
              "fillmode": "overlay",
              "size": 10,
              "solidity": 0.2
             }
            },
            "type": "histogram"
           }
          ],
          "histogram2d": [
           {
            "colorbar": {
             "outlinewidth": 0,
             "ticks": ""
            },
            "colorscale": [
             [
              0,
              "#0d0887"
             ],
             [
              0.1111111111111111,
              "#46039f"
             ],
             [
              0.2222222222222222,
              "#7201a8"
             ],
             [
              0.3333333333333333,
              "#9c179e"
             ],
             [
              0.4444444444444444,
              "#bd3786"
             ],
             [
              0.5555555555555556,
              "#d8576b"
             ],
             [
              0.6666666666666666,
              "#ed7953"
             ],
             [
              0.7777777777777778,
              "#fb9f3a"
             ],
             [
              0.8888888888888888,
              "#fdca26"
             ],
             [
              1,
              "#f0f921"
             ]
            ],
            "type": "histogram2d"
           }
          ],
          "histogram2dcontour": [
           {
            "colorbar": {
             "outlinewidth": 0,
             "ticks": ""
            },
            "colorscale": [
             [
              0,
              "#0d0887"
             ],
             [
              0.1111111111111111,
              "#46039f"
             ],
             [
              0.2222222222222222,
              "#7201a8"
             ],
             [
              0.3333333333333333,
              "#9c179e"
             ],
             [
              0.4444444444444444,
              "#bd3786"
             ],
             [
              0.5555555555555556,
              "#d8576b"
             ],
             [
              0.6666666666666666,
              "#ed7953"
             ],
             [
              0.7777777777777778,
              "#fb9f3a"
             ],
             [
              0.8888888888888888,
              "#fdca26"
             ],
             [
              1,
              "#f0f921"
             ]
            ],
            "type": "histogram2dcontour"
           }
          ],
          "mesh3d": [
           {
            "colorbar": {
             "outlinewidth": 0,
             "ticks": ""
            },
            "type": "mesh3d"
           }
          ],
          "parcoords": [
           {
            "line": {
             "colorbar": {
              "outlinewidth": 0,
              "ticks": ""
             }
            },
            "type": "parcoords"
           }
          ],
          "pie": [
           {
            "automargin": true,
            "type": "pie"
           }
          ],
          "scatter": [
           {
            "fillpattern": {
             "fillmode": "overlay",
             "size": 10,
             "solidity": 0.2
            },
            "type": "scatter"
           }
          ],
          "scatter3d": [
           {
            "line": {
             "colorbar": {
              "outlinewidth": 0,
              "ticks": ""
             }
            },
            "marker": {
             "colorbar": {
              "outlinewidth": 0,
              "ticks": ""
             }
            },
            "type": "scatter3d"
           }
          ],
          "scattercarpet": [
           {
            "marker": {
             "colorbar": {
              "outlinewidth": 0,
              "ticks": ""
             }
            },
            "type": "scattercarpet"
           }
          ],
          "scattergeo": [
           {
            "marker": {
             "colorbar": {
              "outlinewidth": 0,
              "ticks": ""
             }
            },
            "type": "scattergeo"
           }
          ],
          "scattergl": [
           {
            "marker": {
             "colorbar": {
              "outlinewidth": 0,
              "ticks": ""
             }
            },
            "type": "scattergl"
           }
          ],
          "scattermapbox": [
           {
            "marker": {
             "colorbar": {
              "outlinewidth": 0,
              "ticks": ""
             }
            },
            "type": "scattermapbox"
           }
          ],
          "scatterpolar": [
           {
            "marker": {
             "colorbar": {
              "outlinewidth": 0,
              "ticks": ""
             }
            },
            "type": "scatterpolar"
           }
          ],
          "scatterpolargl": [
           {
            "marker": {
             "colorbar": {
              "outlinewidth": 0,
              "ticks": ""
             }
            },
            "type": "scatterpolargl"
           }
          ],
          "scatterternary": [
           {
            "marker": {
             "colorbar": {
              "outlinewidth": 0,
              "ticks": ""
             }
            },
            "type": "scatterternary"
           }
          ],
          "surface": [
           {
            "colorbar": {
             "outlinewidth": 0,
             "ticks": ""
            },
            "colorscale": [
             [
              0,
              "#0d0887"
             ],
             [
              0.1111111111111111,
              "#46039f"
             ],
             [
              0.2222222222222222,
              "#7201a8"
             ],
             [
              0.3333333333333333,
              "#9c179e"
             ],
             [
              0.4444444444444444,
              "#bd3786"
             ],
             [
              0.5555555555555556,
              "#d8576b"
             ],
             [
              0.6666666666666666,
              "#ed7953"
             ],
             [
              0.7777777777777778,
              "#fb9f3a"
             ],
             [
              0.8888888888888888,
              "#fdca26"
             ],
             [
              1,
              "#f0f921"
             ]
            ],
            "type": "surface"
           }
          ],
          "table": [
           {
            "cells": {
             "fill": {
              "color": "#EBF0F8"
             },
             "line": {
              "color": "white"
             }
            },
            "header": {
             "fill": {
              "color": "#C8D4E3"
             },
             "line": {
              "color": "white"
             }
            },
            "type": "table"
           }
          ]
         },
         "layout": {
          "annotationdefaults": {
           "arrowcolor": "#2a3f5f",
           "arrowhead": 0,
           "arrowwidth": 1
          },
          "autotypenumbers": "strict",
          "coloraxis": {
           "colorbar": {
            "outlinewidth": 0,
            "ticks": ""
           }
          },
          "colorscale": {
           "diverging": [
            [
             0,
             "#8e0152"
            ],
            [
             0.1,
             "#c51b7d"
            ],
            [
             0.2,
             "#de77ae"
            ],
            [
             0.3,
             "#f1b6da"
            ],
            [
             0.4,
             "#fde0ef"
            ],
            [
             0.5,
             "#f7f7f7"
            ],
            [
             0.6,
             "#e6f5d0"
            ],
            [
             0.7,
             "#b8e186"
            ],
            [
             0.8,
             "#7fbc41"
            ],
            [
             0.9,
             "#4d9221"
            ],
            [
             1,
             "#276419"
            ]
           ],
           "sequential": [
            [
             0,
             "#0d0887"
            ],
            [
             0.1111111111111111,
             "#46039f"
            ],
            [
             0.2222222222222222,
             "#7201a8"
            ],
            [
             0.3333333333333333,
             "#9c179e"
            ],
            [
             0.4444444444444444,
             "#bd3786"
            ],
            [
             0.5555555555555556,
             "#d8576b"
            ],
            [
             0.6666666666666666,
             "#ed7953"
            ],
            [
             0.7777777777777778,
             "#fb9f3a"
            ],
            [
             0.8888888888888888,
             "#fdca26"
            ],
            [
             1,
             "#f0f921"
            ]
           ],
           "sequentialminus": [
            [
             0,
             "#0d0887"
            ],
            [
             0.1111111111111111,
             "#46039f"
            ],
            [
             0.2222222222222222,
             "#7201a8"
            ],
            [
             0.3333333333333333,
             "#9c179e"
            ],
            [
             0.4444444444444444,
             "#bd3786"
            ],
            [
             0.5555555555555556,
             "#d8576b"
            ],
            [
             0.6666666666666666,
             "#ed7953"
            ],
            [
             0.7777777777777778,
             "#fb9f3a"
            ],
            [
             0.8888888888888888,
             "#fdca26"
            ],
            [
             1,
             "#f0f921"
            ]
           ]
          },
          "colorway": [
           "#636efa",
           "#EF553B",
           "#00cc96",
           "#ab63fa",
           "#FFA15A",
           "#19d3f3",
           "#FF6692",
           "#B6E880",
           "#FF97FF",
           "#FECB52"
          ],
          "font": {
           "color": "#2a3f5f"
          },
          "geo": {
           "bgcolor": "white",
           "lakecolor": "white",
           "landcolor": "#E5ECF6",
           "showlakes": true,
           "showland": true,
           "subunitcolor": "white"
          },
          "hoverlabel": {
           "align": "left"
          },
          "hovermode": "closest",
          "mapbox": {
           "style": "light"
          },
          "paper_bgcolor": "white",
          "plot_bgcolor": "#E5ECF6",
          "polar": {
           "angularaxis": {
            "gridcolor": "white",
            "linecolor": "white",
            "ticks": ""
           },
           "bgcolor": "#E5ECF6",
           "radialaxis": {
            "gridcolor": "white",
            "linecolor": "white",
            "ticks": ""
           }
          },
          "scene": {
           "xaxis": {
            "backgroundcolor": "#E5ECF6",
            "gridcolor": "white",
            "gridwidth": 2,
            "linecolor": "white",
            "showbackground": true,
            "ticks": "",
            "zerolinecolor": "white"
           },
           "yaxis": {
            "backgroundcolor": "#E5ECF6",
            "gridcolor": "white",
            "gridwidth": 2,
            "linecolor": "white",
            "showbackground": true,
            "ticks": "",
            "zerolinecolor": "white"
           },
           "zaxis": {
            "backgroundcolor": "#E5ECF6",
            "gridcolor": "white",
            "gridwidth": 2,
            "linecolor": "white",
            "showbackground": true,
            "ticks": "",
            "zerolinecolor": "white"
           }
          },
          "shapedefaults": {
           "line": {
            "color": "#2a3f5f"
           }
          },
          "ternary": {
           "aaxis": {
            "gridcolor": "white",
            "linecolor": "white",
            "ticks": ""
           },
           "baxis": {
            "gridcolor": "white",
            "linecolor": "white",
            "ticks": ""
           },
           "bgcolor": "#E5ECF6",
           "caxis": {
            "gridcolor": "white",
            "linecolor": "white",
            "ticks": ""
           }
          },
          "title": {
           "x": 0.05
          },
          "xaxis": {
           "automargin": true,
           "gridcolor": "white",
           "linecolor": "white",
           "ticks": "",
           "title": {
            "standoff": 15
           },
           "zerolinecolor": "white",
           "zerolinewidth": 2
          },
          "yaxis": {
           "automargin": true,
           "gridcolor": "white",
           "linecolor": "white",
           "ticks": "",
           "title": {
            "standoff": 15
           },
           "zerolinecolor": "white",
           "zerolinewidth": 2
          }
         }
        },
        "title": {
         "text": "medical specialty distribution without n.a's"
        },
        "xaxis": {
         "anchor": "y",
         "categoryarray": [
          "InternalMedicine",
          "Family/GeneralPractice",
          "Emergency/Trauma",
          "Cardiology",
          "Surgery-General",
          "Orthopedics",
          "Orthopedics-Reconstructive",
          "Nephrology",
          "Radiologist",
          "Pulmonology",
          "Psychiatry",
          "ObstetricsandGynecology",
          "Urology",
          "Surgery-Cardiovascular/Thoracic",
          "Surgery-Neuro",
          "Gastroenterology",
          "Surgery-Vascular",
          "Oncology",
          "Pediatrics",
          "PhysicalMedicineandRehabilitation",
          "Neurology",
          "Pediatrics-Endocrinology",
          "Hematology/Oncology",
          "Otolaryngology",
          "Endocrinology",
          "Surgery-Thoracic",
          "Surgery-Cardiovascular",
          "Pediatrics-CriticalCare",
          "Podiatry",
          "Gynecology",
          "Psychology",
          "Surgeon",
          "Osteopath",
          "Hematology",
          "Hospitalist",
          "Radiology",
          "Ophthalmology",
          "InfectiousDiseases",
          "Surgery-Plastic",
          "SurgicalSpecialty",
          "Obsterics&Gynecology-GynecologicOnco",
          "Obstetrics",
          "Anesthesiology-Pediatric",
          "Rheumatology",
          "Surgery-Colon&Rectal",
          "OutreachServices",
          "Pathology",
          "Surgery-Maxillofacial",
          "PhysicianNotFound",
          "AllergyandImmunology",
          "Endocrinology-Metabolism",
          "Cardiology-Pediatric",
          "Anesthesiology",
          "Pediatrics-Pulmonology",
          "Pediatrics-Neurology",
          "Surgery-Pediatric",
          "Psychiatry-Child/Adolescent",
          "Dentistry",
          "DCPTEAM",
          "Pediatrics-Hematology-Oncology",
          "Pediatrics-EmergencyMedicine",
          "Resident",
          "Pediatrics-AllergyandImmunology",
          "Dermatology",
          "Surgery-PlasticwithinHeadandNeck",
          "Neurophysiology",
          "Proctology",
          "Psychiatry-Addictive",
          "Perinatology",
          "Speech"
         ],
         "categoryorder": "array",
         "domain": [
          0,
          1
         ],
         "title": {
          "text": "index"
         }
        },
        "yaxis": {
         "anchor": "x",
         "domain": [
          0,
          1
         ],
         "title": {
          "text": "value"
         }
        }
       }
      }
     },
     "metadata": {},
     "output_type": "display_data"
    }
   ],
   "source": [
    "bar = data_raw[\"medical_specialty\"].value_counts()\n",
    "bar.plot.bar(title=\"medical specialty distribution without n.a's\", color=bar.index)"
   ]
  },
  {
   "attachments": {},
   "cell_type": "markdown",
   "metadata": {},
   "source": [
    "I will i'm keeping `medical_specialty` until i perform an statistical analysis of the data,\n",
    "so the `n.a` values will be replace by `Unknown`"
   ]
  },
  {
   "cell_type": "code",
   "execution_count": 36,
   "metadata": {},
   "outputs": [],
   "source": [
    "data_raw[\"medical_specialty\"].fillna('Unknow', inplace=True)"
   ]
  },
  {
   "attachments": {},
   "cell_type": "markdown",
   "metadata": {},
   "source": [
    "Number of duplicated data after removing columns"
   ]
  },
  {
   "cell_type": "code",
   "execution_count": 37,
   "metadata": {
    "tags": []
   },
   "outputs": [
    {
     "name": "stdout",
     "output_type": "stream",
     "text": [
      "Duplicated data = 0\n"
     ]
    }
   ],
   "source": [
    "print(f\"Duplicated data = {len(data_raw)-len(data_raw.drop_duplicates())}\")"
   ]
  },
  {
   "attachments": {},
   "cell_type": "markdown",
   "metadata": {},
   "source": [
    "#### race column analysis\n",
    "\n",
    "The n.a values are less than the 3% of the data"
   ]
  },
  {
   "cell_type": "code",
   "execution_count": 38,
   "metadata": {},
   "outputs": [
    {
     "data": {
      "text/plain": [
       "1897"
      ]
     },
     "execution_count": 38,
     "metadata": {},
     "output_type": "execute_result"
    }
   ],
   "source": [
    "data_raw[\"race\"].isnull().sum()"
   ]
  },
  {
   "attachments": {},
   "cell_type": "markdown",
   "metadata": {},
   "source": [
    "How is the distribution"
   ]
  },
  {
   "cell_type": "code",
   "execution_count": 39,
   "metadata": {},
   "outputs": [
    {
     "data": {
      "text/plain": [
       "array(['Caucasian', 'AfricanAmerican', nan, 'Hispanic', 'Other', 'Asian'],\n",
       "      dtype=object)"
      ]
     },
     "execution_count": 39,
     "metadata": {},
     "output_type": "execute_result"
    }
   ],
   "source": [
    "colum = data_raw[\"race\"].unique()\n",
    "colum"
   ]
  },
  {
   "cell_type": "code",
   "execution_count": 40,
   "metadata": {},
   "outputs": [
    {
     "data": {
      "text/plain": [
       "0          Caucasian\n",
       "1    AfricanAmerican\n",
       "3           Hispanic\n",
       "4              Other\n",
       "5              Asian\n",
       "dtype: object"
      ]
     },
     "execution_count": 40,
     "metadata": {},
     "output_type": "execute_result"
    }
   ],
   "source": [
    "pd.Series(colum).dropna()"
   ]
  },
  {
   "cell_type": "code",
   "execution_count": 41,
   "metadata": {},
   "outputs": [
    {
     "data": {
      "application/vnd.plotly.v1+json": {
       "config": {
        "plotlyServerURL": "https://plotly.com"
       },
       "data": [
        {
         "alignmentgroup": "True",
         "hovertemplate": "index=%{x}<br>value=%{y}<extra></extra>",
         "legendgroup": "Caucasian",
         "marker": {
          "color": "#636efa",
          "pattern": {
           "shape": ""
          }
         },
         "name": "Caucasian",
         "offsetgroup": "Caucasian",
         "orientation": "v",
         "showlegend": true,
         "textposition": "auto",
         "type": "bar",
         "x": [
          "Caucasian"
         ],
         "xaxis": "x",
         "y": [
          52308
         ],
         "yaxis": "y"
        },
        {
         "alignmentgroup": "True",
         "hovertemplate": "index=%{x}<br>value=%{y}<extra></extra>",
         "legendgroup": "AfricanAmerican",
         "marker": {
          "color": "#EF553B",
          "pattern": {
           "shape": ""
          }
         },
         "name": "AfricanAmerican",
         "offsetgroup": "AfricanAmerican",
         "orientation": "v",
         "showlegend": true,
         "textposition": "auto",
         "type": "bar",
         "x": [
          "AfricanAmerican"
         ],
         "xaxis": "x",
         "y": [
          12624
         ],
         "yaxis": "y"
        },
        {
         "alignmentgroup": "True",
         "hovertemplate": "index=%{x}<br>value=%{y}<extra></extra>",
         "legendgroup": "Hispanic",
         "marker": {
          "color": "#00cc96",
          "pattern": {
           "shape": ""
          }
         },
         "name": "Hispanic",
         "offsetgroup": "Hispanic",
         "orientation": "v",
         "showlegend": true,
         "textposition": "auto",
         "type": "bar",
         "x": [
          "Hispanic"
         ],
         "xaxis": "x",
         "y": [
          1493
         ],
         "yaxis": "y"
        },
        {
         "alignmentgroup": "True",
         "hovertemplate": "index=%{x}<br>value=%{y}<extra></extra>",
         "legendgroup": "Other",
         "marker": {
          "color": "#ab63fa",
          "pattern": {
           "shape": ""
          }
         },
         "name": "Other",
         "offsetgroup": "Other",
         "orientation": "v",
         "showlegend": true,
         "textposition": "auto",
         "type": "bar",
         "x": [
          "Other"
         ],
         "xaxis": "x",
         "y": [
          1151
         ],
         "yaxis": "y"
        },
        {
         "alignmentgroup": "True",
         "hovertemplate": "index=%{x}<br>value=%{y}<extra></extra>",
         "legendgroup": "Asian",
         "marker": {
          "color": "#FFA15A",
          "pattern": {
           "shape": ""
          }
         },
         "name": "Asian",
         "offsetgroup": "Asian",
         "orientation": "v",
         "showlegend": true,
         "textposition": "auto",
         "type": "bar",
         "x": [
          "Asian"
         ],
         "xaxis": "x",
         "y": [
          490
         ],
         "yaxis": "y"
        }
       ],
       "layout": {
        "barmode": "relative",
        "legend": {
         "title": {
          "text": "index"
         },
         "tracegroupgap": 0
        },
        "template": {
         "data": {
          "bar": [
           {
            "error_x": {
             "color": "#2a3f5f"
            },
            "error_y": {
             "color": "#2a3f5f"
            },
            "marker": {
             "line": {
              "color": "#E5ECF6",
              "width": 0.5
             },
             "pattern": {
              "fillmode": "overlay",
              "size": 10,
              "solidity": 0.2
             }
            },
            "type": "bar"
           }
          ],
          "barpolar": [
           {
            "marker": {
             "line": {
              "color": "#E5ECF6",
              "width": 0.5
             },
             "pattern": {
              "fillmode": "overlay",
              "size": 10,
              "solidity": 0.2
             }
            },
            "type": "barpolar"
           }
          ],
          "carpet": [
           {
            "aaxis": {
             "endlinecolor": "#2a3f5f",
             "gridcolor": "white",
             "linecolor": "white",
             "minorgridcolor": "white",
             "startlinecolor": "#2a3f5f"
            },
            "baxis": {
             "endlinecolor": "#2a3f5f",
             "gridcolor": "white",
             "linecolor": "white",
             "minorgridcolor": "white",
             "startlinecolor": "#2a3f5f"
            },
            "type": "carpet"
           }
          ],
          "choropleth": [
           {
            "colorbar": {
             "outlinewidth": 0,
             "ticks": ""
            },
            "type": "choropleth"
           }
          ],
          "contour": [
           {
            "colorbar": {
             "outlinewidth": 0,
             "ticks": ""
            },
            "colorscale": [
             [
              0,
              "#0d0887"
             ],
             [
              0.1111111111111111,
              "#46039f"
             ],
             [
              0.2222222222222222,
              "#7201a8"
             ],
             [
              0.3333333333333333,
              "#9c179e"
             ],
             [
              0.4444444444444444,
              "#bd3786"
             ],
             [
              0.5555555555555556,
              "#d8576b"
             ],
             [
              0.6666666666666666,
              "#ed7953"
             ],
             [
              0.7777777777777778,
              "#fb9f3a"
             ],
             [
              0.8888888888888888,
              "#fdca26"
             ],
             [
              1,
              "#f0f921"
             ]
            ],
            "type": "contour"
           }
          ],
          "contourcarpet": [
           {
            "colorbar": {
             "outlinewidth": 0,
             "ticks": ""
            },
            "type": "contourcarpet"
           }
          ],
          "heatmap": [
           {
            "colorbar": {
             "outlinewidth": 0,
             "ticks": ""
            },
            "colorscale": [
             [
              0,
              "#0d0887"
             ],
             [
              0.1111111111111111,
              "#46039f"
             ],
             [
              0.2222222222222222,
              "#7201a8"
             ],
             [
              0.3333333333333333,
              "#9c179e"
             ],
             [
              0.4444444444444444,
              "#bd3786"
             ],
             [
              0.5555555555555556,
              "#d8576b"
             ],
             [
              0.6666666666666666,
              "#ed7953"
             ],
             [
              0.7777777777777778,
              "#fb9f3a"
             ],
             [
              0.8888888888888888,
              "#fdca26"
             ],
             [
              1,
              "#f0f921"
             ]
            ],
            "type": "heatmap"
           }
          ],
          "heatmapgl": [
           {
            "colorbar": {
             "outlinewidth": 0,
             "ticks": ""
            },
            "colorscale": [
             [
              0,
              "#0d0887"
             ],
             [
              0.1111111111111111,
              "#46039f"
             ],
             [
              0.2222222222222222,
              "#7201a8"
             ],
             [
              0.3333333333333333,
              "#9c179e"
             ],
             [
              0.4444444444444444,
              "#bd3786"
             ],
             [
              0.5555555555555556,
              "#d8576b"
             ],
             [
              0.6666666666666666,
              "#ed7953"
             ],
             [
              0.7777777777777778,
              "#fb9f3a"
             ],
             [
              0.8888888888888888,
              "#fdca26"
             ],
             [
              1,
              "#f0f921"
             ]
            ],
            "type": "heatmapgl"
           }
          ],
          "histogram": [
           {
            "marker": {
             "pattern": {
              "fillmode": "overlay",
              "size": 10,
              "solidity": 0.2
             }
            },
            "type": "histogram"
           }
          ],
          "histogram2d": [
           {
            "colorbar": {
             "outlinewidth": 0,
             "ticks": ""
            },
            "colorscale": [
             [
              0,
              "#0d0887"
             ],
             [
              0.1111111111111111,
              "#46039f"
             ],
             [
              0.2222222222222222,
              "#7201a8"
             ],
             [
              0.3333333333333333,
              "#9c179e"
             ],
             [
              0.4444444444444444,
              "#bd3786"
             ],
             [
              0.5555555555555556,
              "#d8576b"
             ],
             [
              0.6666666666666666,
              "#ed7953"
             ],
             [
              0.7777777777777778,
              "#fb9f3a"
             ],
             [
              0.8888888888888888,
              "#fdca26"
             ],
             [
              1,
              "#f0f921"
             ]
            ],
            "type": "histogram2d"
           }
          ],
          "histogram2dcontour": [
           {
            "colorbar": {
             "outlinewidth": 0,
             "ticks": ""
            },
            "colorscale": [
             [
              0,
              "#0d0887"
             ],
             [
              0.1111111111111111,
              "#46039f"
             ],
             [
              0.2222222222222222,
              "#7201a8"
             ],
             [
              0.3333333333333333,
              "#9c179e"
             ],
             [
              0.4444444444444444,
              "#bd3786"
             ],
             [
              0.5555555555555556,
              "#d8576b"
             ],
             [
              0.6666666666666666,
              "#ed7953"
             ],
             [
              0.7777777777777778,
              "#fb9f3a"
             ],
             [
              0.8888888888888888,
              "#fdca26"
             ],
             [
              1,
              "#f0f921"
             ]
            ],
            "type": "histogram2dcontour"
           }
          ],
          "mesh3d": [
           {
            "colorbar": {
             "outlinewidth": 0,
             "ticks": ""
            },
            "type": "mesh3d"
           }
          ],
          "parcoords": [
           {
            "line": {
             "colorbar": {
              "outlinewidth": 0,
              "ticks": ""
             }
            },
            "type": "parcoords"
           }
          ],
          "pie": [
           {
            "automargin": true,
            "type": "pie"
           }
          ],
          "scatter": [
           {
            "fillpattern": {
             "fillmode": "overlay",
             "size": 10,
             "solidity": 0.2
            },
            "type": "scatter"
           }
          ],
          "scatter3d": [
           {
            "line": {
             "colorbar": {
              "outlinewidth": 0,
              "ticks": ""
             }
            },
            "marker": {
             "colorbar": {
              "outlinewidth": 0,
              "ticks": ""
             }
            },
            "type": "scatter3d"
           }
          ],
          "scattercarpet": [
           {
            "marker": {
             "colorbar": {
              "outlinewidth": 0,
              "ticks": ""
             }
            },
            "type": "scattercarpet"
           }
          ],
          "scattergeo": [
           {
            "marker": {
             "colorbar": {
              "outlinewidth": 0,
              "ticks": ""
             }
            },
            "type": "scattergeo"
           }
          ],
          "scattergl": [
           {
            "marker": {
             "colorbar": {
              "outlinewidth": 0,
              "ticks": ""
             }
            },
            "type": "scattergl"
           }
          ],
          "scattermapbox": [
           {
            "marker": {
             "colorbar": {
              "outlinewidth": 0,
              "ticks": ""
             }
            },
            "type": "scattermapbox"
           }
          ],
          "scatterpolar": [
           {
            "marker": {
             "colorbar": {
              "outlinewidth": 0,
              "ticks": ""
             }
            },
            "type": "scatterpolar"
           }
          ],
          "scatterpolargl": [
           {
            "marker": {
             "colorbar": {
              "outlinewidth": 0,
              "ticks": ""
             }
            },
            "type": "scatterpolargl"
           }
          ],
          "scatterternary": [
           {
            "marker": {
             "colorbar": {
              "outlinewidth": 0,
              "ticks": ""
             }
            },
            "type": "scatterternary"
           }
          ],
          "surface": [
           {
            "colorbar": {
             "outlinewidth": 0,
             "ticks": ""
            },
            "colorscale": [
             [
              0,
              "#0d0887"
             ],
             [
              0.1111111111111111,
              "#46039f"
             ],
             [
              0.2222222222222222,
              "#7201a8"
             ],
             [
              0.3333333333333333,
              "#9c179e"
             ],
             [
              0.4444444444444444,
              "#bd3786"
             ],
             [
              0.5555555555555556,
              "#d8576b"
             ],
             [
              0.6666666666666666,
              "#ed7953"
             ],
             [
              0.7777777777777778,
              "#fb9f3a"
             ],
             [
              0.8888888888888888,
              "#fdca26"
             ],
             [
              1,
              "#f0f921"
             ]
            ],
            "type": "surface"
           }
          ],
          "table": [
           {
            "cells": {
             "fill": {
              "color": "#EBF0F8"
             },
             "line": {
              "color": "white"
             }
            },
            "header": {
             "fill": {
              "color": "#C8D4E3"
             },
             "line": {
              "color": "white"
             }
            },
            "type": "table"
           }
          ]
         },
         "layout": {
          "annotationdefaults": {
           "arrowcolor": "#2a3f5f",
           "arrowhead": 0,
           "arrowwidth": 1
          },
          "autotypenumbers": "strict",
          "coloraxis": {
           "colorbar": {
            "outlinewidth": 0,
            "ticks": ""
           }
          },
          "colorscale": {
           "diverging": [
            [
             0,
             "#8e0152"
            ],
            [
             0.1,
             "#c51b7d"
            ],
            [
             0.2,
             "#de77ae"
            ],
            [
             0.3,
             "#f1b6da"
            ],
            [
             0.4,
             "#fde0ef"
            ],
            [
             0.5,
             "#f7f7f7"
            ],
            [
             0.6,
             "#e6f5d0"
            ],
            [
             0.7,
             "#b8e186"
            ],
            [
             0.8,
             "#7fbc41"
            ],
            [
             0.9,
             "#4d9221"
            ],
            [
             1,
             "#276419"
            ]
           ],
           "sequential": [
            [
             0,
             "#0d0887"
            ],
            [
             0.1111111111111111,
             "#46039f"
            ],
            [
             0.2222222222222222,
             "#7201a8"
            ],
            [
             0.3333333333333333,
             "#9c179e"
            ],
            [
             0.4444444444444444,
             "#bd3786"
            ],
            [
             0.5555555555555556,
             "#d8576b"
            ],
            [
             0.6666666666666666,
             "#ed7953"
            ],
            [
             0.7777777777777778,
             "#fb9f3a"
            ],
            [
             0.8888888888888888,
             "#fdca26"
            ],
            [
             1,
             "#f0f921"
            ]
           ],
           "sequentialminus": [
            [
             0,
             "#0d0887"
            ],
            [
             0.1111111111111111,
             "#46039f"
            ],
            [
             0.2222222222222222,
             "#7201a8"
            ],
            [
             0.3333333333333333,
             "#9c179e"
            ],
            [
             0.4444444444444444,
             "#bd3786"
            ],
            [
             0.5555555555555556,
             "#d8576b"
            ],
            [
             0.6666666666666666,
             "#ed7953"
            ],
            [
             0.7777777777777778,
             "#fb9f3a"
            ],
            [
             0.8888888888888888,
             "#fdca26"
            ],
            [
             1,
             "#f0f921"
            ]
           ]
          },
          "colorway": [
           "#636efa",
           "#EF553B",
           "#00cc96",
           "#ab63fa",
           "#FFA15A",
           "#19d3f3",
           "#FF6692",
           "#B6E880",
           "#FF97FF",
           "#FECB52"
          ],
          "font": {
           "color": "#2a3f5f"
          },
          "geo": {
           "bgcolor": "white",
           "lakecolor": "white",
           "landcolor": "#E5ECF6",
           "showlakes": true,
           "showland": true,
           "subunitcolor": "white"
          },
          "hoverlabel": {
           "align": "left"
          },
          "hovermode": "closest",
          "mapbox": {
           "style": "light"
          },
          "paper_bgcolor": "white",
          "plot_bgcolor": "#E5ECF6",
          "polar": {
           "angularaxis": {
            "gridcolor": "white",
            "linecolor": "white",
            "ticks": ""
           },
           "bgcolor": "#E5ECF6",
           "radialaxis": {
            "gridcolor": "white",
            "linecolor": "white",
            "ticks": ""
           }
          },
          "scene": {
           "xaxis": {
            "backgroundcolor": "#E5ECF6",
            "gridcolor": "white",
            "gridwidth": 2,
            "linecolor": "white",
            "showbackground": true,
            "ticks": "",
            "zerolinecolor": "white"
           },
           "yaxis": {
            "backgroundcolor": "#E5ECF6",
            "gridcolor": "white",
            "gridwidth": 2,
            "linecolor": "white",
            "showbackground": true,
            "ticks": "",
            "zerolinecolor": "white"
           },
           "zaxis": {
            "backgroundcolor": "#E5ECF6",
            "gridcolor": "white",
            "gridwidth": 2,
            "linecolor": "white",
            "showbackground": true,
            "ticks": "",
            "zerolinecolor": "white"
           }
          },
          "shapedefaults": {
           "line": {
            "color": "#2a3f5f"
           }
          },
          "ternary": {
           "aaxis": {
            "gridcolor": "white",
            "linecolor": "white",
            "ticks": ""
           },
           "baxis": {
            "gridcolor": "white",
            "linecolor": "white",
            "ticks": ""
           },
           "bgcolor": "#E5ECF6",
           "caxis": {
            "gridcolor": "white",
            "linecolor": "white",
            "ticks": ""
           }
          },
          "title": {
           "x": 0.05
          },
          "xaxis": {
           "automargin": true,
           "gridcolor": "white",
           "linecolor": "white",
           "ticks": "",
           "title": {
            "standoff": 15
           },
           "zerolinecolor": "white",
           "zerolinewidth": 2
          },
          "yaxis": {
           "automargin": true,
           "gridcolor": "white",
           "linecolor": "white",
           "ticks": "",
           "title": {
            "standoff": 15
           },
           "zerolinecolor": "white",
           "zerolinewidth": 2
          }
         }
        },
        "title": {
         "text": "race distribution"
        },
        "xaxis": {
         "anchor": "y",
         "categoryarray": [
          "Caucasian",
          "AfricanAmerican",
          "Hispanic",
          "Other",
          "Asian"
         ],
         "categoryorder": "array",
         "domain": [
          0,
          1
         ],
         "title": {
          "text": "index"
         }
        },
        "yaxis": {
         "anchor": "x",
         "domain": [
          0,
          1
         ],
         "title": {
          "text": "value"
         }
        }
       }
      }
     },
     "metadata": {},
     "output_type": "display_data"
    }
   ],
   "source": [
    "bar = data_raw[\"race\"].value_counts()\n",
    "bar.plot.bar(title=\"race distribution\", color=bar.index)"
   ]
  },
  {
   "attachments": {},
   "cell_type": "markdown",
   "metadata": {},
   "source": [
    "the majority of people in the dataset are caucasian, therefore i'm going to impute the n.a values with the mode."
   ]
  },
  {
   "cell_type": "code",
   "execution_count": 42,
   "metadata": {},
   "outputs": [],
   "source": [
    "data_raw[\"race\"].fillna(data_raw['race'].mode()[0], inplace=True)"
   ]
  },
  {
   "cell_type": "code",
   "execution_count": 43,
   "metadata": {},
   "outputs": [
    {
     "data": {
      "text/plain": [
       "race                           0\n",
       "gender                         0\n",
       "age                            0\n",
       "admission_type_id              0\n",
       "discharge_disposition_id       0\n",
       "admission_source_id            0\n",
       "time_in_hospital               0\n",
       "medical_specialty              0\n",
       "num_lab_procedures             0\n",
       "num_procedures                 0\n",
       "num_medications                0\n",
       "number_outpatient              0\n",
       "number_emergency               0\n",
       "number_inpatient               0\n",
       "diag_1                        13\n",
       "diag_2                       295\n",
       "diag_3                      1197\n",
       "number_diagnoses               0\n",
       "max_glu_serum                  0\n",
       "A1Cresult                      0\n",
       "metformin                      0\n",
       "repaglinide                    0\n",
       "nateglinide                    0\n",
       "chlorpropamide                 0\n",
       "glimepiride                    0\n",
       "acetohexamide                  0\n",
       "glipizide                      0\n",
       "glyburide                      0\n",
       "tolbutamide                    0\n",
       "pioglitazone                   0\n",
       "rosiglitazone                  0\n",
       "acarbose                       0\n",
       "miglitol                       0\n",
       "troglitazone                   0\n",
       "tolazamide                     0\n",
       "insulin                        0\n",
       "glyburide-metformin            0\n",
       "glipizide-metformin            0\n",
       "metformin-rosiglitazone        0\n",
       "metformin-pioglitazone         0\n",
       "change                         0\n",
       "diabetesMed                    0\n",
       "readmitted                     0\n",
       "dtype: int64"
      ]
     },
     "execution_count": 43,
     "metadata": {},
     "output_type": "execute_result"
    }
   ],
   "source": [
    "data_raw.isnull().sum()"
   ]
  },
  {
   "attachments": {},
   "cell_type": "markdown",
   "metadata": {},
   "source": [
    "We take care of patients with at least one diagnostic."
   ]
  },
  {
   "cell_type": "code",
   "execution_count": 44,
   "metadata": {},
   "outputs": [],
   "source": [
    "data_raw.dropna(subset=[\"diag_1\"], inplace = True)"
   ]
  },
  {
   "attachments": {},
   "cell_type": "markdown",
   "metadata": {},
   "source": [
    "Check if when `diag_2` is missing `diag_3` too"
   ]
  },
  {
   "cell_type": "code",
   "execution_count": 45,
   "metadata": {},
   "outputs": [
    {
     "data": {
      "text/plain": [
       "243"
      ]
     },
     "execution_count": 45,
     "metadata": {},
     "output_type": "execute_result"
    }
   ],
   "source": [
    "data_raw[\"diag_3\"].loc[data_raw[\"diag_2\"].isnull()].isnull().sum()"
   ]
  },
  {
   "attachments": {},
   "cell_type": "markdown",
   "metadata": {},
   "source": [
    "if `diag_2` is missing and `diag_3` has a value, copy data from `diag_3` to `diag_2`\n",
    "\n",
    "because `diag_3` is the aditional secondary diagnosis"
   ]
  },
  {
   "cell_type": "code",
   "execution_count": 46,
   "metadata": {},
   "outputs": [
    {
     "name": "stderr",
     "output_type": "stream",
     "text": [
      "/tmp/ipykernel_34293/2779560990.py:1: SettingWithCopyWarning:\n",
      "\n",
      "\n",
      "A value is trying to be set on a copy of a slice from a DataFrame\n",
      "\n",
      "See the caveats in the documentation: https://pandas.pydata.org/pandas-docs/stable/user_guide/indexing.html#returning-a-view-versus-a-copy\n",
      "\n"
     ]
    }
   ],
   "source": [
    "data_raw[\"diag_2\"].loc[data_raw[\"diag_2\"].isnull()] = data_raw[\"diag_3\"].loc[data_raw[\"diag_2\"].isnull()].copy()"
   ]
  },
  {
   "attachments": {},
   "cell_type": "markdown",
   "metadata": {},
   "source": [
    "If the Secondary diagnosis (`diag_2`) is missing will be filled with the primary diagnosis (`diag_1`)."
   ]
  },
  {
   "cell_type": "code",
   "execution_count": 47,
   "metadata": {},
   "outputs": [
    {
     "name": "stderr",
     "output_type": "stream",
     "text": [
      "/tmp/ipykernel_34293/1485722002.py:1: SettingWithCopyWarning:\n",
      "\n",
      "\n",
      "A value is trying to be set on a copy of a slice from a DataFrame\n",
      "\n",
      "See the caveats in the documentation: https://pandas.pydata.org/pandas-docs/stable/user_guide/indexing.html#returning-a-view-versus-a-copy\n",
      "\n"
     ]
    }
   ],
   "source": [
    "data_raw[\"diag_2\"].loc[data_raw[\"diag_2\"].isnull()] = data_raw[\"diag_1\"].loc[data_raw[\"diag_2\"].isnull()].copy()"
   ]
  },
  {
   "attachments": {},
   "cell_type": "markdown",
   "metadata": {},
   "source": [
    "Finally, If the aditional Secondary diagnosis (`diag_3`) is missing will be filled with the secondary diagnosis (`diag_2`)."
   ]
  },
  {
   "cell_type": "code",
   "execution_count": 48,
   "metadata": {},
   "outputs": [
    {
     "name": "stderr",
     "output_type": "stream",
     "text": [
      "/tmp/ipykernel_34293/1823848833.py:1: SettingWithCopyWarning:\n",
      "\n",
      "\n",
      "A value is trying to be set on a copy of a slice from a DataFrame\n",
      "\n",
      "See the caveats in the documentation: https://pandas.pydata.org/pandas-docs/stable/user_guide/indexing.html#returning-a-view-versus-a-copy\n",
      "\n"
     ]
    }
   ],
   "source": [
    "data_raw[\"diag_3\"].loc[data_raw[\"diag_3\"].isnull()] = data_raw[\"diag_2\"].loc[data_raw[\"diag_3\"].isnull()].copy()"
   ]
  },
  {
   "attachments": {},
   "cell_type": "markdown",
   "metadata": {},
   "source": [
    "General Dataframe data"
   ]
  },
  {
   "cell_type": "code",
   "execution_count": 49,
   "metadata": {},
   "outputs": [],
   "source": [
    "# reset data frame index\n",
    "data_raw.reset_index(inplace=True, drop=True)"
   ]
  },
  {
   "cell_type": "code",
   "execution_count": 50,
   "metadata": {
    "tags": []
   },
   "outputs": [
    {
     "name": "stdout",
     "output_type": "stream",
     "text": [
      "<class 'pandas.core.frame.DataFrame'>\n",
      "RangeIndex: 69950 entries, 0 to 69949\n",
      "Data columns (total 43 columns):\n",
      " #   Column                    Non-Null Count  Dtype \n",
      "---  ------                    --------------  ----- \n",
      " 0   race                      69950 non-null  object\n",
      " 1   gender                    69950 non-null  object\n",
      " 2   age                       69950 non-null  object\n",
      " 3   admission_type_id         69950 non-null  int64 \n",
      " 4   discharge_disposition_id  69950 non-null  int64 \n",
      " 5   admission_source_id       69950 non-null  int64 \n",
      " 6   time_in_hospital          69950 non-null  int64 \n",
      " 7   medical_specialty         69950 non-null  object\n",
      " 8   num_lab_procedures        69950 non-null  int64 \n",
      " 9   num_procedures            69950 non-null  int64 \n",
      " 10  num_medications           69950 non-null  int64 \n",
      " 11  number_outpatient         69950 non-null  int64 \n",
      " 12  number_emergency          69950 non-null  int64 \n",
      " 13  number_inpatient          69950 non-null  int64 \n",
      " 14  diag_1                    69950 non-null  object\n",
      " 15  diag_2                    69950 non-null  object\n",
      " 16  diag_3                    69950 non-null  object\n",
      " 17  number_diagnoses          69950 non-null  int64 \n",
      " 18  max_glu_serum             69950 non-null  object\n",
      " 19  A1Cresult                 69950 non-null  object\n",
      " 20  metformin                 69950 non-null  object\n",
      " 21  repaglinide               69950 non-null  object\n",
      " 22  nateglinide               69950 non-null  object\n",
      " 23  chlorpropamide            69950 non-null  object\n",
      " 24  glimepiride               69950 non-null  object\n",
      " 25  acetohexamide             69950 non-null  object\n",
      " 26  glipizide                 69950 non-null  object\n",
      " 27  glyburide                 69950 non-null  object\n",
      " 28  tolbutamide               69950 non-null  object\n",
      " 29  pioglitazone              69950 non-null  object\n",
      " 30  rosiglitazone             69950 non-null  object\n",
      " 31  acarbose                  69950 non-null  object\n",
      " 32  miglitol                  69950 non-null  object\n",
      " 33  troglitazone              69950 non-null  object\n",
      " 34  tolazamide                69950 non-null  object\n",
      " 35  insulin                   69950 non-null  object\n",
      " 36  glyburide-metformin       69950 non-null  object\n",
      " 37  glipizide-metformin       69950 non-null  object\n",
      " 38  metformin-rosiglitazone   69950 non-null  object\n",
      " 39  metformin-pioglitazone    69950 non-null  object\n",
      " 40  change                    69950 non-null  object\n",
      " 41  diabetesMed               69950 non-null  object\n",
      " 42  readmitted                69950 non-null  object\n",
      "dtypes: int64(11), object(32)\n",
      "memory usage: 22.9+ MB\n"
     ]
    }
   ],
   "source": [
    "data_raw.info()"
   ]
  },
  {
   "cell_type": "code",
   "execution_count": 51,
   "metadata": {
    "tags": []
   },
   "outputs": [
    {
     "name": "stdout",
     "output_type": "stream",
     "text": [
      "Total missing values in the dataset = 0\n"
     ]
    }
   ],
   "source": [
    "# Total Missing values in the dataset\n",
    "\n",
    "print(f\"Total missing values in the dataset = {data_raw.isnull().sum().sum()}\")"
   ]
  },
  {
   "attachments": {},
   "cell_type": "markdown",
   "metadata": {},
   "source": [
    "### Save intermediated transformed data\n",
    "Data without:\n",
    "\n",
    " - Duplicates\n",
    " - Missings values\n",
    " - Non informative data for our taks"
   ]
  },
  {
   "cell_type": "code",
   "execution_count": 52,
   "metadata": {},
   "outputs": [],
   "source": [
    "# Dataset is small i will be save in a csv file\n",
    "data_raw.to_csv(\"../data/interim/diabetes_clean.csv\", index = False)"
   ]
  },
  {
   "attachments": {},
   "cell_type": "markdown",
   "metadata": {},
   "source": [
    "# Partial Results\n",
    "\n",
    "Initial raw data:\n",
    "- 101766 rows, 50 Columns , memory usage: 38.8+ MB\n",
    "\n",
    "After cleaning process\n",
    "- 69950 rows , 43 Columns , memory usage: 17.5+ MB"
   ]
  },
  {
   "attachments": {},
   "cell_type": "markdown",
   "metadata": {},
   "source": [
    "# References\n",
    "\n",
    "- Correction to: Hospital Readmission of Patients with Diabetes - https://link.springer.com/article/10.1007/s11892-018-0989-1\n",
    "\n",
    "- Center for disease control and prevention, Diabetes atlas- https://gis.cdc.gov/grasp/diabetes/DiabetesAtlas.html\n",
    "\n",
    "- https://medium.com/@joserzapata/paso-a-paso-en-un-proyecto-machine-learning-bcdd0939d387\n",
    "\n",
    "- Interpretable ML for Diabetes Patient Readmission - https://www.kaggle.com/aldrinl/interpretable-ml-for-diabetes-patient-readmission\n",
    "\n",
    "- Prediction on Hospital Readmission - https://www.kaggle.com/iabhishekofficial/prediction-on-hospital-readmission\n",
    "\n",
    "- Predicting Effective Treatments - https://www.kaggle.com/kavyarall/predicting-effective-treatments/\n"
   ]
  },
  {
   "attachments": {},
   "cell_type": "markdown",
   "metadata": {},
   "source": [
    "[Jose R. Zapata](https://joserzapata.github.io)\n",
    "- https://joserzapata.github.io\n",
    "- https://twitter.com/joserzapata\n",
    "- https://www.linkedin.com/in/jose-ricardo-zapata-gonzalez/   "
   ]
  }
 ],
 "metadata": {
  "colab": {
   "collapsed_sections": [
    "mXQHmtMbHJoh",
    "3aVUkwJVHJom",
    "9SfZHh6oHJor",
    "1S_iRK8rHJo0",
    "Ey5Lk8evHJo3",
    "0Y0UV-GVHJo6",
    "he4lxsEUHJpM",
    "h0FKIrJHHJpO",
    "jYPdefrhHJpS",
    "zUundEM6HJpT",
    "2GNrgJzHHJpW",
    "uRwep7LjHJpZ",
    "JCcM4XFbHJpd"
   ],
   "name": "Trabajo_Preparacion_Datos_JoseR_Zapata.ipynb",
   "provenance": []
  },
  "kernelspec": {
   "display_name": "Python 3",
   "language": "python",
   "name": "python3"
  },
  "language_info": {
   "codemirror_mode": {
    "name": "ipython",
    "version": 3
   },
   "file_extension": ".py",
   "mimetype": "text/x-python",
   "name": "python",
   "nbconvert_exporter": "python",
   "pygments_lexer": "ipython3",
   "version": "3.9.16"
  },
  "nbTranslate": {
   "displayLangs": [
    "es",
    "en"
   ],
   "hotkey": "alt-t",
   "langInMainMenu": true,
   "sourceLang": "en",
   "targetLang": "es",
   "useGoogleTranslate": true
  },
  "toc": {
   "base_numbering": 1,
   "nav_menu": {},
   "number_sections": true,
   "sideBar": true,
   "skip_h1_title": false,
   "title_cell": "Contenido",
   "title_sidebar": "Contenido",
   "toc_cell": true,
   "toc_position": {},
   "toc_section_display": true,
   "toc_window_display": true
  },
  "varInspector": {
   "cols": {
    "lenName": 16,
    "lenType": 16,
    "lenVar": 40
   },
   "kernels_config": {
    "python": {
     "delete_cmd_postfix": "",
     "delete_cmd_prefix": "del ",
     "library": "var_list.py",
     "varRefreshCmd": "print(var_dic_list())"
    },
    "r": {
     "delete_cmd_postfix": ") ",
     "delete_cmd_prefix": "rm(",
     "library": "var_list.r",
     "varRefreshCmd": "cat(var_dic_list()) "
    }
   },
   "types_to_exclude": [
    "module",
    "function",
    "builtin_function_or_method",
    "instance",
    "_Feature"
   ],
   "window_display": false
  }
 },
 "nbformat": 4,
 "nbformat_minor": 4
}
