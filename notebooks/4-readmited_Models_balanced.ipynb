{
 "cells": [
  {
   "attachments": {},
   "cell_type": "markdown",
   "metadata": {
    "colab_type": "text",
    "id": "Wbepu01LHJoL"
   },
   "source": [
    "# Diabetes Classification - Models Balanced train data\n",
    "[Jose R. Zapata](https://joserzapata.github.io)\n",
    "- https://joserzapata.github.io\n",
    "- https://twitter.com/joserzapata\n",
    "- https://www.linkedin.com/in/jose-ricardo-zapata-gonzalez/       \n"
   ]
  },
  {
   "attachments": {},
   "cell_type": "markdown",
   "metadata": {
    "toc": true
   },
   "source": [
    "<h1>Contenido<span class=\"tocSkip\"></span></h1>\n",
    "<div class=\"toc\"><ul class=\"toc-item\"><li><span><a href=\"#Diabetes-Classification---Models-Balanced-train-data\" data-toc-modified-id=\"Diabetes-Classification---Models-Balanced-train-data-1\"><span class=\"toc-item-num\">1&nbsp;&nbsp;</span>Diabetes Classification - Models Balanced train data</a></span><ul class=\"toc-item\"><li><span><a href=\"#Introduction\" data-toc-modified-id=\"Introduction-1.1\"><span class=\"toc-item-num\">1.1&nbsp;&nbsp;</span>Introduction</a></span></li><li><span><a href=\"#Main-Objective\" data-toc-modified-id=\"Main-Objective-1.2\"><span class=\"toc-item-num\">1.2&nbsp;&nbsp;</span>Main Objective</a></span></li><li><span><a href=\"#Principal-References\" data-toc-modified-id=\"Principal-References-1.3\"><span class=\"toc-item-num\">1.3&nbsp;&nbsp;</span>Principal References</a></span><ul class=\"toc-item\"><li><span><a href=\"#Paper\" data-toc-modified-id=\"Paper-1.3.1\"><span class=\"toc-item-num\">1.3.1&nbsp;&nbsp;</span>Paper</a></span></li><li><span><a href=\"#Dataset\" data-toc-modified-id=\"Dataset-1.3.2\"><span class=\"toc-item-num\">1.3.2&nbsp;&nbsp;</span>Dataset</a></span></li><li><span><a href=\"#Data-description\" data-toc-modified-id=\"Data-description-1.3.3\"><span class=\"toc-item-num\">1.3.3&nbsp;&nbsp;</span>Data description</a></span></li></ul></li></ul></li><li><span><a href=\"#Import-libraries\" data-toc-modified-id=\"Import-libraries-2\"><span class=\"toc-item-num\">2&nbsp;&nbsp;</span>Import libraries</a></span></li><li><span><a href=\"#Load-Dataset\" data-toc-modified-id=\"Load-Dataset-3\"><span class=\"toc-item-num\">3&nbsp;&nbsp;</span>Load Dataset</a></span><ul class=\"toc-item\"><li><span><a href=\"#Encode-categorical-colums\" data-toc-modified-id=\"Encode-categorical-colums-3.1\"><span class=\"toc-item-num\">3.1&nbsp;&nbsp;</span>Encode categorical colums</a></span></li><li><span><a href=\"#Input-and-output-data\" data-toc-modified-id=\"Input-and-output-data-3.2\"><span class=\"toc-item-num\">3.2&nbsp;&nbsp;</span>Input and output data</a></span></li><li><span><a href=\"#Split-dataset-70/30\" data-toc-modified-id=\"Split-dataset-70/30-3.3\"><span class=\"toc-item-num\">3.3&nbsp;&nbsp;</span>Split dataset 70/30</a></span></li><li><span><a href=\"#Balance-train-data\" data-toc-modified-id=\"Balance-train-data-3.4\"><span class=\"toc-item-num\">3.4&nbsp;&nbsp;</span>Balance train data</a></span></li></ul></li><li><span><a href=\"#Simple-BaseLine\" data-toc-modified-id=\"Simple-BaseLine-4\"><span class=\"toc-item-num\">4&nbsp;&nbsp;</span>Simple BaseLine</a></span></li><li><span><a href=\"#MODELS\" data-toc-modified-id=\"MODELS-5\"><span class=\"toc-item-num\">5&nbsp;&nbsp;</span>MODELS</a></span><ul class=\"toc-item\"><li><span><a href=\"#Evaluation-Metric\" data-toc-modified-id=\"Evaluation-Metric-5.1\"><span class=\"toc-item-num\">5.1&nbsp;&nbsp;</span>Evaluation Metric</a></span></li><li><span><a href=\"#Model-Selection\" data-toc-modified-id=\"Model-Selection-5.2\"><span class=\"toc-item-num\">5.2&nbsp;&nbsp;</span>Model Selection</a></span></li><li><span><a href=\"#Results\" data-toc-modified-id=\"Results-5.3\"><span class=\"toc-item-num\">5.3&nbsp;&nbsp;</span>Results</a></span></li></ul></li><li><span><a href=\"#Hyper-Parameter-optimization\" data-toc-modified-id=\"Hyper-Parameter-optimization-6\"><span class=\"toc-item-num\">6&nbsp;&nbsp;</span>Hyper Parameter optimization</a></span></li><li><span><a href=\"#Final-evaluation-Test-set\" data-toc-modified-id=\"Final-evaluation-Test-set-7\"><span class=\"toc-item-num\">7&nbsp;&nbsp;</span>Final evaluation Test set</a></span><ul class=\"toc-item\"><li><span><a href=\"#Naïve-Bayes\" data-toc-modified-id=\"Naïve-Bayes-7.1\"><span class=\"toc-item-num\">7.1&nbsp;&nbsp;</span>Naïve Bayes</a></span></li></ul></li><li><span><a href=\"#Save-Model\" data-toc-modified-id=\"Save-Model-8\"><span class=\"toc-item-num\">8&nbsp;&nbsp;</span>Save Model</a></span></li><li><span><a href=\"#References\" data-toc-modified-id=\"References-9\"><span class=\"toc-item-num\">9&nbsp;&nbsp;</span>References</a></span></li></ul></div>"
   ]
  },
  {
   "attachments": {},
   "cell_type": "markdown",
   "metadata": {
    "colab_type": "text",
    "id": "Wa9xYivpD4Eo"
   },
   "source": [
    "## Introduction\n",
    "\n",
    "\n",
    "Analyze factors related to readmission as well as other outcomes pertaining to patients in order to classify a patient-hospital outcome\n",
    "\n",
    "3 different outputs:\n",
    "\n",
    "1. No readmission\n",
    "\n",
    "2. A readmission in less than `30` days (this situation is not good, because maybe your treatment was not appropriate);\n",
    "\n",
    "3. A readmission in more than 30 days (this one is not so good as well the last one, however, the reason could be the state of the patient.\n",
    "\n",
    "\n",
    "## Main Objective\n",
    "\n",
    "> **How effective was the treatment received in hospital?**\n",
    "\n",
    "## Principal References\n",
    "\n",
    "### Paper\n",
    "\n",
    "Beata Strack, Jonathan P. DeShazo, Chris Gennings, Juan L. Olmo, Sebastian Ventura, Krzysztof J. Cios, and John N. Clore, “Impact of HbA1c Measurement on Hospital Readmission Rates: Analysis of 70,000 Clinical Database Patient Records,” BioMed Research International, vol. 2014, Article ID 781670, 11 pages, 2014.\n",
    "\n",
    "https://www.hindawi.com/journals/bmri/2014/781670/\n",
    "\n",
    "### Dataset\n",
    "\n",
    "https://archive.ics.uci.edu/ml/datasets/Diabetes+130-US+hospitals+for+years+1999-2008#\n",
    "\n",
    "### Data description\n",
    "\n",
    "https://www.hindawi.com/journals/bmri/2014/781670/tab1/"
   ]
  },
  {
   "attachments": {},
   "cell_type": "markdown",
   "metadata": {
    "colab_type": "text",
    "id": "MjPWhesSHJoO"
   },
   "source": [
    "# Import libraries"
   ]
  },
  {
   "cell_type": "code",
   "execution_count": 1,
   "metadata": {
    "colab": {},
    "colab_type": "code",
    "id": "ksQYJRZTHJoP"
   },
   "outputs": [],
   "source": [
    "import pandas as pd\n",
    "import matplotlib.pyplot as plt\n",
    "\n",
    "from sklearn.model_selection import train_test_split\n",
    "from sklearn import model_selection\n",
    "import plotly.express as px"
   ]
  },
  {
   "attachments": {},
   "cell_type": "markdown",
   "metadata": {
    "colab_type": "text",
    "id": "LM4dC7lBHJoT"
   },
   "source": [
    "# Load Dataset"
   ]
  },
  {
   "cell_type": "code",
   "execution_count": 2,
   "metadata": {
    "colab": {},
    "colab_type": "code",
    "id": "R2C-zrtBHJoT"
   },
   "outputs": [],
   "source": [
    "data = pd.read_csv(\"../data/processed/data_imbalanced.csv\")"
   ]
  },
  {
   "cell_type": "code",
   "execution_count": 3,
   "metadata": {
    "colab": {},
    "colab_type": "code",
    "id": "ZYzna68bHJoW",
    "tags": []
   },
   "outputs": [
    {
     "name": "stdout",
     "output_type": "stream",
     "text": [
      "<class 'pandas.core.frame.DataFrame'>\n",
      "RangeIndex: 69948 entries, 0 to 69947\n",
      "Data columns (total 43 columns):\n",
      " #   Column                    Non-Null Count  Dtype \n",
      "---  ------                    --------------  ----- \n",
      " 0   race                      69948 non-null  object\n",
      " 1   age                       69948 non-null  object\n",
      " 2   admission_type_id         69948 non-null  int64 \n",
      " 3   discharge_disposition_id  69948 non-null  int64 \n",
      " 4   admission_source_id       69948 non-null  int64 \n",
      " 5   time_in_hospital          69948 non-null  int64 \n",
      " 6   medical_specialty         69948 non-null  object\n",
      " 7   num_lab_procedures        69948 non-null  int64 \n",
      " 8   num_procedures            69948 non-null  int64 \n",
      " 9   num_medications           69948 non-null  int64 \n",
      " 10  number_outpatient         69948 non-null  int64 \n",
      " 11  number_emergency          69948 non-null  int64 \n",
      " 12  number_inpatient          69948 non-null  int64 \n",
      " 13  diag_1                    69948 non-null  object\n",
      " 14  diag_2                    69948 non-null  object\n",
      " 15  diag_3                    69948 non-null  object\n",
      " 16  number_diagnoses          69948 non-null  int64 \n",
      " 17  max_glu_serum             69948 non-null  int64 \n",
      " 18  A1Cresult                 69948 non-null  int64 \n",
      " 19  metformin                 69948 non-null  int64 \n",
      " 20  repaglinide               69948 non-null  int64 \n",
      " 21  nateglinide               69948 non-null  int64 \n",
      " 22  chlorpropamide            69948 non-null  int64 \n",
      " 23  glimepiride               69948 non-null  int64 \n",
      " 24  acetohexamide             69948 non-null  int64 \n",
      " 25  glipizide                 69948 non-null  int64 \n",
      " 26  glyburide                 69948 non-null  int64 \n",
      " 27  tolbutamide               69948 non-null  int64 \n",
      " 28  pioglitazone              69948 non-null  int64 \n",
      " 29  rosiglitazone             69948 non-null  int64 \n",
      " 30  acarbose                  69948 non-null  int64 \n",
      " 31  miglitol                  69948 non-null  int64 \n",
      " 32  troglitazone              69948 non-null  int64 \n",
      " 33  tolazamide                69948 non-null  int64 \n",
      " 34  insulin                   69948 non-null  int64 \n",
      " 35  glyburide-metformin       69948 non-null  int64 \n",
      " 36  glipizide-metformin       69948 non-null  int64 \n",
      " 37  metformin-rosiglitazone   69948 non-null  int64 \n",
      " 38  metformin-pioglitazone    69948 non-null  int64 \n",
      " 39  change                    69948 non-null  int64 \n",
      " 40  diabetesMed               69948 non-null  int64 \n",
      " 41  readmitted                69948 non-null  int64 \n",
      " 42  numchange                 69948 non-null  int64 \n",
      "dtypes: int64(37), object(6)\n",
      "memory usage: 22.9+ MB\n"
     ]
    }
   ],
   "source": [
    "data.info()"
   ]
  },
  {
   "attachments": {},
   "cell_type": "markdown",
   "metadata": {
    "colab": {},
    "colab_type": "code",
    "id": "DsDqeIPbHJpI"
   },
   "source": [
    "## Encode categorical colums"
   ]
  },
  {
   "cell_type": "code",
   "execution_count": 4,
   "metadata": {
    "colab": {},
    "colab_type": "code",
    "id": "6cCf27oSHJpB"
   },
   "outputs": [],
   "source": [
    "cat_cols = list(data.select_dtypes('object').columns)\n",
    "class_dict = {}\n",
    "for col in cat_cols:\n",
    "    data = pd.concat([data.drop(col, axis=1), pd.get_dummies(data[col], prefix=col, drop_first=True)], axis=1)"
   ]
  },
  {
   "cell_type": "code",
   "execution_count": 5,
   "metadata": {
    "tags": []
   },
   "outputs": [
    {
     "name": "stdout",
     "output_type": "stream",
     "text": [
      "<class 'pandas.core.frame.DataFrame'>\n",
      "RangeIndex: 69948 entries, 0 to 69947\n",
      "Columns: 144 entries, admission_type_id to diag_3_Respiratory\n",
      "dtypes: int64(37), uint8(107)\n",
      "memory usage: 26.9 MB\n"
     ]
    }
   ],
   "source": [
    "data.info()"
   ]
  },
  {
   "attachments": {},
   "cell_type": "markdown",
   "metadata": {},
   "source": [
    "## Input and output data\n",
    "\n",
    "Get the names of input features and output feature"
   ]
  },
  {
   "cell_type": "code",
   "execution_count": 6,
   "metadata": {},
   "outputs": [],
   "source": [
    "X = data.drop(\"readmitted\", axis=1)\n",
    "y= data[\"readmitted\"]"
   ]
  },
  {
   "cell_type": "code",
   "execution_count": 7,
   "metadata": {},
   "outputs": [
    {
     "data": {
      "text/plain": [
       "(69948, 143)"
      ]
     },
     "execution_count": 7,
     "metadata": {},
     "output_type": "execute_result"
    }
   ],
   "source": [
    "X.shape"
   ]
  },
  {
   "cell_type": "code",
   "execution_count": 8,
   "metadata": {},
   "outputs": [
    {
     "data": {
      "text/plain": [
       "(69948,)"
      ]
     },
     "execution_count": 8,
     "metadata": {},
     "output_type": "execute_result"
    }
   ],
   "source": [
    "y.shape"
   ]
  },
  {
   "attachments": {},
   "cell_type": "markdown",
   "metadata": {},
   "source": [
    "## Split dataset 70/30\n",
    "\n",
    "70% to train the model\n",
    "30% to test the model\n",
    "\n",
    "Split data stratify = y because the dataset is imbalanced"
   ]
  },
  {
   "cell_type": "code",
   "execution_count": 9,
   "metadata": {},
   "outputs": [],
   "source": [
    "\n",
    "X_train, X_test, y_train, y_test = train_test_split(X, y, test_size=.3,random_state =123, stratify=y)"
   ]
  },
  {
   "cell_type": "code",
   "execution_count": 10,
   "metadata": {
    "tags": []
   },
   "outputs": [
    {
     "name": "stdout",
     "output_type": "stream",
     "text": [
      " Percentage of positives in test set=12.575649273290445 , train set=12.572759022118742\n"
     ]
    }
   ],
   "source": [
    "perc_test = y_test.value_counts()[1]*100/len(y_test)\n",
    "perc_train = y_train.value_counts()[1]*100/len(y_train)\n",
    "\n",
    "print(f\" Percentage of positives in test set={perc_test} , train set={perc_train}\")"
   ]
  },
  {
   "attachments": {},
   "cell_type": "markdown",
   "metadata": {},
   "source": [
    "## Balance train data\n",
    "\n",
    "First i'm gointo to evaluate simple machine learning models in the imbalance dataset"
   ]
  },
  {
   "cell_type": "code",
   "execution_count": 11,
   "metadata": {},
   "outputs": [],
   "source": [
    "from imblearn.over_sampling import SMOTE\n",
    "sm = SMOTE(random_state=27)\n",
    "X_train, y_train = sm.fit_resample(X_train, y_train)"
   ]
  },
  {
   "attachments": {},
   "cell_type": "markdown",
   "metadata": {},
   "source": [
    "# Simple BaseLine"
   ]
  },
  {
   "attachments": {},
   "cell_type": "markdown",
   "metadata": {},
   "source": [
    "<table border=\"1\" class=\"dataframe\">\n",
    "  <thead>\n",
    "    <tr style=\"text-align: right;\">\n",
    "      <th></th>\n",
    "      <th>ROC AUC</th>\n",
    "      <th>F1 Score</th>\n",
    "      <th>recall_score</th>\n",
    "      <th>Time Taken</th>\n",
    "    </tr>\n",
    "    <tr>\n",
    "      <th>Model</th>\n",
    "      <th></th>\n",
    "      <th></th>\n",
    "      <th></th>\n",
    "      <th></th>\n",
    "    </tr>\n",
    "  </thead>\n",
    "  <tbody>\n",
    "    <tr>\n",
    "      <th>NearestCentroid</th>\n",
    "      <td>0.63</td>\n",
    "      <td>0.83</td>\n",
    "      <td>0.49</td>\n",
    "      <td>0.11</td>\n",
    "    </tr>\n",
    "    <tr>\n",
    "      <th>DecisionTreeClassifier</th>\n",
    "      <td>0.53</td>\n",
    "      <td>0.92</td>\n",
    "      <td>0.12</td>\n",
    "      <td>0.28</td>\n",
    "    </tr>\n",
    "    <tr>\n",
    "      <th>LinearDiscriminantAnalysis</th>\n",
    "      <td>0.53</td>\n",
    "      <td>0.94</td>\n",
    "      <td>0.07</td>\n",
    "      <td>0.23</td>\n",
    "    </tr>\n",
    "    <tr>\n",
    "      <th>ExtraTreeClassifier</th>\n",
    "      <td>0.52</td>\n",
    "      <td>0.93</td>\n",
    "      <td>0.08</td>\n",
    "      <td>0.09</td>\n",
    "    </tr>\n",
    "    <tr>\n",
    "      <th>LabelPropagation</th>\n",
    "      <td>0.52</td>\n",
    "      <td>0.93</td>\n",
    "      <td>0.07</td>\n",
    "      <td>60.74</td>\n",
    "    </tr>\n",
    "    <tr>\n",
    "      <th>LabelSpreading</th>\n",
    "      <td>0.52</td>\n",
    "      <td>0.93</td>\n",
    "      <td>0.06</td>\n",
    "      <td>75.70</td>\n",
    "    </tr>\n",
    "    <tr>\n",
    "      <th>XGBClassifier</th>\n",
    "      <td>0.51</td>\n",
    "      <td>0.94</td>\n",
    "      <td>0.02</td>\n",
    "      <td>45.12</td>\n",
    "    </tr>\n",
    "    <tr>\n",
    "      <th>Perceptron</th>\n",
    "      <td>0.51</td>\n",
    "      <td>0.93</td>\n",
    "      <td>0.04</td>\n",
    "      <td>0.17</td>\n",
    "    </tr>\n",
    "    <tr>\n",
    "      <th>CalibratedClassifierCV</th>\n",
    "      <td>0.50</td>\n",
    "      <td>0.94</td>\n",
    "      <td>0.01</td>\n",
    "      <td>28.87</td>\n",
    "    </tr>\n",
    "    <tr>\n",
    "      <th>DummyClassifier</th>\n",
    "      <td>0.50</td>\n",
    "      <td>0.92</td>\n",
    "      <td>0.05</td>\n",
    "      <td>0.06</td>\n",
    "    </tr>\n",
    "    <tr>\n",
    "      <th>LogisticRegression</th>\n",
    "      <td>0.50</td>\n",
    "      <td>0.94</td>\n",
    "      <td>0.01</td>\n",
    "      <td>0.25</td>\n",
    "    </tr>\n",
    "    <tr>\n",
    "      <th>BaggingClassifier</th>\n",
    "      <td>0.50</td>\n",
    "      <td>0.94</td>\n",
    "      <td>0.01</td>\n",
    "      <td>1.42</td>\n",
    "    </tr>\n",
    "    <tr>\n",
    "      <th>KNeighborsClassifier</th>\n",
    "      <td>0.50</td>\n",
    "      <td>0.94</td>\n",
    "      <td>0.01</td>\n",
    "      <td>38.69</td>\n",
    "    </tr>\n",
    "    <tr>\n",
    "      <th>PassiveAggressiveClassifier</th>\n",
    "      <td>0.50</td>\n",
    "      <td>0.92</td>\n",
    "      <td>0.04</td>\n",
    "      <td>0.13</td>\n",
    "    </tr>\n",
    "    <tr>\n",
    "      <th>LGBMClassifier</th>\n",
    "      <td>0.50</td>\n",
    "      <td>0.94</td>\n",
    "      <td>0.00</td>\n",
    "      <td>82.92</td>\n",
    "    </tr>\n",
    "    <tr>\n",
    "      <th>LinearSVC</th>\n",
    "      <td>0.50</td>\n",
    "      <td>0.94</td>\n",
    "      <td>0.00</td>\n",
    "      <td>8.18</td>\n",
    "    </tr>\n",
    "    <tr>\n",
    "      <th>RidgeClassifier</th>\n",
    "      <td>0.50</td>\n",
    "      <td>0.94</td>\n",
    "      <td>0.00</td>\n",
    "      <td>0.11</td>\n",
    "    </tr>\n",
    "    <tr>\n",
    "      <th>RidgeClassifierCV</th>\n",
    "      <td>0.50</td>\n",
    "      <td>0.94</td>\n",
    "      <td>0.00</td>\n",
    "      <td>0.19</td>\n",
    "    </tr>\n",
    "    <tr>\n",
    "      <th>AdaBoostClassifier</th>\n",
    "      <td>0.50</td>\n",
    "      <td>0.94</td>\n",
    "      <td>0.00</td>\n",
    "      <td>1.32</td>\n",
    "    </tr>\n",
    "    <tr>\n",
    "      <th>GaussianNB</th>\n",
    "      <td>0.50</td>\n",
    "      <td>0.01</td>\n",
    "      <td>1.00</td>\n",
    "      <td>0.08</td>\n",
    "    </tr>\n",
    "    <tr>\n",
    "      <th>QuadraticDiscriminantAnalysis</th>\n",
    "      <td>0.50</td>\n",
    "      <td>0.01</td>\n",
    "      <td>1.00</td>\n",
    "      <td>0.18</td>\n",
    "    </tr>\n",
    "    <tr>\n",
    "      <th>CheckingClassifier</th>\n",
    "      <td>0.50</td>\n",
    "      <td>0.94</td>\n",
    "      <td>0.00</td>\n",
    "      <td>0.06</td>\n",
    "    </tr>\n",
    "    <tr>\n",
    "      <th>RandomForestClassifier</th>\n",
    "      <td>0.50</td>\n",
    "      <td>0.94</td>\n",
    "      <td>0.00</td>\n",
    "      <td>3.30</td>\n",
    "    </tr>\n",
    "    <tr>\n",
    "      <th>SGDClassifier</th>\n",
    "      <td>0.50</td>\n",
    "      <td>0.94</td>\n",
    "      <td>0.00</td>\n",
    "      <td>0.26</td>\n",
    "    </tr>\n",
    "    <tr>\n",
    "      <th>SVC</th>\n",
    "      <td>0.50</td>\n",
    "      <td>0.94</td>\n",
    "      <td>0.00</td>\n",
    "      <td>145.44</td>\n",
    "    </tr>\n",
    "    <tr>\n",
    "      <th>ExtraTreesClassifier</th>\n",
    "      <td>0.50</td>\n",
    "      <td>0.94</td>\n",
    "      <td>0.00</td>\n",
    "      <td>3.25</td>\n",
    "    </tr>\n",
    "    <tr>\n",
    "      <th>BernoulliNB</th>\n",
    "      <td>0.50</td>\n",
    "      <td>0.94</td>\n",
    "      <td>0.00</td>\n",
    "      <td>0.10</td>\n",
    "    </tr>\n",
    "  </tbody>\n",
    "</table>"
   ]
  },
  {
   "attachments": {},
   "cell_type": "markdown",
   "metadata": {},
   "source": [
    "# MODELS\n",
    "\n",
    "## Evaluation Metric\n",
    "\n",
    "The selected evaluation metric is the \n",
    "> **Recall - Sensitivity**\n",
    "\n",
    "A False Negative might delay more tests or treatment, \n",
    "however a False Positive may just lead to more tests or treatments – not as costly as putting a life at stake.\n"
   ]
  },
  {
   "cell_type": "code",
   "execution_count": 12,
   "metadata": {},
   "outputs": [],
   "source": [
    "# Evaluation\n",
    "from sklearn.metrics import accuracy_score\n",
    "from sklearn.metrics import precision_score\n",
    "from sklearn.metrics import recall_score"
   ]
  },
  {
   "attachments": {},
   "cell_type": "markdown",
   "metadata": {},
   "source": [
    "Interpretability is important so first intents will be with classic Machine Learning Models, No ensembles, No Neural Networks"
   ]
  },
  {
   "cell_type": "code",
   "execution_count": 15,
   "metadata": {},
   "outputs": [],
   "source": [
    "# Selected algorithms\n",
    "from sklearn.linear_model import LogisticRegression\n",
    "from sklearn.svm import SVC\n",
    "from sklearn.naive_bayes import GaussianNB\n",
    "from sklearn.tree import DecisionTreeClassifier"
   ]
  },
  {
   "attachments": {},
   "cell_type": "markdown",
   "metadata": {},
   "source": [
    "## Model Selection"
   ]
  },
  {
   "cell_type": "code",
   "execution_count": 16,
   "metadata": {
    "tags": []
   },
   "outputs": [
    {
     "name": "stdout",
     "output_type": "stream",
     "text": [
      "(LR, 0.8398308513270581, 0.004375900008140574\n",
      "(CART, 0.8852427760090336, 0.006005540446097928\n",
      "(NB, 0.9594630657786334, 0.003211890177287957\n"
     ]
    },
    {
     "name": "stderr",
     "output_type": "stream",
     "text": [
      "/home/joser/.cache/pypoetry/virtualenvs/readmission-ml-project-KWL3KW9z-py3.9/lib/python3.9/site-packages/sklearn/svm/_base.py:301: ConvergenceWarning: Solver terminated early (max_iter=1000).  Consider pre-processing your data with StandardScaler or MinMaxScaler.\n",
      "  warnings.warn(\n",
      "/home/joser/.cache/pypoetry/virtualenvs/readmission-ml-project-KWL3KW9z-py3.9/lib/python3.9/site-packages/sklearn/svm/_base.py:301: ConvergenceWarning: Solver terminated early (max_iter=1000).  Consider pre-processing your data with StandardScaler or MinMaxScaler.\n",
      "  warnings.warn(\n",
      "/home/joser/.cache/pypoetry/virtualenvs/readmission-ml-project-KWL3KW9z-py3.9/lib/python3.9/site-packages/sklearn/svm/_base.py:301: ConvergenceWarning: Solver terminated early (max_iter=1000).  Consider pre-processing your data with StandardScaler or MinMaxScaler.\n",
      "  warnings.warn(\n",
      "/home/joser/.cache/pypoetry/virtualenvs/readmission-ml-project-KWL3KW9z-py3.9/lib/python3.9/site-packages/sklearn/svm/_base.py:301: ConvergenceWarning: Solver terminated early (max_iter=1000).  Consider pre-processing your data with StandardScaler or MinMaxScaler.\n",
      "  warnings.warn(\n",
      "/home/joser/.cache/pypoetry/virtualenvs/readmission-ml-project-KWL3KW9z-py3.9/lib/python3.9/site-packages/sklearn/svm/_base.py:301: ConvergenceWarning: Solver terminated early (max_iter=1000).  Consider pre-processing your data with StandardScaler or MinMaxScaler.\n",
      "  warnings.warn(\n",
      "/home/joser/.cache/pypoetry/virtualenvs/readmission-ml-project-KWL3KW9z-py3.9/lib/python3.9/site-packages/sklearn/svm/_base.py:301: ConvergenceWarning: Solver terminated early (max_iter=1000).  Consider pre-processing your data with StandardScaler or MinMaxScaler.\n",
      "  warnings.warn(\n",
      "/home/joser/.cache/pypoetry/virtualenvs/readmission-ml-project-KWL3KW9z-py3.9/lib/python3.9/site-packages/sklearn/svm/_base.py:301: ConvergenceWarning: Solver terminated early (max_iter=1000).  Consider pre-processing your data with StandardScaler or MinMaxScaler.\n",
      "  warnings.warn(\n",
      "/home/joser/.cache/pypoetry/virtualenvs/readmission-ml-project-KWL3KW9z-py3.9/lib/python3.9/site-packages/sklearn/svm/_base.py:301: ConvergenceWarning: Solver terminated early (max_iter=1000).  Consider pre-processing your data with StandardScaler or MinMaxScaler.\n",
      "  warnings.warn(\n",
      "/home/joser/.cache/pypoetry/virtualenvs/readmission-ml-project-KWL3KW9z-py3.9/lib/python3.9/site-packages/sklearn/svm/_base.py:301: ConvergenceWarning: Solver terminated early (max_iter=1000).  Consider pre-processing your data with StandardScaler or MinMaxScaler.\n",
      "  warnings.warn(\n",
      "/home/joser/.cache/pypoetry/virtualenvs/readmission-ml-project-KWL3KW9z-py3.9/lib/python3.9/site-packages/sklearn/svm/_base.py:301: ConvergenceWarning: Solver terminated early (max_iter=1000).  Consider pre-processing your data with StandardScaler or MinMaxScaler.\n",
      "  warnings.warn(\n"
     ]
    },
    {
     "name": "stdout",
     "output_type": "stream",
     "text": [
      "(SVM, 0.8056011749503055, 0.04571217632901116\n"
     ]
    }
   ],
   "source": [
    "seed =2\n",
    "models = []\n",
    "#logistic Regression\n",
    "models.append(('LR', LogisticRegression(solver='liblinear')))\n",
    "\n",
    "# Decision Tree classifier\n",
    "models.append(('CART', DecisionTreeClassifier()))\n",
    "# Naïve Bayes\n",
    "models.append(('NB', GaussianNB()))\n",
    "# SVM\n",
    "models.append(('SVM', SVC(C=1.0, kernel='rbf', max_iter=1000, tol=1e-3)))\n",
    "# evaluate each model in turn\n",
    "results = []\n",
    "names = []\n",
    "scoring = 'recall'\n",
    "for name, model in models:\n",
    "\t# Kfol cross validation for model selection\n",
    "\tkfold = model_selection.KFold(n_splits=10, shuffle=True,random_state=seed)\n",
    "\t#X train , y train\n",
    "\tcv_results = model_selection.cross_val_score(model, X_train, y_train, cv=kfold, scoring=scoring)\n",
    "\tresults.append(cv_results)\n",
    "\tnames.append(name)\n",
    "\tmsg = f\"({name}, {cv_results.mean()}, {cv_results.std()}\"\n",
    "\tprint(msg)"
   ]
  },
  {
   "attachments": {},
   "cell_type": "markdown",
   "metadata": {},
   "source": [
    "## Results"
   ]
  },
  {
   "cell_type": "code",
   "execution_count": 17,
   "metadata": {
    "tags": []
   },
   "outputs": [
    {
     "data": {
      "application/vnd.plotly.v1+json": {
       "config": {
        "plotlyServerURL": "https://plotly.com"
       },
       "data": [
        {
         "alignmentgroup": "True",
         "hovertemplate": "variable=%{x}<br>value=%{y}<extra></extra>",
         "legendgroup": "",
         "marker": {
          "color": "#636efa"
         },
         "name": "",
         "notched": false,
         "offsetgroup": "",
         "orientation": "v",
         "showlegend": false,
         "type": "box",
         "x": [
          "LR",
          "LR",
          "LR",
          "LR",
          "LR",
          "LR",
          "LR",
          "LR",
          "LR",
          "LR",
          "CART",
          "CART",
          "CART",
          "CART",
          "CART",
          "CART",
          "CART",
          "CART",
          "CART",
          "CART",
          "NB",
          "NB",
          "NB",
          "NB",
          "NB",
          "NB",
          "NB",
          "NB",
          "NB",
          "NB",
          "SVM",
          "SVM",
          "SVM",
          "SVM",
          "SVM",
          "SVM",
          "SVM",
          "SVM",
          "SVM",
          "SVM"
         ],
         "x0": " ",
         "xaxis": "x",
         "y": [
          0.8356229275225012,
          0.835416175430323,
          0.83689776733255,
          0.8422018348623853,
          0.8399627820423354,
          0.8335268168098444,
          0.8471277842907385,
          0.8416819852941176,
          0.8394452280206864,
          0.8464252116650988,
          0.8872572240644244,
          0.8877623202074982,
          0.882021151586369,
          0.8770642201834863,
          0.8843917190044196,
          0.8781054097980032,
          0.897538100820633,
          0.8920036764705882,
          0.8803479078514339,
          0.8859360301034808,
          0.9639981051634297,
          0.9577929733553407,
          0.962867215041128,
          0.9614678899082569,
          0.9571993486857409,
          0.9572788483863478,
          0.9622508792497069,
          0.9528952205882353,
          0.9607428302773859,
          0.958137347130762,
          0.7920416864045476,
          0.9419948125442112,
          0.7844888366627497,
          0.7850917431192661,
          0.7915794370783903,
          0.796377989319712,
          0.7840562719812427,
          0.7902113970588235,
          0.7994828396803009,
          0.79068673565381
         ],
         "y0": " ",
         "yaxis": "y"
        }
       ],
       "layout": {
        "boxmode": "group",
        "legend": {
         "tracegroupgap": 0
        },
        "template": {
         "data": {
          "bar": [
           {
            "error_x": {
             "color": "#2a3f5f"
            },
            "error_y": {
             "color": "#2a3f5f"
            },
            "marker": {
             "line": {
              "color": "#E5ECF6",
              "width": 0.5
             },
             "pattern": {
              "fillmode": "overlay",
              "size": 10,
              "solidity": 0.2
             }
            },
            "type": "bar"
           }
          ],
          "barpolar": [
           {
            "marker": {
             "line": {
              "color": "#E5ECF6",
              "width": 0.5
             },
             "pattern": {
              "fillmode": "overlay",
              "size": 10,
              "solidity": 0.2
             }
            },
            "type": "barpolar"
           }
          ],
          "carpet": [
           {
            "aaxis": {
             "endlinecolor": "#2a3f5f",
             "gridcolor": "white",
             "linecolor": "white",
             "minorgridcolor": "white",
             "startlinecolor": "#2a3f5f"
            },
            "baxis": {
             "endlinecolor": "#2a3f5f",
             "gridcolor": "white",
             "linecolor": "white",
             "minorgridcolor": "white",
             "startlinecolor": "#2a3f5f"
            },
            "type": "carpet"
           }
          ],
          "choropleth": [
           {
            "colorbar": {
             "outlinewidth": 0,
             "ticks": ""
            },
            "type": "choropleth"
           }
          ],
          "contour": [
           {
            "colorbar": {
             "outlinewidth": 0,
             "ticks": ""
            },
            "colorscale": [
             [
              0,
              "#0d0887"
             ],
             [
              0.1111111111111111,
              "#46039f"
             ],
             [
              0.2222222222222222,
              "#7201a8"
             ],
             [
              0.3333333333333333,
              "#9c179e"
             ],
             [
              0.4444444444444444,
              "#bd3786"
             ],
             [
              0.5555555555555556,
              "#d8576b"
             ],
             [
              0.6666666666666666,
              "#ed7953"
             ],
             [
              0.7777777777777778,
              "#fb9f3a"
             ],
             [
              0.8888888888888888,
              "#fdca26"
             ],
             [
              1,
              "#f0f921"
             ]
            ],
            "type": "contour"
           }
          ],
          "contourcarpet": [
           {
            "colorbar": {
             "outlinewidth": 0,
             "ticks": ""
            },
            "type": "contourcarpet"
           }
          ],
          "heatmap": [
           {
            "colorbar": {
             "outlinewidth": 0,
             "ticks": ""
            },
            "colorscale": [
             [
              0,
              "#0d0887"
             ],
             [
              0.1111111111111111,
              "#46039f"
             ],
             [
              0.2222222222222222,
              "#7201a8"
             ],
             [
              0.3333333333333333,
              "#9c179e"
             ],
             [
              0.4444444444444444,
              "#bd3786"
             ],
             [
              0.5555555555555556,
              "#d8576b"
             ],
             [
              0.6666666666666666,
              "#ed7953"
             ],
             [
              0.7777777777777778,
              "#fb9f3a"
             ],
             [
              0.8888888888888888,
              "#fdca26"
             ],
             [
              1,
              "#f0f921"
             ]
            ],
            "type": "heatmap"
           }
          ],
          "heatmapgl": [
           {
            "colorbar": {
             "outlinewidth": 0,
             "ticks": ""
            },
            "colorscale": [
             [
              0,
              "#0d0887"
             ],
             [
              0.1111111111111111,
              "#46039f"
             ],
             [
              0.2222222222222222,
              "#7201a8"
             ],
             [
              0.3333333333333333,
              "#9c179e"
             ],
             [
              0.4444444444444444,
              "#bd3786"
             ],
             [
              0.5555555555555556,
              "#d8576b"
             ],
             [
              0.6666666666666666,
              "#ed7953"
             ],
             [
              0.7777777777777778,
              "#fb9f3a"
             ],
             [
              0.8888888888888888,
              "#fdca26"
             ],
             [
              1,
              "#f0f921"
             ]
            ],
            "type": "heatmapgl"
           }
          ],
          "histogram": [
           {
            "marker": {
             "pattern": {
              "fillmode": "overlay",
              "size": 10,
              "solidity": 0.2
             }
            },
            "type": "histogram"
           }
          ],
          "histogram2d": [
           {
            "colorbar": {
             "outlinewidth": 0,
             "ticks": ""
            },
            "colorscale": [
             [
              0,
              "#0d0887"
             ],
             [
              0.1111111111111111,
              "#46039f"
             ],
             [
              0.2222222222222222,
              "#7201a8"
             ],
             [
              0.3333333333333333,
              "#9c179e"
             ],
             [
              0.4444444444444444,
              "#bd3786"
             ],
             [
              0.5555555555555556,
              "#d8576b"
             ],
             [
              0.6666666666666666,
              "#ed7953"
             ],
             [
              0.7777777777777778,
              "#fb9f3a"
             ],
             [
              0.8888888888888888,
              "#fdca26"
             ],
             [
              1,
              "#f0f921"
             ]
            ],
            "type": "histogram2d"
           }
          ],
          "histogram2dcontour": [
           {
            "colorbar": {
             "outlinewidth": 0,
             "ticks": ""
            },
            "colorscale": [
             [
              0,
              "#0d0887"
             ],
             [
              0.1111111111111111,
              "#46039f"
             ],
             [
              0.2222222222222222,
              "#7201a8"
             ],
             [
              0.3333333333333333,
              "#9c179e"
             ],
             [
              0.4444444444444444,
              "#bd3786"
             ],
             [
              0.5555555555555556,
              "#d8576b"
             ],
             [
              0.6666666666666666,
              "#ed7953"
             ],
             [
              0.7777777777777778,
              "#fb9f3a"
             ],
             [
              0.8888888888888888,
              "#fdca26"
             ],
             [
              1,
              "#f0f921"
             ]
            ],
            "type": "histogram2dcontour"
           }
          ],
          "mesh3d": [
           {
            "colorbar": {
             "outlinewidth": 0,
             "ticks": ""
            },
            "type": "mesh3d"
           }
          ],
          "parcoords": [
           {
            "line": {
             "colorbar": {
              "outlinewidth": 0,
              "ticks": ""
             }
            },
            "type": "parcoords"
           }
          ],
          "pie": [
           {
            "automargin": true,
            "type": "pie"
           }
          ],
          "scatter": [
           {
            "fillpattern": {
             "fillmode": "overlay",
             "size": 10,
             "solidity": 0.2
            },
            "type": "scatter"
           }
          ],
          "scatter3d": [
           {
            "line": {
             "colorbar": {
              "outlinewidth": 0,
              "ticks": ""
             }
            },
            "marker": {
             "colorbar": {
              "outlinewidth": 0,
              "ticks": ""
             }
            },
            "type": "scatter3d"
           }
          ],
          "scattercarpet": [
           {
            "marker": {
             "colorbar": {
              "outlinewidth": 0,
              "ticks": ""
             }
            },
            "type": "scattercarpet"
           }
          ],
          "scattergeo": [
           {
            "marker": {
             "colorbar": {
              "outlinewidth": 0,
              "ticks": ""
             }
            },
            "type": "scattergeo"
           }
          ],
          "scattergl": [
           {
            "marker": {
             "colorbar": {
              "outlinewidth": 0,
              "ticks": ""
             }
            },
            "type": "scattergl"
           }
          ],
          "scattermapbox": [
           {
            "marker": {
             "colorbar": {
              "outlinewidth": 0,
              "ticks": ""
             }
            },
            "type": "scattermapbox"
           }
          ],
          "scatterpolar": [
           {
            "marker": {
             "colorbar": {
              "outlinewidth": 0,
              "ticks": ""
             }
            },
            "type": "scatterpolar"
           }
          ],
          "scatterpolargl": [
           {
            "marker": {
             "colorbar": {
              "outlinewidth": 0,
              "ticks": ""
             }
            },
            "type": "scatterpolargl"
           }
          ],
          "scatterternary": [
           {
            "marker": {
             "colorbar": {
              "outlinewidth": 0,
              "ticks": ""
             }
            },
            "type": "scatterternary"
           }
          ],
          "surface": [
           {
            "colorbar": {
             "outlinewidth": 0,
             "ticks": ""
            },
            "colorscale": [
             [
              0,
              "#0d0887"
             ],
             [
              0.1111111111111111,
              "#46039f"
             ],
             [
              0.2222222222222222,
              "#7201a8"
             ],
             [
              0.3333333333333333,
              "#9c179e"
             ],
             [
              0.4444444444444444,
              "#bd3786"
             ],
             [
              0.5555555555555556,
              "#d8576b"
             ],
             [
              0.6666666666666666,
              "#ed7953"
             ],
             [
              0.7777777777777778,
              "#fb9f3a"
             ],
             [
              0.8888888888888888,
              "#fdca26"
             ],
             [
              1,
              "#f0f921"
             ]
            ],
            "type": "surface"
           }
          ],
          "table": [
           {
            "cells": {
             "fill": {
              "color": "#EBF0F8"
             },
             "line": {
              "color": "white"
             }
            },
            "header": {
             "fill": {
              "color": "#C8D4E3"
             },
             "line": {
              "color": "white"
             }
            },
            "type": "table"
           }
          ]
         },
         "layout": {
          "annotationdefaults": {
           "arrowcolor": "#2a3f5f",
           "arrowhead": 0,
           "arrowwidth": 1
          },
          "autotypenumbers": "strict",
          "coloraxis": {
           "colorbar": {
            "outlinewidth": 0,
            "ticks": ""
           }
          },
          "colorscale": {
           "diverging": [
            [
             0,
             "#8e0152"
            ],
            [
             0.1,
             "#c51b7d"
            ],
            [
             0.2,
             "#de77ae"
            ],
            [
             0.3,
             "#f1b6da"
            ],
            [
             0.4,
             "#fde0ef"
            ],
            [
             0.5,
             "#f7f7f7"
            ],
            [
             0.6,
             "#e6f5d0"
            ],
            [
             0.7,
             "#b8e186"
            ],
            [
             0.8,
             "#7fbc41"
            ],
            [
             0.9,
             "#4d9221"
            ],
            [
             1,
             "#276419"
            ]
           ],
           "sequential": [
            [
             0,
             "#0d0887"
            ],
            [
             0.1111111111111111,
             "#46039f"
            ],
            [
             0.2222222222222222,
             "#7201a8"
            ],
            [
             0.3333333333333333,
             "#9c179e"
            ],
            [
             0.4444444444444444,
             "#bd3786"
            ],
            [
             0.5555555555555556,
             "#d8576b"
            ],
            [
             0.6666666666666666,
             "#ed7953"
            ],
            [
             0.7777777777777778,
             "#fb9f3a"
            ],
            [
             0.8888888888888888,
             "#fdca26"
            ],
            [
             1,
             "#f0f921"
            ]
           ],
           "sequentialminus": [
            [
             0,
             "#0d0887"
            ],
            [
             0.1111111111111111,
             "#46039f"
            ],
            [
             0.2222222222222222,
             "#7201a8"
            ],
            [
             0.3333333333333333,
             "#9c179e"
            ],
            [
             0.4444444444444444,
             "#bd3786"
            ],
            [
             0.5555555555555556,
             "#d8576b"
            ],
            [
             0.6666666666666666,
             "#ed7953"
            ],
            [
             0.7777777777777778,
             "#fb9f3a"
            ],
            [
             0.8888888888888888,
             "#fdca26"
            ],
            [
             1,
             "#f0f921"
            ]
           ]
          },
          "colorway": [
           "#636efa",
           "#EF553B",
           "#00cc96",
           "#ab63fa",
           "#FFA15A",
           "#19d3f3",
           "#FF6692",
           "#B6E880",
           "#FF97FF",
           "#FECB52"
          ],
          "font": {
           "color": "#2a3f5f"
          },
          "geo": {
           "bgcolor": "white",
           "lakecolor": "white",
           "landcolor": "#E5ECF6",
           "showlakes": true,
           "showland": true,
           "subunitcolor": "white"
          },
          "hoverlabel": {
           "align": "left"
          },
          "hovermode": "closest",
          "mapbox": {
           "style": "light"
          },
          "paper_bgcolor": "white",
          "plot_bgcolor": "#E5ECF6",
          "polar": {
           "angularaxis": {
            "gridcolor": "white",
            "linecolor": "white",
            "ticks": ""
           },
           "bgcolor": "#E5ECF6",
           "radialaxis": {
            "gridcolor": "white",
            "linecolor": "white",
            "ticks": ""
           }
          },
          "scene": {
           "xaxis": {
            "backgroundcolor": "#E5ECF6",
            "gridcolor": "white",
            "gridwidth": 2,
            "linecolor": "white",
            "showbackground": true,
            "ticks": "",
            "zerolinecolor": "white"
           },
           "yaxis": {
            "backgroundcolor": "#E5ECF6",
            "gridcolor": "white",
            "gridwidth": 2,
            "linecolor": "white",
            "showbackground": true,
            "ticks": "",
            "zerolinecolor": "white"
           },
           "zaxis": {
            "backgroundcolor": "#E5ECF6",
            "gridcolor": "white",
            "gridwidth": 2,
            "linecolor": "white",
            "showbackground": true,
            "ticks": "",
            "zerolinecolor": "white"
           }
          },
          "shapedefaults": {
           "line": {
            "color": "#2a3f5f"
           }
          },
          "ternary": {
           "aaxis": {
            "gridcolor": "white",
            "linecolor": "white",
            "ticks": ""
           },
           "baxis": {
            "gridcolor": "white",
            "linecolor": "white",
            "ticks": ""
           },
           "bgcolor": "#E5ECF6",
           "caxis": {
            "gridcolor": "white",
            "linecolor": "white",
            "ticks": ""
           }
          },
          "title": {
           "x": 0.05
          },
          "xaxis": {
           "automargin": true,
           "gridcolor": "white",
           "linecolor": "white",
           "ticks": "",
           "title": {
            "standoff": 15
           },
           "zerolinecolor": "white",
           "zerolinewidth": 2
          },
          "yaxis": {
           "automargin": true,
           "gridcolor": "white",
           "linecolor": "white",
           "ticks": "",
           "title": {
            "standoff": 15
           },
           "zerolinecolor": "white",
           "zerolinewidth": 2
          }
         }
        },
        "title": {
         "text": "Algorithm Comparison"
        },
        "xaxis": {
         "anchor": "y",
         "domain": [
          0,
          1
         ],
         "title": {
          "text": "variable"
         }
        },
        "yaxis": {
         "anchor": "x",
         "domain": [
          0,
          1
         ],
         "title": {
          "text": "value"
         }
        }
       }
      }
     },
     "metadata": {},
     "output_type": "display_data"
    }
   ],
   "source": [
    "result_df = pd.DataFrame(results, index=names).T\n",
    "px.box(result_df,title = 'Algorithm Comparison')"
   ]
  },
  {
   "attachments": {},
   "cell_type": "markdown",
   "metadata": {},
   "source": [
    "# Hyper Parameter optimization\n"
   ]
  },
  {
   "cell_type": "code",
   "execution_count": 18,
   "metadata": {},
   "outputs": [],
   "source": [
    "from sklearn.model_selection import GridSearchCV"
   ]
  },
  {
   "cell_type": "code",
   "execution_count": 19,
   "metadata": {},
   "outputs": [
    {
     "data": {
      "text/plain": [
       "0    0.874264\n",
       "1    0.125736\n",
       "Name: readmitted, dtype: float64"
      ]
     },
     "execution_count": 19,
     "metadata": {},
     "output_type": "execute_result"
    }
   ],
   "source": [
    "#priors calculation\n",
    "y.value_counts()/len(y)"
   ]
  },
  {
   "cell_type": "code",
   "execution_count": 20,
   "metadata": {},
   "outputs": [],
   "source": [
    "a,b = y.value_counts()/len(y)"
   ]
  },
  {
   "cell_type": "code",
   "execution_count": 21,
   "metadata": {},
   "outputs": [
    {
     "data": {
      "text/plain": [
       "{'priors': [0.8742637387773775, 0.12573626122262252]}"
      ]
     },
     "execution_count": 21,
     "metadata": {},
     "output_type": "execute_result"
    }
   ],
   "source": [
    "\n",
    "parameters = {'priors': [None, [a,b]]}\n",
    "\n",
    "grid_search = GridSearchCV(GaussianNB(), parameters, cv=10, return_train_score=True)\n",
    "grid_search.fit(X_train, y_train)\n",
    "\n",
    "grid_search.best_params_"
   ]
  },
  {
   "cell_type": "code",
   "execution_count": 22,
   "metadata": {},
   "outputs": [
    {
     "data": {
      "text/plain": [
       "0.6188017216867145"
      ]
     },
     "execution_count": 22,
     "metadata": {},
     "output_type": "execute_result"
    }
   ],
   "source": [
    "grid_search.best_score_"
   ]
  },
  {
   "cell_type": "code",
   "execution_count": 23,
   "metadata": {},
   "outputs": [],
   "source": [
    "NB_best = grid_search.best_estimator_"
   ]
  },
  {
   "attachments": {},
   "cell_type": "markdown",
   "metadata": {},
   "source": [
    "# Final evaluation Test set"
   ]
  },
  {
   "cell_type": "code",
   "execution_count": 24,
   "metadata": {},
   "outputs": [],
   "source": [
    "from sklearn.metrics import plot_confusion_matrix\n",
    "from sklearn.metrics import classification_report\n",
    "from sklearn.metrics import confusion_matrix"
   ]
  },
  {
   "attachments": {},
   "cell_type": "markdown",
   "metadata": {},
   "source": [
    "## Naïve Bayes"
   ]
  },
  {
   "cell_type": "code",
   "execution_count": 25,
   "metadata": {},
   "outputs": [],
   "source": [
    "NB_best.fit(X_train,y_train)\n",
    "y_pred = NB_best.predict(X_test)"
   ]
  },
  {
   "cell_type": "code",
   "execution_count": 26,
   "metadata": {
    "tags": []
   },
   "outputs": [
    {
     "name": "stdout",
     "output_type": "stream",
     "text": [
      "              precision    recall  f1-score   support\n",
      "\n",
      "           0       0.88      0.29      0.43     18346\n",
      "           1       0.13      0.74      0.22      2639\n",
      "\n",
      "    accuracy                           0.34     20985\n",
      "   macro avg       0.51      0.51      0.33     20985\n",
      "weighted avg       0.79      0.34      0.41     20985\n",
      "\n"
     ]
    }
   ],
   "source": [
    "print(classification_report(y_test, y_pred))"
   ]
  },
  {
   "cell_type": "code",
   "execution_count": 27,
   "metadata": {},
   "outputs": [
    {
     "name": "stderr",
     "output_type": "stream",
     "text": [
      "/home/joser/.cache/pypoetry/virtualenvs/readmission-ml-project-KWL3KW9z-py3.9/lib/python3.9/site-packages/sklearn/utils/deprecation.py:87: FutureWarning:\n",
      "\n",
      "Function plot_confusion_matrix is deprecated; Function `plot_confusion_matrix` is deprecated in 1.0 and will be removed in 1.2. Use one of the class methods: ConfusionMatrixDisplay.from_predictions or ConfusionMatrixDisplay.from_estimator.\n",
      "\n"
     ]
    },
    {
     "data": {
      "image/png": "[encoded data removed]",
      "text/plain": [
       "<Figure size 640x480 with 2 Axes>"
      ]
     },
     "metadata": {},
     "output_type": "display_data"
    }
   ],
   "source": [
    "plot_confusion_matrix(NB_best, X_test, y_test,cmap=plt.cm.Blues); "
   ]
  },
  {
   "cell_type": "code",
   "execution_count": 28,
   "metadata": {},
   "outputs": [
    {
     "data": {
      "text/plain": [
       "0.7362637362637363"
      ]
     },
     "execution_count": 28,
     "metadata": {},
     "output_type": "execute_result"
    }
   ],
   "source": [
    "tn, fp, fn, tp = confusion_matrix(y_test, y_pred).ravel()\n",
    "sensitivity = tp / (tp+fn)\n",
    "sensitivity"
   ]
  },
  {
   "attachments": {},
   "cell_type": "markdown",
   "metadata": {},
   "source": [
    "# Save Model"
   ]
  },
  {
   "cell_type": "code",
   "execution_count": 30,
   "metadata": {},
   "outputs": [
    {
     "data": {
      "text/plain": [
       "['../models/NB_balance_recall.joblib']"
      ]
     },
     "execution_count": 30,
     "metadata": {},
     "output_type": "execute_result"
    }
   ],
   "source": [
    "from joblib import dump # libreria de serializacion\n",
    "\n",
    "# garbar el modelo en un archivo\n",
    "dump(NB_best, '../models/NB_balance_recall.joblib')"
   ]
  },
  {
   "attachments": {},
   "cell_type": "markdown",
   "metadata": {},
   "source": [
    "The model created with the imbalanced data has better sensitivity"
   ]
  },
  {
   "attachments": {},
   "cell_type": "markdown",
   "metadata": {},
   "source": [
    "# References\n",
    "\n",
    "- Correction to: Hospital Readmission of Patients with Diabetes - https://link.springer.com/article/10.1007/s11892-018-0989-1\n",
    "\n",
    "- Center for disease control and prevention, Diabetes atlas- https://gis.cdc.gov/grasp/diabetes/DiabetesAtlas.html\n",
    "\n",
    "- https://medium.com/@joserzapata/paso-a-paso-en-un-proyecto-machine-learning-bcdd0939d387\n",
    "- [a-complete-machine-learning-walk-through-in-python-part-one](https://towardsdatascience.com/a-complete-machine-learning-walk-through-in-python-part-one-c62152f39420)\n",
    "\n",
    "- https://www.kaggle.com/vignesh1609/readmission-classification-model\n",
    "\n",
    "- https://www.kaggle.com/kavyarall/predicting-effective-treatments/"
   ]
  },
  {
   "attachments": {},
   "cell_type": "markdown",
   "metadata": {},
   "source": [
    "[Jose R. Zapata](https://joserzapata.github.io)\n",
    "- https://joserzapata.github.io\n",
    "- https://twitter.com/joserzapata\n",
    "- https://www.linkedin.com/in/jose-ricardo-zapata-gonzalez/   "
   ]
  }
 ],
 "metadata": {
  "colab": {
   "collapsed_sections": [
    "mXQHmtMbHJoh",
    "3aVUkwJVHJom",
    "9SfZHh6oHJor",
    "1S_iRK8rHJo0",
    "Ey5Lk8evHJo3",
    "0Y0UV-GVHJo6",
    "he4lxsEUHJpM",
    "h0FKIrJHHJpO",
    "jYPdefrhHJpS",
    "zUundEM6HJpT",
    "2GNrgJzHHJpW",
    "uRwep7LjHJpZ",
    "JCcM4XFbHJpd"
   ],
   "name": "Trabajo_Preparacion_Datos_JoseR_Zapata.ipynb",
   "provenance": []
  },
  "kernelspec": {
   "display_name": "Python 3",
   "language": "python",
   "name": "python3"
  },
  "language_info": {
   "codemirror_mode": {
    "name": "ipython",
    "version": 3
   },
   "file_extension": ".py",
   "mimetype": "text/x-python",
   "name": "python",
   "nbconvert_exporter": "python",
   "pygments_lexer": "ipython3",
   "version": "3.9.16"
  },
  "nbTranslate": {
   "displayLangs": [
    "es",
    "en"
   ],
   "hotkey": "alt-t",
   "langInMainMenu": true,
   "sourceLang": "en",
   "targetLang": "es",
   "useGoogleTranslate": true
  },
  "toc": {
   "base_numbering": 1,
   "nav_menu": {},
   "number_sections": true,
   "sideBar": true,
   "skip_h1_title": false,
   "title_cell": "Contenido",
   "title_sidebar": "Contenido",
   "toc_cell": true,
   "toc_position": {},
   "toc_section_display": true,
   "toc_window_display": false
  },
  "varInspector": {
   "cols": {
    "lenName": 16,
    "lenType": 16,
    "lenVar": 40
   },
   "kernels_config": {
    "python": {
     "delete_cmd_postfix": "",
     "delete_cmd_prefix": "del ",
     "library": "var_list.py",
     "varRefreshCmd": "print(var_dic_list())"
    },
    "r": {
     "delete_cmd_postfix": ") ",
     "delete_cmd_prefix": "rm(",
     "library": "var_list.r",
     "varRefreshCmd": "cat(var_dic_list()) "
    }
   },
   "types_to_exclude": [
    "module",
    "function",
    "builtin_function_or_method",
    "instance",
    "_Feature"
   ],
   "window_display": false
  }
 },
 "nbformat": 4,
 "nbformat_minor": 4
}
